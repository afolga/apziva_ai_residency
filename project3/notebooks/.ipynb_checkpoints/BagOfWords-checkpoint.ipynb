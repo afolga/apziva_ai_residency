{
 "cells": [
  {
   "cell_type": "code",
   "execution_count": 6,
   "id": "235251d4",
   "metadata": {},
   "outputs": [],
   "source": [
    "import numpy as np \n",
    "import pandas as pd \n",
    "import sklearn\n",
    "import matplotlib.pyplot as plt \n",
    "from sklearn.feature_extraction.text import CountVectorizer\n",
    "from sklearn.metrics import confusion_matrix\n",
    "from sklearn.model_selection import GridSearchCV\n",
    "from sklearn.model_selection import train_test_split\n",
    "from sklearn.model_selection import cross_val_score\n",
    "from sklearn.linear_model import LogisticRegression\n",
    "from sklearn.naive_bayes import MultinomialNB\n",
    "from sklearn.ensemble import RandomForestClassifier"
   ]
  },
  {
   "cell_type": "code",
   "execution_count": 7,
   "id": "a89d3f44",
   "metadata": {},
   "outputs": [],
   "source": [
    "bag=['Aspiring' , 'human', 'resources', 'seeking', 'human', 'resources']"
   ]
  },
  {
   "cell_type": "code",
   "execution_count": 18,
   "id": "298c97aa",
   "metadata": {},
   "outputs": [],
   "source": [
    "data= pd.read_csv(\"C:\\\\Users\\\\agnes\\\\Documents\\\\apziva_ai_residency\\\\project3\\\\data\\\\potential-talents.csv\")\n",
    "words=data.job_title"
   ]
  },
  {
   "cell_type": "code",
   "execution_count": 11,
   "id": "ea0ff39f",
   "metadata": {},
   "outputs": [],
   "source": [
    "vect=CountVectorizer()"
   ]
  },
  {
   "cell_type": "code",
   "execution_count": 20,
   "id": "91ec188d",
   "metadata": {},
   "outputs": [
    {
     "data": {
      "text/html": [
       "<style>#sk-container-id-2 {color: black;}#sk-container-id-2 pre{padding: 0;}#sk-container-id-2 div.sk-toggleable {background-color: white;}#sk-container-id-2 label.sk-toggleable__label {cursor: pointer;display: block;width: 100%;margin-bottom: 0;padding: 0.3em;box-sizing: border-box;text-align: center;}#sk-container-id-2 label.sk-toggleable__label-arrow:before {content: \"▸\";float: left;margin-right: 0.25em;color: #696969;}#sk-container-id-2 label.sk-toggleable__label-arrow:hover:before {color: black;}#sk-container-id-2 div.sk-estimator:hover label.sk-toggleable__label-arrow:before {color: black;}#sk-container-id-2 div.sk-toggleable__content {max-height: 0;max-width: 0;overflow: hidden;text-align: left;background-color: #f0f8ff;}#sk-container-id-2 div.sk-toggleable__content pre {margin: 0.2em;color: black;border-radius: 0.25em;background-color: #f0f8ff;}#sk-container-id-2 input.sk-toggleable__control:checked~div.sk-toggleable__content {max-height: 200px;max-width: 100%;overflow: auto;}#sk-container-id-2 input.sk-toggleable__control:checked~label.sk-toggleable__label-arrow:before {content: \"▾\";}#sk-container-id-2 div.sk-estimator input.sk-toggleable__control:checked~label.sk-toggleable__label {background-color: #d4ebff;}#sk-container-id-2 div.sk-label input.sk-toggleable__control:checked~label.sk-toggleable__label {background-color: #d4ebff;}#sk-container-id-2 input.sk-hidden--visually {border: 0;clip: rect(1px 1px 1px 1px);clip: rect(1px, 1px, 1px, 1px);height: 1px;margin: -1px;overflow: hidden;padding: 0;position: absolute;width: 1px;}#sk-container-id-2 div.sk-estimator {font-family: monospace;background-color: #f0f8ff;border: 1px dotted black;border-radius: 0.25em;box-sizing: border-box;margin-bottom: 0.5em;}#sk-container-id-2 div.sk-estimator:hover {background-color: #d4ebff;}#sk-container-id-2 div.sk-parallel-item::after {content: \"\";width: 100%;border-bottom: 1px solid gray;flex-grow: 1;}#sk-container-id-2 div.sk-label:hover label.sk-toggleable__label {background-color: #d4ebff;}#sk-container-id-2 div.sk-serial::before {content: \"\";position: absolute;border-left: 1px solid gray;box-sizing: border-box;top: 0;bottom: 0;left: 50%;z-index: 0;}#sk-container-id-2 div.sk-serial {display: flex;flex-direction: column;align-items: center;background-color: white;padding-right: 0.2em;padding-left: 0.2em;position: relative;}#sk-container-id-2 div.sk-item {position: relative;z-index: 1;}#sk-container-id-2 div.sk-parallel {display: flex;align-items: stretch;justify-content: center;background-color: white;position: relative;}#sk-container-id-2 div.sk-item::before, #sk-container-id-2 div.sk-parallel-item::before {content: \"\";position: absolute;border-left: 1px solid gray;box-sizing: border-box;top: 0;bottom: 0;left: 50%;z-index: -1;}#sk-container-id-2 div.sk-parallel-item {display: flex;flex-direction: column;z-index: 1;position: relative;background-color: white;}#sk-container-id-2 div.sk-parallel-item:first-child::after {align-self: flex-end;width: 50%;}#sk-container-id-2 div.sk-parallel-item:last-child::after {align-self: flex-start;width: 50%;}#sk-container-id-2 div.sk-parallel-item:only-child::after {width: 0;}#sk-container-id-2 div.sk-dashed-wrapped {border: 1px dashed gray;margin: 0 0.4em 0.5em 0.4em;box-sizing: border-box;padding-bottom: 0.4em;background-color: white;}#sk-container-id-2 div.sk-label label {font-family: monospace;font-weight: bold;display: inline-block;line-height: 1.2em;}#sk-container-id-2 div.sk-label-container {text-align: center;}#sk-container-id-2 div.sk-container {/* jupyter's `normalize.less` sets `[hidden] { display: none; }` but bootstrap.min.css set `[hidden] { display: none !important; }` so we also need the `!important` here to be able to override the default hidden behavior on the sphinx rendered scikit-learn.org. See: https://github.com/scikit-learn/scikit-learn/issues/21755 */display: inline-block !important;position: relative;}#sk-container-id-2 div.sk-text-repr-fallback {display: none;}</style><div id=\"sk-container-id-2\" class=\"sk-top-container\"><div class=\"sk-text-repr-fallback\"><pre>CountVectorizer()</pre><b>In a Jupyter environment, please rerun this cell to show the HTML representation or trust the notebook. <br />On GitHub, the HTML representation is unable to render, please try loading this page with nbviewer.org.</b></div><div class=\"sk-container\" hidden><div class=\"sk-item\"><div class=\"sk-estimator sk-toggleable\"><input class=\"sk-toggleable__control sk-hidden--visually\" id=\"sk-estimator-id-2\" type=\"checkbox\" checked><label for=\"sk-estimator-id-2\" class=\"sk-toggleable__label sk-toggleable__label-arrow\">CountVectorizer</label><div class=\"sk-toggleable__content\"><pre>CountVectorizer()</pre></div></div></div></div></div>"
      ],
      "text/plain": [
       "CountVectorizer()"
      ]
     },
     "execution_count": 20,
     "metadata": {},
     "output_type": "execute_result"
    }
   ],
   "source": [
    "vect.fit(words)"
   ]
  },
  {
   "cell_type": "code",
   "execution_count": 21,
   "id": "a3945a0d",
   "metadata": {},
   "outputs": [
    {
     "name": "stdout",
     "output_type": "stream",
     "text": [
      "Vocab size:200\n"
     ]
    }
   ],
   "source": [
    "print('Vocab size:{}'.format(len(vect.vocabulary_)))"
   ]
  },
  {
   "cell_type": "code",
   "execution_count": 22,
   "id": "0f3333c4",
   "metadata": {},
   "outputs": [],
   "source": [
    "bag_of_words=vect.transform(words)"
   ]
  },
  {
   "cell_type": "code",
   "execution_count": 23,
   "id": "8c788d85",
   "metadata": {},
   "outputs": [
    {
     "name": "stdout",
     "output_type": "stream",
     "text": [
      "  (0, 0)\t1\n",
      "  (0, 15)\t1\n",
      "  (0, 18)\t1\n",
      "  (0, 23)\t1\n",
      "  (0, 32)\t1\n",
      "  (0, 38)\t1\n",
      "  (0, 46)\t1\n",
      "  (0, 74)\t1\n",
      "  (0, 84)\t1\n",
      "  (0, 103)\t1\n",
      "  (0, 114)\t1\n",
      "  (0, 127)\t1\n",
      "  (0, 146)\t1\n",
      "  (0, 155)\t1\n",
      "  (1, 20)\t1\n",
      "  (1, 59)\t2\n",
      "  (1, 63)\t1\n",
      "  (1, 87)\t1\n",
      "  (1, 101)\t1\n",
      "  (1, 124)\t1\n",
      "  (1, 148)\t1\n",
      "  (1, 180)\t1\n",
      "  (2, 18)\t1\n",
      "  (2, 84)\t1\n",
      "  (2, 146)\t1\n",
      "  :\t:\n",
      "  (99, 163)\t1\n",
      "  (99, 171)\t1\n",
      "  (100, 20)\t1\n",
      "  (100, 71)\t1\n",
      "  (100, 84)\t1\n",
      "  (100, 110)\t1\n",
      "  (100, 155)\t1\n",
      "  (101, 14)\t1\n",
      "  (101, 15)\t1\n",
      "  (101, 20)\t1\n",
      "  (101, 32)\t1\n",
      "  (101, 92)\t1\n",
      "  (101, 187)\t1\n",
      "  (102, 10)\t1\n",
      "  (102, 69)\t1\n",
      "  (102, 166)\t1\n",
      "  (102, 176)\t1\n",
      "  (102, 183)\t1\n",
      "  (102, 190)\t1\n",
      "  (103, 6)\t1\n",
      "  (103, 20)\t1\n",
      "  (103, 51)\t1\n",
      "  (103, 64)\t1\n",
      "  (103, 108)\t1\n",
      "  (103, 127)\t1\n"
     ]
    }
   ],
   "source": [
    "print(bag_of_words)"
   ]
  },
  {
   "cell_type": "code",
   "execution_count": 25,
   "id": "9278761f",
   "metadata": {},
   "outputs": [
    {
     "name": "stdout",
     "output_type": "stream",
     "text": [
      "bag of words as an arrzy:\n",
      "[[1 0 0 ... 0 0 0]\n",
      " [0 0 0 ... 0 0 0]\n",
      " [0 0 0 ... 0 0 0]\n",
      " ...\n",
      " [0 0 0 ... 0 0 0]\n",
      " [0 0 0 ... 0 0 0]\n",
      " [0 0 0 ... 0 0 0]]\n"
     ]
    }
   ],
   "source": [
    "print('bag of words as an arrzy:\\n{}'.format(bag_of_words.toarray()))"
   ]
  },
  {
   "cell_type": "code",
   "execution_count": 27,
   "id": "fcf2e960",
   "metadata": {},
   "outputs": [
    {
     "data": {
      "text/plain": [
       "array(['2019', '2020', '2621', '408', '709', 'about', 'administration',\n",
       "       'administrative', 'admissions', 'advisory', 'always', 'america',\n",
       "       'an', 'analyst', 'analytics', 'and', 'army', 'arts', 'aspiring',\n",
       "       'assistant', 'at', 'atlanta', 'bachelor', 'bauer', 'bayar',\n",
       "       'beach', 'benefits', 'beneteau', 'biology', 'board', 'brand',\n",
       "       'buckhead', 'business', 'care', 'celal', 'center', 'chapman',\n",
       "       'chro', 'college', 'communications', 'community', 'compensation',\n",
       "       'conflict', 'coordinator', 'create', 'csr', 'cum', 'customer',\n",
       "       'data', 'delphi', 'development', 'director', 'employment',\n",
       "       'endemol', 'energetic', 'energy', 'engaging', 'engie', 'engineer',\n",
       "       'english', 'entry', 'environment', 'environmental', 'epik',\n",
       "       'excellence', 'executive', 'experienced', 'ey', 'focused', 'for',\n",
       "       'from', 'generalist', 'gis', 'gphr', 'graduate', 'graduating',\n",
       "       'groupe', 'guard', 'hardware', 'heil', 'helping', 'houston', 'hr',\n",
       "       'hris', 'human', 'humber', 'illinois', 'in', 'inc', 'inclusive',\n",
       "       'indiana', 'information', 'intelligence', 'intercontinental',\n",
       "       'international', 'internship', 'is', 'japan', 'jti', 'junior',\n",
       "       'kokomo', 'korea', 'lab', 'laude', 'lead', 'leader', 'level',\n",
       "       'liberal', 'logging', 'long', 'loparex', 'louis', 'love',\n",
       "       'luxottica', 'magna', 'major', 'management', 'manager',\n",
       "       'marketing', 'may', 'medical', 'member', 'mes', 'national',\n",
       "       'native', 'north', 'nortia', 'of', 'office', 'officer', 'official',\n",
       "       'open', 'opportunities', 'or', 'organization', 'paint', 'partner',\n",
       "       'passionate', 'patient', 'payroll', 'people', 'policies',\n",
       "       'portfolio', 'position', 'positions', 'procedures', 'professional',\n",
       "       'professionals', 'program', 'programmer', 'recruiter',\n",
       "       'recruiting', 'relocation', 'representative', 'research',\n",
       "       'resources', 'retail', 'retired', 'rrp', 'ryan', 'schwan',\n",
       "       'science', 'scottmadden', 'seeking', 'senior', 'service', 'set',\n",
       "       'shine', 'software', 'specialist', 'sphr', 'st', 'staffing',\n",
       "       'state', 'student', 'styczynski', 'success', 'svp', 'systems',\n",
       "       'talent', 'teacher', 'team', 'the', 'them', 'to', 'tobacco',\n",
       "       'travel', 'travelers', 'undergraduate', 'university', 'up',\n",
       "       'victoria', 'wellington', 'western', 'westfield', 'with', 'within',\n",
       "       'woodlands', 'work', 'world'], dtype=object)"
      ]
     },
     "execution_count": 27,
     "metadata": {},
     "output_type": "execute_result"
    }
   ],
   "source": [
    "vect.get_feature_names_out()"
   ]
  },
  {
   "cell_type": "code",
   "execution_count": 28,
   "id": "d29fadf5",
   "metadata": {},
   "outputs": [
    {
     "ename": "NameError",
     "evalue": "name 'vectorizer' is not defined",
     "output_type": "error",
     "traceback": [
      "\u001b[1;31m---------------------------------------------------------------------------\u001b[0m",
      "\u001b[1;31mNameError\u001b[0m                                 Traceback (most recent call last)",
      "\u001b[1;32m~\\AppData\\Local\\Temp/ipykernel_14712/3560575787.py\u001b[0m in \u001b[0;36m<module>\u001b[1;34m\u001b[0m\n\u001b[1;32m----> 1\u001b[1;33m \u001b[0mvectorizer\u001b[0m\u001b[1;33m.\u001b[0m\u001b[0mvocabulary_\u001b[0m\u001b[1;33m\u001b[0m\u001b[1;33m\u001b[0m\u001b[0m\n\u001b[0m",
      "\u001b[1;31mNameError\u001b[0m: name 'vectorizer' is not defined"
     ]
    }
   ],
   "source": [
    "vect.vocabulary_"
   ]
  },
  {
   "cell_type": "code",
   "execution_count": null,
   "id": "6de0afc9",
   "metadata": {},
   "outputs": [],
   "source": []
  }
 ],
 "metadata": {
  "kernelspec": {
   "display_name": "Python 3 (ipykernel)",
   "language": "python",
   "name": "python3"
  },
  "language_info": {
   "codemirror_mode": {
    "name": "ipython",
    "version": 3
   },
   "file_extension": ".py",
   "mimetype": "text/x-python",
   "name": "python",
   "nbconvert_exporter": "python",
   "pygments_lexer": "ipython3",
   "version": "3.9.7"
  }
 },
 "nbformat": 4,
 "nbformat_minor": 5
}
