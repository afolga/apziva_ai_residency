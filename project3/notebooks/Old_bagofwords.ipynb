{
 "cells": [
  {
   "cell_type": "code",
   "execution_count": 6,
   "id": "235251d4",
   "metadata": {},
   "outputs": [],
   "source": [
    "import numpy as np \n",
    "import pandas as pd \n",
    "import sklearn\n",
    "import matplotlib.pyplot as plt \n",
    "from sklearn.feature_extraction.text import CountVectorizer\n",
    "from sklearn.metrics import confusion_matrix\n",
    "from sklearn.model_selection import GridSearchCV\n",
    "from sklearn.model_selection import train_test_split\n",
    "from sklearn.model_selection import cross_val_score\n",
    "from sklearn.linear_model import LogisticRegression\n",
    "from sklearn.naive_bayes import MultinomialNB\n",
    "from sklearn.ensemble import RandomForestClassifier"
   ]
  },
  {
   "cell_type": "code",
   "execution_count": 7,
   "id": "a89d3f44",
   "metadata": {},
   "outputs": [],
   "source": [
    "bag=['Aspiring' , 'human', 'resources', 'seeking', 'human', 'resources']"
   ]
  },
  {
   "cell_type": "code",
   "execution_count": 18,
   "id": "298c97aa",
   "metadata": {},
   "outputs": [],
   "source": [
    "data= pd.read_csv(\"C:\\\\Users\\\\agnes\\\\Documents\\\\apziva_ai_residency\\\\project3\\\\data\\\\potential-talents.csv\")\n",
    "words=data.job_title"
   ]
  },
  {
   "cell_type": "code",
   "execution_count": 11,
   "id": "e4d65ed8",
   "metadata": {},
   "outputs": [],
   "source": [
    "vect=CountVectorizer()"
   ]
  },
  {
   "cell_type": "code",
   "execution_count": 20,
   "id": "bfe99963",
   "metadata": {},
   "outputs": [
    {
     "data": {
      "text/html": [
       "<style>#sk-container-id-2 {color: black;}#sk-container-id-2 pre{padding: 0;}#sk-container-id-2 div.sk-toggleable {background-color: white;}#sk-container-id-2 label.sk-toggleable__label {cursor: pointer;display: block;width: 100%;margin-bottom: 0;padding: 0.3em;box-sizing: border-box;text-align: center;}#sk-container-id-2 label.sk-toggleable__label-arrow:before {content: \"▸\";float: left;margin-right: 0.25em;color: #696969;}#sk-container-id-2 label.sk-toggleable__label-arrow:hover:before {color: black;}#sk-container-id-2 div.sk-estimator:hover label.sk-toggleable__label-arrow:before {color: black;}#sk-container-id-2 div.sk-toggleable__content {max-height: 0;max-width: 0;overflow: hidden;text-align: left;background-color: #f0f8ff;}#sk-container-id-2 div.sk-toggleable__content pre {margin: 0.2em;color: black;border-radius: 0.25em;background-color: #f0f8ff;}#sk-container-id-2 input.sk-toggleable__control:checked~div.sk-toggleable__content {max-height: 200px;max-width: 100%;overflow: auto;}#sk-container-id-2 input.sk-toggleable__control:checked~label.sk-toggleable__label-arrow:before {content: \"▾\";}#sk-container-id-2 div.sk-estimator input.sk-toggleable__control:checked~label.sk-toggleable__label {background-color: #d4ebff;}#sk-container-id-2 div.sk-label input.sk-toggleable__control:checked~label.sk-toggleable__label {background-color: #d4ebff;}#sk-container-id-2 input.sk-hidden--visually {border: 0;clip: rect(1px 1px 1px 1px);clip: rect(1px, 1px, 1px, 1px);height: 1px;margin: -1px;overflow: hidden;padding: 0;position: absolute;width: 1px;}#sk-container-id-2 div.sk-estimator {font-family: monospace;background-color: #f0f8ff;border: 1px dotted black;border-radius: 0.25em;box-sizing: border-box;margin-bottom: 0.5em;}#sk-container-id-2 div.sk-estimator:hover {background-color: #d4ebff;}#sk-container-id-2 div.sk-parallel-item::after {content: \"\";width: 100%;border-bottom: 1px solid gray;flex-grow: 1;}#sk-container-id-2 div.sk-label:hover label.sk-toggleable__label {background-color: #d4ebff;}#sk-container-id-2 div.sk-serial::before {content: \"\";position: absolute;border-left: 1px solid gray;box-sizing: border-box;top: 0;bottom: 0;left: 50%;z-index: 0;}#sk-container-id-2 div.sk-serial {display: flex;flex-direction: column;align-items: center;background-color: white;padding-right: 0.2em;padding-left: 0.2em;position: relative;}#sk-container-id-2 div.sk-item {position: relative;z-index: 1;}#sk-container-id-2 div.sk-parallel {display: flex;align-items: stretch;justify-content: center;background-color: white;position: relative;}#sk-container-id-2 div.sk-item::before, #sk-container-id-2 div.sk-parallel-item::before {content: \"\";position: absolute;border-left: 1px solid gray;box-sizing: border-box;top: 0;bottom: 0;left: 50%;z-index: -1;}#sk-container-id-2 div.sk-parallel-item {display: flex;flex-direction: column;z-index: 1;position: relative;background-color: white;}#sk-container-id-2 div.sk-parallel-item:first-child::after {align-self: flex-end;width: 50%;}#sk-container-id-2 div.sk-parallel-item:last-child::after {align-self: flex-start;width: 50%;}#sk-container-id-2 div.sk-parallel-item:only-child::after {width: 0;}#sk-container-id-2 div.sk-dashed-wrapped {border: 1px dashed gray;margin: 0 0.4em 0.5em 0.4em;box-sizing: border-box;padding-bottom: 0.4em;background-color: white;}#sk-container-id-2 div.sk-label label {font-family: monospace;font-weight: bold;display: inline-block;line-height: 1.2em;}#sk-container-id-2 div.sk-label-container {text-align: center;}#sk-container-id-2 div.sk-container {/* jupyter's `normalize.less` sets `[hidden] { display: none; }` but bootstrap.min.css set `[hidden] { display: none !important; }` so we also need the `!important` here to be able to override the default hidden behavior on the sphinx rendered scikit-learn.org. See: https://github.com/scikit-learn/scikit-learn/issues/21755 */display: inline-block !important;position: relative;}#sk-container-id-2 div.sk-text-repr-fallback {display: none;}</style><div id=\"sk-container-id-2\" class=\"sk-top-container\"><div class=\"sk-text-repr-fallback\"><pre>CountVectorizer()</pre><b>In a Jupyter environment, please rerun this cell to show the HTML representation or trust the notebook. <br />On GitHub, the HTML representation is unable to render, please try loading this page with nbviewer.org.</b></div><div class=\"sk-container\" hidden><div class=\"sk-item\"><div class=\"sk-estimator sk-toggleable\"><input class=\"sk-toggleable__control sk-hidden--visually\" id=\"sk-estimator-id-2\" type=\"checkbox\" checked><label for=\"sk-estimator-id-2\" class=\"sk-toggleable__label sk-toggleable__label-arrow\">CountVectorizer</label><div class=\"sk-toggleable__content\"><pre>CountVectorizer()</pre></div></div></div></div></div>"
      ],
      "text/plain": [
       "CountVectorizer()"
      ]
     },
     "execution_count": 20,
     "metadata": {},
     "output_type": "execute_result"
    }
   ],
   "source": [
    "vect.fit(words)"
   ]
  },
  {
   "cell_type": "code",
   "execution_count": 21,
   "id": "f94e76cf",
   "metadata": {},
   "outputs": [
    {
     "name": "stdout",
     "output_type": "stream",
     "text": [
      "Vocab size:200\n"
     ]
    }
   ],
   "source": [
    "print('Vocab size:{}'.format(len(vect.vocabulary_)))"
   ]
  },
  {
   "cell_type": "code",
   "execution_count": 22,
   "id": "ef0b74cf",
   "metadata": {},
   "outputs": [],
   "source": [
    "bag_of_words=vect.transform(words)"
   ]
  },
  {
   "cell_type": "code",
   "execution_count": 23,
   "id": "9204064a",
   "metadata": {},
   "outputs": [
    {
     "name": "stdout",
     "output_type": "stream",
     "text": [
      "  (0, 0)\t1\n",
      "  (0, 15)\t1\n",
      "  (0, 18)\t1\n",
      "  (0, 23)\t1\n",
      "  (0, 32)\t1\n",
      "  (0, 38)\t1\n",
      "  (0, 46)\t1\n",
      "  (0, 74)\t1\n",
      "  (0, 84)\t1\n",
      "  (0, 103)\t1\n",
      "  (0, 114)\t1\n",
      "  (0, 127)\t1\n",
      "  (0, 146)\t1\n",
      "  (0, 155)\t1\n",
      "  (1, 20)\t1\n",
      "  (1, 59)\t2\n",
      "  (1, 63)\t1\n",
      "  (1, 87)\t1\n",
      "  (1, 101)\t1\n",
      "  (1, 124)\t1\n",
      "  (1, 148)\t1\n",
      "  (1, 180)\t1\n",
      "  (2, 18)\t1\n",
      "  (2, 84)\t1\n",
      "  (2, 146)\t1\n",
      "  :\t:\n",
      "  (99, 163)\t1\n",
      "  (99, 171)\t1\n",
      "  (100, 20)\t1\n",
      "  (100, 71)\t1\n",
      "  (100, 84)\t1\n",
      "  (100, 110)\t1\n",
      "  (100, 155)\t1\n",
      "  (101, 14)\t1\n",
      "  (101, 15)\t1\n",
      "  (101, 20)\t1\n",
      "  (101, 32)\t1\n",
      "  (101, 92)\t1\n",
      "  (101, 187)\t1\n",
      "  (102, 10)\t1\n",
      "  (102, 69)\t1\n",
      "  (102, 166)\t1\n",
      "  (102, 176)\t1\n",
      "  (102, 183)\t1\n",
      "  (102, 190)\t1\n",
      "  (103, 6)\t1\n",
      "  (103, 20)\t1\n",
      "  (103, 51)\t1\n",
      "  (103, 64)\t1\n",
      "  (103, 108)\t1\n",
      "  (103, 127)\t1\n"
     ]
    }
   ],
   "source": [
    "print(bag_of_words)"
   ]
  },
  {
   "cell_type": "code",
   "execution_count": 25,
   "id": "76c5ad0a",
   "metadata": {},
   "outputs": [
    {
     "name": "stdout",
     "output_type": "stream",
     "text": [
      "bag of words as an arrzy:\n",
      "[[1 0 0 ... 0 0 0]\n",
      " [0 0 0 ... 0 0 0]\n",
      " [0 0 0 ... 0 0 0]\n",
      " ...\n",
      " [0 0 0 ... 0 0 0]\n",
      " [0 0 0 ... 0 0 0]\n",
      " [0 0 0 ... 0 0 0]]\n"
     ]
    }
   ],
   "source": [
    "print('bag of words as an arrzy:\\n{}'.format(bag_of_words.toarray()))"
   ]
  },
  {
   "cell_type": "code",
   "execution_count": 27,
   "id": "2f096441",
   "metadata": {},
   "outputs": [
    {
     "data": {
      "text/plain": [
       "array(['2019', '2020', '2621', '408', '709', 'about', 'administration',\n",
       "       'administrative', 'admissions', 'advisory', 'always', 'america',\n",
       "       'an', 'analyst', 'analytics', 'and', 'army', 'arts', 'aspiring',\n",
       "       'assistant', 'at', 'atlanta', 'bachelor', 'bauer', 'bayar',\n",
       "       'beach', 'benefits', 'beneteau', 'biology', 'board', 'brand',\n",
       "       'buckhead', 'business', 'care', 'celal', 'center', 'chapman',\n",
       "       'chro', 'college', 'communications', 'community', 'compensation',\n",
       "       'conflict', 'coordinator', 'create', 'csr', 'cum', 'customer',\n",
       "       'data', 'delphi', 'development', 'director', 'employment',\n",
       "       'endemol', 'energetic', 'energy', 'engaging', 'engie', 'engineer',\n",
       "       'english', 'entry', 'environment', 'environmental', 'epik',\n",
       "       'excellence', 'executive', 'experienced', 'ey', 'focused', 'for',\n",
       "       'from', 'generalist', 'gis', 'gphr', 'graduate', 'graduating',\n",
       "       'groupe', 'guard', 'hardware', 'heil', 'helping', 'houston', 'hr',\n",
       "       'hris', 'human', 'humber', 'illinois', 'in', 'inc', 'inclusive',\n",
       "       'indiana', 'information', 'intelligence', 'intercontinental',\n",
       "       'international', 'internship', 'is', 'japan', 'jti', 'junior',\n",
       "       'kokomo', 'korea', 'lab', 'laude', 'lead', 'leader', 'level',\n",
       "       'liberal', 'logging', 'long', 'loparex', 'louis', 'love',\n",
       "       'luxottica', 'magna', 'major', 'management', 'manager',\n",
       "       'marketing', 'may', 'medical', 'member', 'mes', 'national',\n",
       "       'native', 'north', 'nortia', 'of', 'office', 'officer', 'official',\n",
       "       'open', 'opportunities', 'or', 'organization', 'paint', 'partner',\n",
       "       'passionate', 'patient', 'payroll', 'people', 'policies',\n",
       "       'portfolio', 'position', 'positions', 'procedures', 'professional',\n",
       "       'professionals', 'program', 'programmer', 'recruiter',\n",
       "       'recruiting', 'relocation', 'representative', 'research',\n",
       "       'resources', 'retail', 'retired', 'rrp', 'ryan', 'schwan',\n",
       "       'science', 'scottmadden', 'seeking', 'senior', 'service', 'set',\n",
       "       'shine', 'software', 'specialist', 'sphr', 'st', 'staffing',\n",
       "       'state', 'student', 'styczynski', 'success', 'svp', 'systems',\n",
       "       'talent', 'teacher', 'team', 'the', 'them', 'to', 'tobacco',\n",
       "       'travel', 'travelers', 'undergraduate', 'university', 'up',\n",
       "       'victoria', 'wellington', 'western', 'westfield', 'with', 'within',\n",
       "       'woodlands', 'work', 'world'], dtype=object)"
      ]
     },
     "execution_count": 27,
     "metadata": {},
     "output_type": "execute_result"
    }
   ],
   "source": [
    "vect.get_feature_names_out()"
   ]
  },
  {
   "cell_type": "code",
   "execution_count": 29,
   "id": "0cf66e2b",
   "metadata": {},
   "outputs": [
    {
     "data": {
      "text/plain": [
       "{'2019': 0,\n",
       " 'bauer': 23,\n",
       " 'college': 38,\n",
       " 'of': 127,\n",
       " 'business': 32,\n",
       " 'graduate': 74,\n",
       " 'magna': 114,\n",
       " 'cum': 46,\n",
       " 'laude': 103,\n",
       " 'and': 15,\n",
       " 'aspiring': 18,\n",
       " 'human': 84,\n",
       " 'resources': 155,\n",
       " 'professional': 146,\n",
       " 'native': 124,\n",
       " 'english': 59,\n",
       " 'teacher': 180,\n",
       " 'at': 20,\n",
       " 'epik': 63,\n",
       " 'program': 148,\n",
       " 'in': 87,\n",
       " 'korea': 101,\n",
       " 'people': 140,\n",
       " 'development': 50,\n",
       " 'coordinator': 43,\n",
       " 'ryan': 159,\n",
       " 'advisory': 9,\n",
       " 'board': 29,\n",
       " 'member': 121,\n",
       " 'celal': 34,\n",
       " 'bayar': 24,\n",
       " 'university': 189,\n",
       " 'specialist': 169,\n",
       " 'student': 174,\n",
       " 'humber': 85,\n",
       " 'generalist': 71,\n",
       " 'hr': 82,\n",
       " 'senior': 164,\n",
       " 'seeking': 163,\n",
       " 'hris': 83,\n",
       " 'positions': 144,\n",
       " 'chapman': 36,\n",
       " 'svp': 177,\n",
       " 'chro': 37,\n",
       " 'marketing': 118,\n",
       " 'communications': 39,\n",
       " 'csr': 45,\n",
       " 'officer': 129,\n",
       " 'engie': 57,\n",
       " 'houston': 81,\n",
       " 'the': 182,\n",
       " 'woodlands': 197,\n",
       " 'energy': 55,\n",
       " 'gphr': 73,\n",
       " 'sphr': 170,\n",
       " 'intercontinental': 93,\n",
       " 'buckhead': 31,\n",
       " 'atlanta': 21,\n",
       " 'management': 116,\n",
       " 'an': 12,\n",
       " 'internship': 95,\n",
       " 'opportunities': 132,\n",
       " 'experienced': 66,\n",
       " 'retail': 156,\n",
       " 'manager': 117,\n",
       " 'staffing': 172,\n",
       " 'recruiting': 151,\n",
       " 'luxottica': 113,\n",
       " 'director': 51,\n",
       " 'north': 125,\n",
       " 'america': 11,\n",
       " 'groupe': 76,\n",
       " 'beneteau': 27,\n",
       " 'retired': 157,\n",
       " 'army': 16,\n",
       " 'national': 123,\n",
       " 'guard': 77,\n",
       " 'recruiter': 150,\n",
       " 'office': 128,\n",
       " 'position': 143,\n",
       " 'scottmadden': 162,\n",
       " 'inc': 88,\n",
       " 'major': 115,\n",
       " 'nortia': 126,\n",
       " 'is': 96,\n",
       " 'payroll': 139,\n",
       " 'administrative': 7,\n",
       " 'professionals': 147,\n",
       " '408': 3,\n",
       " '709': 4,\n",
       " '2621': 2,\n",
       " 'passionate': 137,\n",
       " 'about': 5,\n",
       " 'helping': 80,\n",
       " 'to': 184,\n",
       " 'create': 44,\n",
       " 'inclusive': 89,\n",
       " 'engaging': 56,\n",
       " 'work': 198,\n",
       " 'environment': 61,\n",
       " 'conflict': 42,\n",
       " 'policies': 141,\n",
       " 'procedures': 145,\n",
       " 'talent': 179,\n",
       " 'benefits': 26,\n",
       " 'compensation': 41,\n",
       " 'schwan': 160,\n",
       " 'liberal': 107,\n",
       " 'arts': 17,\n",
       " 'analyst': 13,\n",
       " 'junior': 99,\n",
       " 'mes': 122,\n",
       " 'engineer': 58,\n",
       " 'information': 91,\n",
       " 'systems': 178,\n",
       " 'partner': 136,\n",
       " 'heil': 79,\n",
       " 'environmental': 62,\n",
       " 'energetic': 54,\n",
       " 'team': 181,\n",
       " 'focused': 68,\n",
       " 'leader': 105,\n",
       " 'endemol': 53,\n",
       " 'shine': 167,\n",
       " 'for': 69,\n",
       " 'world': 199,\n",
       " 'gis': 72,\n",
       " 'software': 168,\n",
       " 'rrp': 158,\n",
       " 'brand': 30,\n",
       " 'portfolio': 142,\n",
       " 'executive': 65,\n",
       " 'jti': 98,\n",
       " 'japan': 97,\n",
       " 'tobacco': 185,\n",
       " 'international': 94,\n",
       " 'programmer': 149,\n",
       " 'with': 195,\n",
       " 'love': 112,\n",
       " 'data': 48,\n",
       " 'organization': 134,\n",
       " 'bachelor': 22,\n",
       " 'science': 161,\n",
       " 'biology': 28,\n",
       " 'from': 70,\n",
       " 'victoria': 191,\n",
       " 'wellington': 192,\n",
       " 'ey': 67,\n",
       " 'undergraduate': 188,\n",
       " 'research': 154,\n",
       " 'assistant': 19,\n",
       " 'styczynski': 175,\n",
       " 'lab': 102,\n",
       " 'lead': 104,\n",
       " 'official': 130,\n",
       " 'western': 193,\n",
       " 'illinois': 86,\n",
       " 'employment': 52,\n",
       " 'within': 196,\n",
       " 'customer': 47,\n",
       " 'service': 165,\n",
       " 'or': 133,\n",
       " 'patient': 138,\n",
       " 'care': 33,\n",
       " 'admissions': 8,\n",
       " 'representative': 153,\n",
       " 'community': 40,\n",
       " 'medical': 120,\n",
       " 'center': 35,\n",
       " 'long': 109,\n",
       " 'beach': 25,\n",
       " 'open': 131,\n",
       " 'travel': 186,\n",
       " 'relocation': 152,\n",
       " 'westfield': 194,\n",
       " 'state': 173,\n",
       " 'indiana': 90,\n",
       " 'kokomo': 100,\n",
       " 'delphi': 49,\n",
       " 'hardware': 78,\n",
       " 'paint': 135,\n",
       " 'graduating': 75,\n",
       " 'may': 119,\n",
       " '2020': 1,\n",
       " 'entry': 60,\n",
       " 'level': 106,\n",
       " 'st': 171,\n",
       " 'louis': 111,\n",
       " 'loparex': 110,\n",
       " 'intelligence': 92,\n",
       " 'analytics': 14,\n",
       " 'travelers': 187,\n",
       " 'always': 10,\n",
       " 'set': 166,\n",
       " 'them': 183,\n",
       " 'up': 190,\n",
       " 'success': 176,\n",
       " 'administration': 6,\n",
       " 'excellence': 64,\n",
       " 'logging': 108}"
      ]
     },
     "execution_count": 29,
     "metadata": {},
     "output_type": "execute_result"
    }
   ],
   "source": [
    "vect.vocabulary_"
   ]
  },
  {
   "cell_type": "code",
   "execution_count": null,
   "id": "7800de10",
   "metadata": {},
   "outputs": [],
   "source": [
    "# take out 'an', 'at'\n",
    "# tdidf \n",
    "# get cosine similarity to see "
   ]
  }
 ],
 "metadata": {
  "kernelspec": {
   "display_name": "Python 3 (ipykernel)",
   "language": "python",
   "name": "python3"
  },
  "language_info": {
   "codemirror_mode": {
    "name": "ipython",
    "version": 3
   },
   "file_extension": ".py",
   "mimetype": "text/x-python",
   "name": "python",
   "nbconvert_exporter": "python",
   "pygments_lexer": "ipython3",
   "version": "3.9.7"
  }
 },
 "nbformat": 4,
 "nbformat_minor": 5
}
