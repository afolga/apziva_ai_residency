{
 "cells": [
  {
   "cell_type": "code",
   "execution_count": 3,
   "id": "7c6ce62c",
   "metadata": {},
   "outputs": [
    {
     "name": "stderr",
     "output_type": "stream",
     "text": [
      "[nltk_data] Downloading package stopwords to\n",
      "[nltk_data]     C:\\Users\\agnes\\AppData\\Roaming\\nltk_data...\n",
      "[nltk_data]   Package stopwords is already up-to-date!\n",
      "[nltk_data] Downloading package punkt to\n",
      "[nltk_data]     C:\\Users\\agnes\\AppData\\Roaming\\nltk_data...\n",
      "[nltk_data]   Package punkt is already up-to-date!\n",
      "[nltk_data] Downloading package wordnet to\n",
      "[nltk_data]     C:\\Users\\agnes\\AppData\\Roaming\\nltk_data...\n",
      "[nltk_data]   Package wordnet is already up-to-date!\n"
     ]
    },
    {
     "data": {
      "text/plain": [
       "True"
      ]
     },
     "execution_count": 3,
     "metadata": {},
     "output_type": "execute_result"
    }
   ],
   "source": [
    "import nltk \n",
    "nltk.download('stopwords')\n",
    "nltk.download ('punkt')\n",
    "nltk.download('wordnet')"
   ]
  },
  {
   "cell_type": "code",
   "execution_count": 2,
   "id": "1a1e6277",
   "metadata": {},
   "outputs": [
    {
     "name": "stdout",
     "output_type": "stream",
     "text": [
      "Requirement already satisfied: nltk in c:\\users\\agnes\\anaconda3\\lib\\site-packages (3.6.5)Note: you may need to restart the kernel to use updated packages.\n",
      "Requirement already satisfied: click in c:\\users\\agnes\\anaconda3\\lib\\site-packages (from nltk) (8.0.3)\n",
      "Requirement already satisfied: joblib in c:\\users\\agnes\\anaconda3\\lib\\site-packages (from nltk) (1.3.2)\n",
      "Requirement already satisfied: regex>=2021.8.3 in c:\\users\\agnes\\anaconda3\\lib\\site-packages (from nltk) (2021.8.3)\n",
      "Requirement already satisfied: tqdm in c:\\users\\agnes\\anaconda3\\lib\\site-packages (from nltk) (4.62.3)\n",
      "Requirement already satisfied: colorama in c:\\users\\agnes\\anaconda3\\lib\\site-packages (from click->nltk) (0.4.4)\n",
      "\n"
     ]
    },
    {
     "name": "stderr",
     "output_type": "stream",
     "text": [
      "WARNING: Ignoring invalid distribution -rotobuf (c:\\users\\agnes\\anaconda3\\lib\\site-packages)\n",
      "WARNING: Ignoring invalid distribution -rotobuf (c:\\users\\agnes\\anaconda3\\lib\\site-packages)\n",
      "WARNING: Ignoring invalid distribution -rotobuf (c:\\users\\agnes\\anaconda3\\lib\\site-packages)\n",
      "WARNING: Ignoring invalid distribution -rotobuf (c:\\users\\agnes\\anaconda3\\lib\\site-packages)\n",
      "WARNING: Ignoring invalid distribution -rotobuf (c:\\users\\agnes\\anaconda3\\lib\\site-packages)\n",
      "WARNING: Ignoring invalid distribution -rotobuf (c:\\users\\agnes\\anaconda3\\lib\\site-packages)\n"
     ]
    }
   ],
   "source": [
    "pip install nltk"
   ]
  },
  {
   "cell_type": "code",
   "execution_count": 4,
   "id": "b5ad5658",
   "metadata": {},
   "outputs": [],
   "source": [
    "sentences= [\"Aspiring human resources\", \"seeking human resources\"]\n",
    "import pandas as pd \n",
    "data= pd.read_csv(\"C:\\\\Users\\\\agnes\\\\Documents\\\\apziva_ai_residency\\\\project3\\\\data\\\\potential-talents.csv\")\n",
    "words=data.job_title\n",
    "text_array=words.array"
   ]
  },
  {
   "cell_type": "code",
   "execution_count": 5,
   "id": "db65b454",
   "metadata": {},
   "outputs": [
    {
     "name": "stdout",
     "output_type": "stream",
     "text": [
      "[['2019', 'C.T', '.', 'Bauer', 'College', 'of', 'Business', 'Graduate', '(', 'Magna', 'Cum', 'Laude', ')', 'and', 'aspiring', 'Human', 'Resources', 'professional'], ['Native', 'English', 'Teacher', 'at', 'EPIK', '(', 'English', 'Program', 'in', 'Korea', ')'], ['Aspiring', 'Human', 'Resources', 'Professional'], ['People', 'Development', 'Coordinator', 'at', 'Ryan'], ['Advisory', 'Board', 'Member', 'at', 'Celal', 'Bayar', 'University'], ['Aspiring', 'Human', 'Resources', 'Specialist'], ['Student', 'at', 'Humber', 'College', 'and', 'Aspiring', 'Human', 'Resources', 'Generalist'], ['HR', 'Senior', 'Specialist'], ['Student', 'at', 'Humber', 'College', 'and', 'Aspiring', 'Human', 'Resources', 'Generalist'], ['Seeking', 'Human', 'Resources', 'HRIS', 'and', 'Generalist', 'Positions'], ['Student', 'at', 'Chapman', 'University'], ['SVP', ',', 'CHRO', ',', 'Marketing', '&', 'Communications', ',', 'CSR', 'Officer', '|', 'ENGIE', '|', 'Houston', '|', 'The', 'Woodlands', '|', 'Energy', '|', 'GPHR', '|', 'SPHR'], ['Human', 'Resources', 'Coordinator', 'at', 'InterContinental', 'Buckhead', 'Atlanta'], ['2019', 'C.T', '.', 'Bauer', 'College', 'of', 'Business', 'Graduate', '(', 'Magna', 'Cum', 'Laude', ')', 'and', 'aspiring', 'Human', 'Resources', 'professional'], ['2019', 'C.T', '.', 'Bauer', 'College', 'of', 'Business', 'Graduate', '(', 'Magna', 'Cum', 'Laude', ')', 'and', 'aspiring', 'Human', 'Resources', 'professional'], ['Native', 'English', 'Teacher', 'at', 'EPIK', '(', 'English', 'Program', 'in', 'Korea', ')'], ['Aspiring', 'Human', 'Resources', 'Professional'], ['People', 'Development', 'Coordinator', 'at', 'Ryan'], ['2019', 'C.T', '.', 'Bauer', 'College', 'of', 'Business', 'Graduate', '(', 'Magna', 'Cum', 'Laude', ')', 'and', 'aspiring', 'Human', 'Resources', 'professional'], ['Native', 'English', 'Teacher', 'at', 'EPIK', '(', 'English', 'Program', 'in', 'Korea', ')'], ['Aspiring', 'Human', 'Resources', 'Professional'], ['People', 'Development', 'Coordinator', 'at', 'Ryan'], ['Advisory', 'Board', 'Member', 'at', 'Celal', 'Bayar', 'University'], ['Aspiring', 'Human', 'Resources', 'Specialist'], ['Student', 'at', 'Humber', 'College', 'and', 'Aspiring', 'Human', 'Resources', 'Generalist'], ['HR', 'Senior', 'Specialist'], ['Aspiring', 'Human', 'Resources', 'Management', 'student', 'seeking', 'an', 'internship'], ['Seeking', 'Human', 'Resources', 'Opportunities'], ['Aspiring', 'Human', 'Resources', 'Management', 'student', 'seeking', 'an', 'internship'], ['Seeking', 'Human', 'Resources', 'Opportunities'], ['2019', 'C.T', '.', 'Bauer', 'College', 'of', 'Business', 'Graduate', '(', 'Magna', 'Cum', 'Laude', ')', 'and', 'aspiring', 'Human', 'Resources', 'professional'], ['Native', 'English', 'Teacher', 'at', 'EPIK', '(', 'English', 'Program', 'in', 'Korea', ')'], ['Aspiring', 'Human', 'Resources', 'Professional'], ['People', 'Development', 'Coordinator', 'at', 'Ryan'], ['Advisory', 'Board', 'Member', 'at', 'Celal', 'Bayar', 'University'], ['Aspiring', 'Human', 'Resources', 'Specialist'], ['Student', 'at', 'Humber', 'College', 'and', 'Aspiring', 'Human', 'Resources', 'Generalist'], ['HR', 'Senior', 'Specialist'], ['Student', 'at', 'Humber', 'College', 'and', 'Aspiring', 'Human', 'Resources', 'Generalist'], ['Seeking', 'Human', 'Resources', 'HRIS', 'and', 'Generalist', 'Positions'], ['Student', 'at', 'Chapman', 'University'], ['SVP', ',', 'CHRO', ',', 'Marketing', '&', 'Communications', ',', 'CSR', 'Officer', '|', 'ENGIE', '|', 'Houston', '|', 'The', 'Woodlands', '|', 'Energy', '|', 'GPHR', '|', 'SPHR'], ['Human', 'Resources', 'Coordinator', 'at', 'InterContinental', 'Buckhead', 'Atlanta'], ['2019', 'C.T', '.', 'Bauer', 'College', 'of', 'Business', 'Graduate', '(', 'Magna', 'Cum', 'Laude', ')', 'and', 'aspiring', 'Human', 'Resources', 'professional'], ['Native', 'English', 'Teacher', 'at', 'EPIK', '(', 'English', 'Program', 'in', 'Korea', ')'], ['Aspiring', 'Human', 'Resources', 'Professional'], ['People', 'Development', 'Coordinator', 'at', 'Ryan'], ['Advisory', 'Board', 'Member', 'at', 'Celal', 'Bayar', 'University'], ['Aspiring', 'Human', 'Resources', 'Specialist'], ['Student', 'at', 'Humber', 'College', 'and', 'Aspiring', 'Human', 'Resources', 'Generalist'], ['HR', 'Senior', 'Specialist'], ['Student', 'at', 'Humber', 'College', 'and', 'Aspiring', 'Human', 'Resources', 'Generalist'], ['Seeking', 'Human', 'Resources', 'HRIS', 'and', 'Generalist', 'Positions'], ['Student', 'at', 'Chapman', 'University'], ['SVP', ',', 'CHRO', ',', 'Marketing', '&', 'Communications', ',', 'CSR', 'Officer', '|', 'ENGIE', '|', 'Houston', '|', 'The', 'Woodlands', '|', 'Energy', '|', 'GPHR', '|', 'SPHR'], ['Human', 'Resources', 'Coordinator', 'at', 'InterContinental', 'Buckhead', 'Atlanta'], ['2019', 'C.T', '.', 'Bauer', 'College', 'of', 'Business', 'Graduate', '(', 'Magna', 'Cum', 'Laude', ')', 'and', 'aspiring', 'Human', 'Resources', 'professional'], ['Aspiring', 'Human', 'Resources', 'Professional'], ['People', 'Development', 'Coordinator', 'at', 'Ryan'], ['Aspiring', 'Human', 'Resources', 'Specialist'], ['HR', 'Senior', 'Specialist'], ['Seeking', 'Human', 'Resources', 'HRIS', 'and', 'Generalist', 'Positions'], ['Student', 'at', 'Chapman', 'University'], ['SVP', ',', 'CHRO', ',', 'Marketing', '&', 'Communications', ',', 'CSR', 'Officer', '|', 'ENGIE', '|', 'Houston', '|', 'The', 'Woodlands', '|', 'Energy', '|', 'GPHR', '|', 'SPHR'], ['Human', 'Resources', 'Coordinator', 'at', 'InterContinental', 'Buckhead', 'Atlanta'], ['Experienced', 'Retail', 'Manager', 'and', 'aspiring', 'Human', 'Resources', 'Professional'], ['Human', 'Resources', ',', 'Staffing', 'and', 'Recruiting', 'Professional'], ['Human', 'Resources', 'Specialist', 'at', 'Luxottica'], ['Director', 'of', 'Human', 'Resources', 'North', 'America', ',', 'Groupe', 'Beneteau'], ['Retired', 'Army', 'National', 'Guard', 'Recruiter', ',', 'office', 'manager', ',', 'seeking', 'a', 'position', 'in', 'Human', 'Resources', '.'], ['Human', 'Resources', 'Generalist', 'at', 'ScottMadden', ',', 'Inc', '.'], ['Business', 'Management', 'Major', 'and', 'Aspiring', 'Human', 'Resources', 'Manager'], ['Aspiring', 'Human', 'Resources', 'Manager', ',', 'seeking', 'internship', 'in', 'Human', 'Resources', '.'], ['Human', 'Resources', 'Professional'], ['Nortia', 'Staffing', 'is', 'seeking', 'Human', 'Resources', ',', 'Payroll', '&', 'Administrative', 'Professionals', '!', '!', '(', '408', ')', '709-2621'], ['Aspiring', 'Human', 'Resources', 'Professional', '|', 'Passionate', 'about', 'helping', 'to', 'create', 'an', 'inclusive', 'and', 'engaging', 'work', 'environment'], ['Human', 'Resources|', 'Conflict', 'Management|', 'Policies', '&', 'Procedures|Talent', 'Management|Benefits', '&', 'Compensation'], ['Human', 'Resources', 'Generalist', 'at', 'Schwan', \"'s\"], ['Liberal', 'Arts', 'Major', '.', 'Aspiring', 'Human', 'Resources', 'Analyst', '.'], ['Junior', 'MES', 'Engineer|', 'Information', 'Systems'], ['Senior', 'Human', 'Resources', 'Business', 'Partner', 'at', 'Heil', 'Environmental'], ['Aspiring', 'Human', 'Resources', 'Professional', '|', 'An', 'energetic', 'and', 'Team-Focused', 'Leader'], ['HR', 'Manager', 'at', 'Endemol', 'Shine', 'North', 'America'], ['Human', 'Resources', 'professional', 'for', 'the', 'world', 'leader', 'in', 'GIS', 'software'], ['RRP', 'Brand', 'Portfolio', 'Executive', 'at', 'JTI', '(', 'Japan', 'Tobacco', 'International', ')'], ['Information', 'Systems', 'Specialist', 'and', 'Programmer', 'with', 'a', 'love', 'for', 'data', 'and', 'organization', '.'], ['Bachelor', 'of', 'Science', 'in', 'Biology', 'from', 'Victoria', 'University', 'of', 'Wellington'], ['Human', 'Resources', 'Management', 'Major'], ['Director', 'Human', 'Resources', 'at', 'EY'], ['Undergraduate', 'Research', 'Assistant', 'at', 'Styczynski', 'Lab'], ['Lead', 'Official', 'at', 'Western', 'Illinois', 'University'], ['Seeking', 'employment', 'opportunities', 'within', 'Customer', 'Service', 'or', 'Patient', 'Care'], ['Admissions', 'Representative', 'at', 'Community', 'medical', 'center', 'long', 'beach'], ['Seeking', 'Human', 'Resources', 'Opportunities', '.', 'Open', 'to', 'travel', 'and', 'relocation', '.'], ['Student', 'at', 'Westfield', 'State', 'University'], ['Student', 'at', 'Indiana', 'University', 'Kokomo', '-', 'Business', 'Management', '-', 'Retail', 'Manager', 'at', 'Delphi', 'Hardware', 'and', 'Paint'], ['Aspiring', 'Human', 'Resources', 'Professional'], ['Student'], ['Seeking', 'Human', 'Resources', 'Position'], ['Aspiring', 'Human', 'Resources', 'Manager', '|', 'Graduating', 'May', '2020', '|', 'Seeking', 'an', 'Entry-Level', 'Human', 'Resources', 'Position', 'in', 'St.', 'Louis'], ['Human', 'Resources', 'Generalist', 'at', 'Loparex'], ['Business', 'Intelligence', 'and', 'Analytics', 'at', 'Travelers'], ['Always', 'set', 'them', 'up', 'for', 'Success'], ['Director', 'Of', 'Administration', 'at', 'Excellence', 'Logging']]\n"
     ]
    }
   ],
   "source": [
    "from nltk.tokenize import sent_tokenize, word_tokenize\n",
    "word_tokens=[]\n",
    "i=0\n",
    "for line in text_array:\n",
    " words = word_tokenize(line)\n",
    " word_tokens.insert(i,words)\n",
    " i=i+1\n",
    "print (word_tokens)"
   ]
  },
  {
   "cell_type": "code",
   "execution_count": 6,
   "id": "6ff593b6",
   "metadata": {},
   "outputs": [
    {
     "name": "stdout",
     "output_type": "stream",
     "text": [
      "['2019', 'C.T', '.', 'Bauer', 'College', 'Business', 'Graduate', '(', 'Magna', 'Cum', 'Laude', ')', 'aspiring', 'Human', 'Resources', 'professional', 'Native', 'English', 'Teacher', 'EPIK', '(', 'English', 'Program', 'Korea', ')', 'Aspiring', 'Human', 'Resources', 'Professional', 'People', 'Development', 'Coordinator', 'Ryan', 'Advisory', 'Board', 'Member', 'Celal', 'Bayar', 'University', 'Aspiring', 'Human', 'Resources', 'Specialist', 'Student', 'Humber', 'College', 'Aspiring', 'Human', 'Resources', 'Generalist', 'HR', 'Senior', 'Specialist', 'Student', 'Humber', 'College', 'Aspiring', 'Human', 'Resources', 'Generalist', 'Seeking', 'Human', 'Resources', 'HRIS', 'Generalist', 'Positions', 'Student', 'Chapman', 'University', 'SVP', ',', 'CHRO', ',', 'Marketing', '&', 'Communications', ',', 'CSR', 'Officer', '|', 'ENGIE', '|', 'Houston', '|', 'The', 'Woodlands', '|', 'Energy', '|', 'GPHR', '|', 'SPHR', 'Human', 'Resources', 'Coordinator', 'InterContinental', 'Buckhead', 'Atlanta', '2019', 'C.T', '.', 'Bauer', 'College', 'Business', 'Graduate', '(', 'Magna', 'Cum', 'Laude', ')', 'aspiring', 'Human', 'Resources', 'professional', '2019', 'C.T', '.', 'Bauer', 'College', 'Business', 'Graduate', '(', 'Magna', 'Cum', 'Laude', ')', 'aspiring', 'Human', 'Resources', 'professional', 'Native', 'English', 'Teacher', 'EPIK', '(', 'English', 'Program', 'Korea', ')', 'Aspiring', 'Human', 'Resources', 'Professional', 'People', 'Development', 'Coordinator', 'Ryan', '2019', 'C.T', '.', 'Bauer', 'College', 'Business', 'Graduate', '(', 'Magna', 'Cum', 'Laude', ')', 'aspiring', 'Human', 'Resources', 'professional', 'Native', 'English', 'Teacher', 'EPIK', '(', 'English', 'Program', 'Korea', ')', 'Aspiring', 'Human', 'Resources', 'Professional', 'People', 'Development', 'Coordinator', 'Ryan', 'Advisory', 'Board', 'Member', 'Celal', 'Bayar', 'University', 'Aspiring', 'Human', 'Resources', 'Specialist', 'Student', 'Humber', 'College', 'Aspiring', 'Human', 'Resources', 'Generalist', 'HR', 'Senior', 'Specialist', 'Aspiring', 'Human', 'Resources', 'Management', 'student', 'seeking', 'internship', 'Seeking', 'Human', 'Resources', 'Opportunities', 'Aspiring', 'Human', 'Resources', 'Management', 'student', 'seeking', 'internship', 'Seeking', 'Human', 'Resources', 'Opportunities', '2019', 'C.T', '.', 'Bauer', 'College', 'Business', 'Graduate', '(', 'Magna', 'Cum', 'Laude', ')', 'aspiring', 'Human', 'Resources', 'professional', 'Native', 'English', 'Teacher', 'EPIK', '(', 'English', 'Program', 'Korea', ')', 'Aspiring', 'Human', 'Resources', 'Professional', 'People', 'Development', 'Coordinator', 'Ryan', 'Advisory', 'Board', 'Member', 'Celal', 'Bayar', 'University', 'Aspiring', 'Human', 'Resources', 'Specialist', 'Student', 'Humber', 'College', 'Aspiring', 'Human', 'Resources', 'Generalist', 'HR', 'Senior', 'Specialist', 'Student', 'Humber', 'College', 'Aspiring', 'Human', 'Resources', 'Generalist', 'Seeking', 'Human', 'Resources', 'HRIS', 'Generalist', 'Positions', 'Student', 'Chapman', 'University', 'SVP', ',', 'CHRO', ',', 'Marketing', '&', 'Communications', ',', 'CSR', 'Officer', '|', 'ENGIE', '|', 'Houston', '|', 'The', 'Woodlands', '|', 'Energy', '|', 'GPHR', '|', 'SPHR', 'Human', 'Resources', 'Coordinator', 'InterContinental', 'Buckhead', 'Atlanta', '2019', 'C.T', '.', 'Bauer', 'College', 'Business', 'Graduate', '(', 'Magna', 'Cum', 'Laude', ')', 'aspiring', 'Human', 'Resources', 'professional', 'Native', 'English', 'Teacher', 'EPIK', '(', 'English', 'Program', 'Korea', ')', 'Aspiring', 'Human', 'Resources', 'Professional', 'People', 'Development', 'Coordinator', 'Ryan', 'Advisory', 'Board', 'Member', 'Celal', 'Bayar', 'University', 'Aspiring', 'Human', 'Resources', 'Specialist', 'Student', 'Humber', 'College', 'Aspiring', 'Human', 'Resources', 'Generalist', 'HR', 'Senior', 'Specialist', 'Student', 'Humber', 'College', 'Aspiring', 'Human', 'Resources', 'Generalist', 'Seeking', 'Human', 'Resources', 'HRIS', 'Generalist', 'Positions', 'Student', 'Chapman', 'University', 'SVP', ',', 'CHRO', ',', 'Marketing', '&', 'Communications', ',', 'CSR', 'Officer', '|', 'ENGIE', '|', 'Houston', '|', 'The', 'Woodlands', '|', 'Energy', '|', 'GPHR', '|', 'SPHR', 'Human', 'Resources', 'Coordinator', 'InterContinental', 'Buckhead', 'Atlanta', '2019', 'C.T', '.', 'Bauer', 'College', 'Business', 'Graduate', '(', 'Magna', 'Cum', 'Laude', ')', 'aspiring', 'Human', 'Resources', 'professional', 'Aspiring', 'Human', 'Resources', 'Professional', 'People', 'Development', 'Coordinator', 'Ryan', 'Aspiring', 'Human', 'Resources', 'Specialist', 'HR', 'Senior', 'Specialist', 'Seeking', 'Human', 'Resources', 'HRIS', 'Generalist', 'Positions', 'Student', 'Chapman', 'University', 'SVP', ',', 'CHRO', ',', 'Marketing', '&', 'Communications', ',', 'CSR', 'Officer', '|', 'ENGIE', '|', 'Houston', '|', 'The', 'Woodlands', '|', 'Energy', '|', 'GPHR', '|', 'SPHR', 'Human', 'Resources', 'Coordinator', 'InterContinental', 'Buckhead', 'Atlanta', 'Experienced', 'Retail', 'Manager', 'aspiring', 'Human', 'Resources', 'Professional', 'Human', 'Resources', ',', 'Staffing', 'Recruiting', 'Professional', 'Human', 'Resources', 'Specialist', 'Luxottica', 'Director', 'Human', 'Resources', 'North', 'America', ',', 'Groupe', 'Beneteau', 'Retired', 'Army', 'National', 'Guard', 'Recruiter', ',', 'office', 'manager', ',', 'seeking', 'position', 'Human', 'Resources', '.', 'Human', 'Resources', 'Generalist', 'ScottMadden', ',', 'Inc', '.', 'Business', 'Management', 'Major', 'Aspiring', 'Human', 'Resources', 'Manager', 'Aspiring', 'Human', 'Resources', 'Manager', ',', 'seeking', 'internship', 'Human', 'Resources', '.', 'Human', 'Resources', 'Professional', 'Nortia', 'Staffing', 'seeking', 'Human', 'Resources', ',', 'Payroll', '&', 'Administrative', 'Professionals', '!', '!', '(', '408', ')', '709-2621', 'Aspiring', 'Human', 'Resources', 'Professional', '|', 'Passionate', 'helping', 'create', 'inclusive', 'engaging', 'work', 'environment', 'Human', 'Resources|', 'Conflict', 'Management|', 'Policies', '&', 'Procedures|Talent', 'Management|Benefits', '&', 'Compensation', 'Human', 'Resources', 'Generalist', 'Schwan', \"'s\", 'Liberal', 'Arts', 'Major', '.', 'Aspiring', 'Human', 'Resources', 'Analyst', '.', 'Junior', 'MES', 'Engineer|', 'Information', 'Systems', 'Senior', 'Human', 'Resources', 'Business', 'Partner', 'Heil', 'Environmental', 'Aspiring', 'Human', 'Resources', 'Professional', '|', 'An', 'energetic', 'Team-Focused', 'Leader', 'HR', 'Manager', 'Endemol', 'Shine', 'North', 'America', 'Human', 'Resources', 'professional', 'world', 'leader', 'GIS', 'software', 'RRP', 'Brand', 'Portfolio', 'Executive', 'JTI', '(', 'Japan', 'Tobacco', 'International', ')', 'Information', 'Systems', 'Specialist', 'Programmer', 'love', 'data', 'organization', '.', 'Bachelor', 'Science', 'Biology', 'Victoria', 'University', 'Wellington', 'Human', 'Resources', 'Management', 'Major', 'Director', 'Human', 'Resources', 'EY', 'Undergraduate', 'Research', 'Assistant', 'Styczynski', 'Lab', 'Lead', 'Official', 'Western', 'Illinois', 'University', 'Seeking', 'employment', 'opportunities', 'within', 'Customer', 'Service', 'Patient', 'Care', 'Admissions', 'Representative', 'Community', 'medical', 'center', 'long', 'beach', 'Seeking', 'Human', 'Resources', 'Opportunities', '.', 'Open', 'travel', 'relocation', '.', 'Student', 'Westfield', 'State', 'University', 'Student', 'Indiana', 'University', 'Kokomo', '-', 'Business', 'Management', '-', 'Retail', 'Manager', 'Delphi', 'Hardware', 'Paint', 'Aspiring', 'Human', 'Resources', 'Professional', 'Student', 'Seeking', 'Human', 'Resources', 'Position', 'Aspiring', 'Human', 'Resources', 'Manager', '|', 'Graduating', 'May', '2020', '|', 'Seeking', 'Entry-Level', 'Human', 'Resources', 'Position', 'St.', 'Louis', 'Human', 'Resources', 'Generalist', 'Loparex', 'Business', 'Intelligence', 'Analytics', 'Travelers', 'Always', 'set', 'Success', 'Director', 'Of', 'Administration', 'Excellence', 'Logging']\n"
     ]
    }
   ],
   "source": [
    "from nltk.corpus import stopwords \n",
    "stop_words=stopwords.words('english') \n",
    "lines_without_stopwords=[] \n",
    "for line in text_array: \n",
    "  stop_removed=[] \n",
    "for line in word_tokens:\n",
    "  for word in line: \n",
    "    if word not in stop_words: \n",
    "      stop_removed.append(word) \n",
    "print (stop_removed)"
   ]
  },
  {
   "cell_type": "code",
   "execution_count": 7,
   "id": "c900e17a",
   "metadata": {},
   "outputs": [
    {
     "name": "stdout",
     "output_type": "stream",
     "text": [
      "['2019', 'C.T', '.', 'Bauer', 'College', 'Business', 'Graduate', '(', 'Magna', 'Cum', 'Laude', ')', 'aspiring', 'Human', 'Resources', 'professional', 'Native', 'English', 'Teacher', 'EPIK', '(', 'English', 'Program', 'Korea', ')', 'Aspiring', 'Human', 'Resources', 'Professional', 'People', 'Development', 'Coordinator', 'Ryan', 'Advisory', 'Board', 'Member', 'Celal', 'Bayar', 'University', 'Aspiring', 'Human', 'Resources', 'Specialist', 'Student', 'Humber', 'College', 'Aspiring', 'Human', 'Resources', 'Generalist', 'HR', 'Senior', 'Specialist', 'Student', 'Humber', 'College', 'Aspiring', 'Human', 'Resources', 'Generalist', 'Seeking', 'Human', 'Resources', 'HRIS', 'Generalist', 'Positions', 'Student', 'Chapman', 'University', 'SVP', ',', 'CHRO', ',', 'Marketing', '&', 'Communications', ',', 'CSR', 'Officer', '|', 'ENGIE', '|', 'Houston', '|', 'The', 'Woodlands', '|', 'Energy', '|', 'GPHR', '|', 'SPHR', 'Human', 'Resources', 'Coordinator', 'InterContinental', 'Buckhead', 'Atlanta', '2019', 'C.T', '.', 'Bauer', 'College', 'Business', 'Graduate', '(', 'Magna', 'Cum', 'Laude', ')', 'aspiring', 'Human', 'Resources', 'professional', '2019', 'C.T', '.', 'Bauer', 'College', 'Business', 'Graduate', '(', 'Magna', 'Cum', 'Laude', ')', 'aspiring', 'Human', 'Resources', 'professional', 'Native', 'English', 'Teacher', 'EPIK', '(', 'English', 'Program', 'Korea', ')', 'Aspiring', 'Human', 'Resources', 'Professional', 'People', 'Development', 'Coordinator', 'Ryan', '2019', 'C.T', '.', 'Bauer', 'College', 'Business', 'Graduate', '(', 'Magna', 'Cum', 'Laude', ')', 'aspiring', 'Human', 'Resources', 'professional', 'Native', 'English', 'Teacher', 'EPIK', '(', 'English', 'Program', 'Korea', ')', 'Aspiring', 'Human', 'Resources', 'Professional', 'People', 'Development', 'Coordinator', 'Ryan', 'Advisory', 'Board', 'Member', 'Celal', 'Bayar', 'University', 'Aspiring', 'Human', 'Resources', 'Specialist', 'Student', 'Humber', 'College', 'Aspiring', 'Human', 'Resources', 'Generalist', 'HR', 'Senior', 'Specialist', 'Aspiring', 'Human', 'Resources', 'Management', 'student', 'seeking', 'internship', 'Seeking', 'Human', 'Resources', 'Opportunities', 'Aspiring', 'Human', 'Resources', 'Management', 'student', 'seeking', 'internship', 'Seeking', 'Human', 'Resources', 'Opportunities', '2019', 'C.T', '.', 'Bauer', 'College', 'Business', 'Graduate', '(', 'Magna', 'Cum', 'Laude', ')', 'aspiring', 'Human', 'Resources', 'professional', 'Native', 'English', 'Teacher', 'EPIK', '(', 'English', 'Program', 'Korea', ')', 'Aspiring', 'Human', 'Resources', 'Professional', 'People', 'Development', 'Coordinator', 'Ryan', 'Advisory', 'Board', 'Member', 'Celal', 'Bayar', 'University', 'Aspiring', 'Human', 'Resources', 'Specialist', 'Student', 'Humber', 'College', 'Aspiring', 'Human', 'Resources', 'Generalist', 'HR', 'Senior', 'Specialist', 'Student', 'Humber', 'College', 'Aspiring', 'Human', 'Resources', 'Generalist', 'Seeking', 'Human', 'Resources', 'HRIS', 'Generalist', 'Positions', 'Student', 'Chapman', 'University', 'SVP', ',', 'CHRO', ',', 'Marketing', '&', 'Communications', ',', 'CSR', 'Officer', '|', 'ENGIE', '|', 'Houston', '|', 'The', 'Woodlands', '|', 'Energy', '|', 'GPHR', '|', 'SPHR', 'Human', 'Resources', 'Coordinator', 'InterContinental', 'Buckhead', 'Atlanta', '2019', 'C.T', '.', 'Bauer', 'College', 'Business', 'Graduate', '(', 'Magna', 'Cum', 'Laude', ')', 'aspiring', 'Human', 'Resources', 'professional', 'Native', 'English', 'Teacher', 'EPIK', '(', 'English', 'Program', 'Korea', ')', 'Aspiring', 'Human', 'Resources', 'Professional', 'People', 'Development', 'Coordinator', 'Ryan', 'Advisory', 'Board', 'Member', 'Celal', 'Bayar', 'University', 'Aspiring', 'Human', 'Resources', 'Specialist', 'Student', 'Humber', 'College', 'Aspiring', 'Human', 'Resources', 'Generalist', 'HR', 'Senior', 'Specialist', 'Student', 'Humber', 'College', 'Aspiring', 'Human', 'Resources', 'Generalist', 'Seeking', 'Human', 'Resources', 'HRIS', 'Generalist', 'Positions', 'Student', 'Chapman', 'University', 'SVP', ',', 'CHRO', ',', 'Marketing', '&', 'Communications', ',', 'CSR', 'Officer', '|', 'ENGIE', '|', 'Houston', '|', 'The', 'Woodlands', '|', 'Energy', '|', 'GPHR', '|', 'SPHR', 'Human', 'Resources', 'Coordinator', 'InterContinental', 'Buckhead', 'Atlanta', '2019', 'C.T', '.', 'Bauer', 'College', 'Business', 'Graduate', '(', 'Magna', 'Cum', 'Laude', ')', 'aspiring', 'Human', 'Resources', 'professional', 'Aspiring', 'Human', 'Resources', 'Professional', 'People', 'Development', 'Coordinator', 'Ryan', 'Aspiring', 'Human', 'Resources', 'Specialist', 'HR', 'Senior', 'Specialist', 'Seeking', 'Human', 'Resources', 'HRIS', 'Generalist', 'Positions', 'Student', 'Chapman', 'University', 'SVP', ',', 'CHRO', ',', 'Marketing', '&', 'Communications', ',', 'CSR', 'Officer', '|', 'ENGIE', '|', 'Houston', '|', 'The', 'Woodlands', '|', 'Energy', '|', 'GPHR', '|', 'SPHR', 'Human', 'Resources', 'Coordinator', 'InterContinental', 'Buckhead', 'Atlanta', 'Experienced', 'Retail', 'Manager', 'aspiring', 'Human', 'Resources', 'Professional', 'Human', 'Resources', ',', 'Staffing', 'Recruiting', 'Professional', 'Human', 'Resources', 'Specialist', 'Luxottica', 'Director', 'Human', 'Resources', 'North', 'America', ',', 'Groupe', 'Beneteau', 'Retired', 'Army', 'National', 'Guard', 'Recruiter', ',', 'office', 'manager', ',', 'seeking', 'position', 'Human', 'Resources', '.', 'Human', 'Resources', 'Generalist', 'ScottMadden', ',', 'Inc', '.', 'Business', 'Management', 'Major', 'Aspiring', 'Human', 'Resources', 'Manager', 'Aspiring', 'Human', 'Resources', 'Manager', ',', 'seeking', 'internship', 'Human', 'Resources', '.', 'Human', 'Resources', 'Professional', 'Nortia', 'Staffing', 'seeking', 'Human', 'Resources', ',', 'Payroll', '&', 'Administrative', 'Professionals', '!', '!', '(', '408', ')', '709-2621', 'Aspiring', 'Human', 'Resources', 'Professional', '|', 'Passionate', 'helping', 'create', 'inclusive', 'engaging', 'work', 'environment', 'Human', 'Resources|', 'Conflict', 'Management|', 'Policies', '&', 'Procedures|Talent', 'Management|Benefits', '&', 'Compensation', 'Human', 'Resources', 'Generalist', 'Schwan', \"'s\", 'Liberal', 'Arts', 'Major', '.', 'Aspiring', 'Human', 'Resources', 'Analyst', '.', 'Junior', 'MES', 'Engineer|', 'Information', 'Systems', 'Senior', 'Human', 'Resources', 'Business', 'Partner', 'Heil', 'Environmental', 'Aspiring', 'Human', 'Resources', 'Professional', '|', 'An', 'energetic', 'Team-Focused', 'Leader', 'HR', 'Manager', 'Endemol', 'Shine', 'North', 'America', 'Human', 'Resources', 'professional', 'world', 'leader', 'GIS', 'software', 'RRP', 'Brand', 'Portfolio', 'Executive', 'JTI', '(', 'Japan', 'Tobacco', 'International', ')', 'Information', 'Systems', 'Specialist', 'Programmer', 'love', 'data', 'organization', '.', 'Bachelor', 'Science', 'Biology', 'Victoria', 'University', 'Wellington', 'Human', 'Resources', 'Management', 'Major', 'Director', 'Human', 'Resources', 'EY', 'Undergraduate', 'Research', 'Assistant', 'Styczynski', 'Lab', 'Lead', 'Official', 'Western', 'Illinois', 'University', 'Seeking', 'employment', 'opportunity', 'within', 'Customer', 'Service', 'Patient', 'Care', 'Admissions', 'Representative', 'Community', 'medical', 'center', 'long', 'beach', 'Seeking', 'Human', 'Resources', 'Opportunities', '.', 'Open', 'travel', 'relocation', '.', 'Student', 'Westfield', 'State', 'University', 'Student', 'Indiana', 'University', 'Kokomo', '-', 'Business', 'Management', '-', 'Retail', 'Manager', 'Delphi', 'Hardware', 'Paint', 'Aspiring', 'Human', 'Resources', 'Professional', 'Student', 'Seeking', 'Human', 'Resources', 'Position', 'Aspiring', 'Human', 'Resources', 'Manager', '|', 'Graduating', 'May', '2020', '|', 'Seeking', 'Entry-Level', 'Human', 'Resources', 'Position', 'St.', 'Louis', 'Human', 'Resources', 'Generalist', 'Loparex', 'Business', 'Intelligence', 'Analytics', 'Travelers', 'Always', 'set', 'Success', 'Director', 'Of', 'Administration', 'Excellence', 'Logging']\n",
      "2019,C.T,.,Bauer,College,Business,Graduate,(,Magna,Cum,Laude,),aspiring,Human,Resources,professional,Native,English,Teacher,EPIK,(,English,Program,Korea,),Aspiring,Human,Resources,Professional,People,Development,Coordinator,Ryan,Advisory,Board,Member,Celal,Bayar,University,Aspiring,Human,Resources,Specialist,Student,Humber,College,Aspiring,Human,Resources,Generalist,HR,Senior,Specialist,Student,Humber,College,Aspiring,Human,Resources,Generalist,Seeking,Human,Resources,HRIS,Generalist,Positions,Student,Chapman,University,SVP,,,CHRO,,,Marketing,&,Communications,,,CSR,Officer,|,ENGIE,|,Houston,|,The,Woodlands,|,Energy,|,GPHR,|,SPHR,Human,Resources,Coordinator,InterContinental,Buckhead,Atlanta,2019,C.T,.,Bauer,College,Business,Graduate,(,Magna,Cum,Laude,),aspiring,Human,Resources,professional,2019,C.T,.,Bauer,College,Business,Graduate,(,Magna,Cum,Laude,),aspiring,Human,Resources,professional,Native,English,Teacher,EPIK,(,English,Program,Korea,),Aspiring,Human,Resources,Professional,People,Development,Coordinator,Ryan,2019,C.T,.,Bauer,College,Business,Graduate,(,Magna,Cum,Laude,),aspiring,Human,Resources,professional,Native,English,Teacher,EPIK,(,English,Program,Korea,),Aspiring,Human,Resources,Professional,People,Development,Coordinator,Ryan,Advisory,Board,Member,Celal,Bayar,University,Aspiring,Human,Resources,Specialist,Student,Humber,College,Aspiring,Human,Resources,Generalist,HR,Senior,Specialist,Aspiring,Human,Resources,Management,student,seeking,internship,Seeking,Human,Resources,Opportunities,Aspiring,Human,Resources,Management,student,seeking,internship,Seeking,Human,Resources,Opportunities,2019,C.T,.,Bauer,College,Business,Graduate,(,Magna,Cum,Laude,),aspiring,Human,Resources,professional,Native,English,Teacher,EPIK,(,English,Program,Korea,),Aspiring,Human,Resources,Professional,People,Development,Coordinator,Ryan,Advisory,Board,Member,Celal,Bayar,University,Aspiring,Human,Resources,Specialist,Student,Humber,College,Aspiring,Human,Resources,Generalist,HR,Senior,Specialist,Student,Humber,College,Aspiring,Human,Resources,Generalist,Seeking,Human,Resources,HRIS,Generalist,Positions,Student,Chapman,University,SVP,,,CHRO,,,Marketing,&,Communications,,,CSR,Officer,|,ENGIE,|,Houston,|,The,Woodlands,|,Energy,|,GPHR,|,SPHR,Human,Resources,Coordinator,InterContinental,Buckhead,Atlanta,2019,C.T,.,Bauer,College,Business,Graduate,(,Magna,Cum,Laude,),aspiring,Human,Resources,professional,Native,English,Teacher,EPIK,(,English,Program,Korea,),Aspiring,Human,Resources,Professional,People,Development,Coordinator,Ryan,Advisory,Board,Member,Celal,Bayar,University,Aspiring,Human,Resources,Specialist,Student,Humber,College,Aspiring,Human,Resources,Generalist,HR,Senior,Specialist,Student,Humber,College,Aspiring,Human,Resources,Generalist,Seeking,Human,Resources,HRIS,Generalist,Positions,Student,Chapman,University,SVP,,,CHRO,,,Marketing,&,Communications,,,CSR,Officer,|,ENGIE,|,Houston,|,The,Woodlands,|,Energy,|,GPHR,|,SPHR,Human,Resources,Coordinator,InterContinental,Buckhead,Atlanta,2019,C.T,.,Bauer,College,Business,Graduate,(,Magna,Cum,Laude,),aspiring,Human,Resources,professional,Aspiring,Human,Resources,Professional,People,Development,Coordinator,Ryan,Aspiring,Human,Resources,Specialist,HR,Senior,Specialist,Seeking,Human,Resources,HRIS,Generalist,Positions,Student,Chapman,University,SVP,,,CHRO,,,Marketing,&,Communications,,,CSR,Officer,|,ENGIE,|,Houston,|,The,Woodlands,|,Energy,|,GPHR,|,SPHR,Human,Resources,Coordinator,InterContinental,Buckhead,Atlanta,Experienced,Retail,Manager,aspiring,Human,Resources,Professional,Human,Resources,,,Staffing,Recruiting,Professional,Human,Resources,Specialist,Luxottica,Director,Human,Resources,North,America,,,Groupe,Beneteau,Retired,Army,National,Guard,Recruiter,,,office,manager,,,seeking,position,Human,Resources,.,Human,Resources,Generalist,ScottMadden,,,Inc,.,Business,Management,Major,Aspiring,Human,Resources,Manager,Aspiring,Human,Resources,Manager,,,seeking,internship,Human,Resources,.,Human,Resources,Professional,Nortia,Staffing,seeking,Human,Resources,,,Payroll,&,Administrative,Professionals,!,!,(,408,),709-2621,Aspiring,Human,Resources,Professional,|,Passionate,helping,create,inclusive,engaging,work,environment,Human,Resources|,Conflict,Management|,Policies,&,Procedures|Talent,Management|Benefits,&,Compensation,Human,Resources,Generalist,Schwan,'s,Liberal,Arts,Major,.,Aspiring,Human,Resources,Analyst,.,Junior,MES,Engineer|,Information,Systems,Senior,Human,Resources,Business,Partner,Heil,Environmental,Aspiring,Human,Resources,Professional,|,An,energetic,Team-Focused,Leader,HR,Manager,Endemol,Shine,North,America,Human,Resources,professional,world,leader,GIS,software,RRP,Brand,Portfolio,Executive,JTI,(,Japan,Tobacco,International,),Information,Systems,Specialist,Programmer,love,data,organization,.,Bachelor,Science,Biology,Victoria,University,Wellington,Human,Resources,Management,Major,Director,Human,Resources,EY,Undergraduate,Research,Assistant,Styczynski,Lab,Lead,Official,Western,Illinois,University,Seeking,employment,opportunity,within,Customer,Service,Patient,Care,Admissions,Representative,Community,medical,center,long,beach,Seeking,Human,Resources,Opportunities,.,Open,travel,relocation,.,Student,Westfield,State,University,Student,Indiana,University,Kokomo,-,Business,Management,-,Retail,Manager,Delphi,Hardware,Paint,Aspiring,Human,Resources,Professional,Student,Seeking,Human,Resources,Position,Aspiring,Human,Resources,Manager,|,Graduating,May,2020,|,Seeking,Entry-Level,Human,Resources,Position,St.,Louis,Human,Resources,Generalist,Loparex,Business,Intelligence,Analytics,Travelers,Always,set,Success,Director,Of,Administration,Excellence,Logging\n"
     ]
    }
   ],
   "source": [
    "from nltk import WordNetLemmatizer  \n",
    "from nltk.stem import WordNetLemmatizer\n",
    "wordnet_lemmatizer = WordNetLemmatizer() \n",
    "lines_with_lemmas=[] #stop words contain the set of stop words \n",
    "for line in text_array: \n",
    "  lem_line=[] \n",
    "for word in stop_removed: \n",
    "  lem_line.append(wordnet_lemmatizer.lemmatize(word)) \n",
    "string='' \n",
    "new_lines=','.join([str(i) for i in lem_line])\n",
    "print (lem_line)\n",
    "print (new_lines)"
   ]
  },
  {
   "cell_type": "code",
   "execution_count": 2,
   "id": "e9c51026",
   "metadata": {},
   "outputs": [
    {
     "ename": "ModuleNotFoundError",
     "evalue": "No module named 'glove.Corpus'",
     "output_type": "error",
     "traceback": [
      "\u001b[1;31m---------------------------------------------------------------------------\u001b[0m",
      "\u001b[1;31mModuleNotFoundError\u001b[0m                       Traceback (most recent call last)",
      "\u001b[1;32m~\\AppData\\Local\\Temp/ipykernel_9072/2914563475.py\u001b[0m in \u001b[0;36m<module>\u001b[1;34m\u001b[0m\n\u001b[0;32m      2\u001b[0m \u001b[1;32mimport\u001b[0m \u001b[0mglove\u001b[0m\u001b[1;33m\u001b[0m\u001b[1;33m\u001b[0m\u001b[0m\n\u001b[0;32m      3\u001b[0m \u001b[1;31m#from glove import Corpus, Glove\u001b[0m\u001b[1;33m\u001b[0m\u001b[1;33m\u001b[0m\u001b[0m\n\u001b[1;32m----> 4\u001b[1;33m \u001b[1;32mimport\u001b[0m \u001b[0mglove\u001b[0m\u001b[1;33m.\u001b[0m\u001b[0mCorpus\u001b[0m\u001b[1;33m\u001b[0m\u001b[1;33m\u001b[0m\u001b[0m\n\u001b[0m\u001b[0;32m      5\u001b[0m \u001b[1;31m# creating a corpus object\u001b[0m\u001b[1;33m\u001b[0m\u001b[1;33m\u001b[0m\u001b[0m\n\u001b[0;32m      6\u001b[0m \u001b[0mcorpus\u001b[0m \u001b[1;33m=\u001b[0m\u001b[0mCorpus\u001b[0m\u001b[1;33m(\u001b[0m\u001b[1;33m)\u001b[0m\u001b[1;33m\u001b[0m\u001b[1;33m\u001b[0m\u001b[0m\n",
      "\u001b[1;31mModuleNotFoundError\u001b[0m: No module named 'glove.Corpus'"
     ]
    }
   ],
   "source": [
    "#importing the glove library\n",
    "import glove\n",
    "from glove import Corpus, Glove\n",
    "#import glove.Corpus\n",
    "# creating a corpus object\n",
    "corpus =Corpus() \n",
    "#training the corpus to generate the co occurence matrix which is used in GloVe\n",
    "corpus.fit(new_lines, window=10)\n",
    "#creating a Glove object which will use the matrix created in the above lines to create embeddings\n",
    "#We can set the learning rate as it uses Gradient Descent and number of components\n",
    "glove = Glove(no_components=5, learning_rate=0.05)\n",
    " \n",
    "glove.fit(corpus.matrix, epochs=30, no_threads=4, verbose=True)\n",
    "glove.add_dictionary(corpus.dictionary)\n",
    "glove.save('glove.model')"
   ]
  },
  {
   "cell_type": "code",
   "execution_count": 16,
   "id": "75fc774f",
   "metadata": {},
   "outputs": [
    {
     "name": "stdout",
     "output_type": "stream",
     "text": [
      "Requirement already satisfied: glove in c:\\users\\agnes\\anaconda3\\lib\\site-packages (1.0.1)\n",
      "Requirement already satisfied: cython in c:\\users\\agnes\\anaconda3\\lib\\site-packages (from glove) (0.29.24)\n",
      "Requirement already satisfied: numpy in c:\\users\\agnes\\anaconda3\\lib\\site-packages (from glove) (1.22.4)\n",
      "Note: you may need to restart the kernel to use updated packages.\n"
     ]
    },
    {
     "name": "stderr",
     "output_type": "stream",
     "text": [
      "WARNING: Ignoring invalid distribution -rotobuf (c:\\users\\agnes\\anaconda3\\lib\\site-packages)\n",
      "WARNING: Ignoring invalid distribution -rotobuf (c:\\users\\agnes\\anaconda3\\lib\\site-packages)\n",
      "WARNING: Ignoring invalid distribution -rotobuf (c:\\users\\agnes\\anaconda3\\lib\\site-packages)\n",
      "WARNING: Ignoring invalid distribution -rotobuf (c:\\users\\agnes\\anaconda3\\lib\\site-packages)\n",
      "WARNING: Ignoring invalid distribution -rotobuf (c:\\users\\agnes\\anaconda3\\lib\\site-packages)\n",
      "WARNING: Ignoring invalid distribution -rotobuf (c:\\users\\agnes\\anaconda3\\lib\\site-packages)\n"
     ]
    }
   ],
   "source": [
    "pip install glove"
   ]
  },
  {
   "cell_type": "code",
   "execution_count": 10,
   "id": "5c0395c4",
   "metadata": {},
   "outputs": [
    {
     "name": "stdout",
     "output_type": "stream",
     "text": [
      "Using pip 21.2.4 from C:\\Users\\agnes\\anaconda3\\lib\\site-packages\\pip (python 3.9)\n",
      "Collecting glove_python\n",
      "  Using cached glove_python-0.1.0.tar.gz (263 kB)\n",
      "Requirement already satisfied: numpy in c:\\users\\agnes\\anaconda3\\lib\\site-packages (from glove_python) (1.22.4)\n",
      "Requirement already satisfied: scipy in c:\\users\\agnes\\anaconda3\\lib\\site-packages (from glove_python) (1.7.1)\n",
      "Building wheels for collected packages: glove-python\n",
      "  Building wheel for glove-python (setup.py): started\n",
      "  Building wheel for glove-python (setup.py): finished with status 'error'\n",
      "  Running setup.py clean for glove-python\n",
      "Failed to build glove-python\n",
      "Installing collected packages: glove-python\n",
      "    Running setup.py install for glove-python: started\n",
      "    Running setup.py install for glove-python: finished with status 'error'\n",
      "Note: you may need to restart the kernel to use updated packages.\n"
     ]
    },
    {
     "name": "stderr",
     "output_type": "stream",
     "text": [
      "WARNING: Ignoring invalid distribution -rotobuf (c:\\users\\agnes\\anaconda3\\lib\\site-packages)\n",
      "WARNING: Ignoring invalid distribution -rotobuf (c:\\users\\agnes\\anaconda3\\lib\\site-packages)\n",
      "    Running command python setup.py egg_info\n",
      "    C:\\Users\\agnes\\anaconda3\\lib\\site-packages\\setuptools\\dist.py:717: UserWarning: Usage of dash-separated 'description-file' will not be supported in future versions. Please use the underscore name 'description_file' instead\n",
      "      warnings.warn(\n",
      "    running egg_info\n",
      "    creating C:\\Users\\agnes\\AppData\\Local\\Temp\\pip-pip-egg-info-hnw3exot\\glove_python.egg-info\n",
      "    writing C:\\Users\\agnes\\AppData\\Local\\Temp\\pip-pip-egg-info-hnw3exot\\glove_python.egg-info\\PKG-INFO\n",
      "    writing dependency_links to C:\\Users\\agnes\\AppData\\Local\\Temp\\pip-pip-egg-info-hnw3exot\\glove_python.egg-info\\dependency_links.txt\n",
      "    writing requirements to C:\\Users\\agnes\\AppData\\Local\\Temp\\pip-pip-egg-info-hnw3exot\\glove_python.egg-info\\requires.txt\n",
      "    writing top-level names to C:\\Users\\agnes\\AppData\\Local\\Temp\\pip-pip-egg-info-hnw3exot\\glove_python.egg-info\\top_level.txt\n",
      "    writing manifest file 'C:\\Users\\agnes\\AppData\\Local\\Temp\\pip-pip-egg-info-hnw3exot\\glove_python.egg-info\\SOURCES.txt'\n",
      "    reading manifest file 'C:\\Users\\agnes\\AppData\\Local\\Temp\\pip-pip-egg-info-hnw3exot\\glove_python.egg-info\\SOURCES.txt'\n",
      "    writing manifest file 'C:\\Users\\agnes\\AppData\\Local\\Temp\\pip-pip-egg-info-hnw3exot\\glove_python.egg-info\\SOURCES.txt'\n",
      "  Running command 'C:\\Users\\agnes\\anaconda3\\python.exe' -u -c 'import io, os, sys, setuptools, tokenize; sys.argv[0] = '\"'\"'C:\\\\Users\\\\agnes\\\\AppData\\\\Local\\\\Temp\\\\pip-install-z6livfkx\\\\glove-python_0b68c72312e542008da6fd40c4837471\\\\setup.py'\"'\"'; __file__='\"'\"'C:\\\\Users\\\\agnes\\\\AppData\\\\Local\\\\Temp\\\\pip-install-z6livfkx\\\\glove-python_0b68c72312e542008da6fd40c4837471\\\\setup.py'\"'\"';f = getattr(tokenize, '\"'\"'open'\"'\"', open)(__file__) if os.path.exists(__file__) else io.StringIO('\"'\"'from setuptools import setup; setup()'\"'\"');code = f.read().replace('\"'\"'\\r\\n'\"'\"', '\"'\"'\\n'\"'\"');f.close();exec(compile(code, __file__, '\"'\"'exec'\"'\"'))' bdist_wheel -d 'C:\\Users\\agnes\\AppData\\Local\\Temp\\pip-wheel-htj7_b0r'\n",
      "  C:\\Users\\agnes\\anaconda3\\lib\\site-packages\\setuptools\\dist.py:717: UserWarning: Usage of dash-separated 'description-file' will not be supported in future versions. Please use the underscore name 'description_file' instead\n",
      "    warnings.warn(\n",
      "  running bdist_wheel\n",
      "  running build\n",
      "  running build_py\n",
      "  creating build\n",
      "  creating build\\lib.win-amd64-3.9\n",
      "  creating build\\lib.win-amd64-3.9\\glove\n",
      "  copying glove\\corpus.py -> build\\lib.win-amd64-3.9\\glove\n",
      "  copying glove\\glove.py -> build\\lib.win-amd64-3.9\\glove\n",
      "  copying glove\\__init__.py -> build\\lib.win-amd64-3.9\\glove\n",
      "  running build_ext\n",
      "  building 'glove.glove_cython' extension\n",
      "  creating build\\temp.win-amd64-3.9\n",
      "  creating build\\temp.win-amd64-3.9\\Release\n",
      "  creating build\\temp.win-amd64-3.9\\Release\\glove\n",
      "  C:\\Program Files (x86)\\Microsoft Visual Studio\\2019\\Community\\VC\\Tools\\MSVC\\14.29.30037\\bin\\HostX86\\x64\\cl.exe /c /nologo /Ox /W3 /GL /DNDEBUG /MD -IC:\\Users\\agnes\\anaconda3\\include -IC:\\Users\\agnes\\anaconda3\\include -IC:\\Program Files (x86)\\Microsoft Visual Studio\\2019\\Community\\VC\\Tools\\MSVC\\14.29.30037\\ATLMFC\\include -IC:\\Program Files (x86)\\Microsoft Visual Studio\\2019\\Community\\VC\\Tools\\MSVC\\14.29.30037\\include -IC:\\Program Files (x86)\\Windows Kits\\NETFXSDK\\4.8\\include\\um -IC:\\Program Files (x86)\\Windows Kits\\10\\include\\10.0.19041.0\\ucrt -IC:\\Program Files (x86)\\Windows Kits\\10\\include\\10.0.19041.0\\shared -IC:\\Program Files (x86)\\Windows Kits\\10\\include\\10.0.19041.0\\um -IC:\\Program Files (x86)\\Windows Kits\\10\\include\\10.0.19041.0\\winrt -IC:\\Program Files (x86)\\Windows Kits\\10\\include\\10.0.19041.0\\cppwinrt /Tcglove/glove_cython.c /Fobuild\\temp.win-amd64-3.9\\Release\\glove/glove_cython.obj -fopenmp -ffast-math -march=native\n",
      "  cl : Command line warning D9002 : ignoring unknown option '-fopenmp'\n",
      "  cl : Command line warning D9002 : ignoring unknown option '-ffast-math'\n",
      "  cl : Command line warning D9002 : ignoring unknown option '-march=native'\n",
      "  glove_cython.c\n",
      "  glove/glove_cython.c(1692): warning C4244: '=': conversion from 'Py_ssize_t' to 'int', possible loss of data\n",
      "  glove/glove_cython.c(1701): warning C4244: '=': conversion from 'Py_ssize_t' to 'int', possible loss of data\n",
      "  glove/glove_cython.c(2348): warning C4244: '=': conversion from 'Py_ssize_t' to 'int', possible loss of data\n",
      "  glove/glove_cython.c(2357): warning C4244: '=': conversion from 'Py_ssize_t' to 'int', possible loss of data\n",
      "  glove/glove_cython.c(15114): warning C4996: 'PyEval_InitThreads': deprecated in 3.9\n",
      "  glove/glove_cython.c(15221): error C2039: 'tp_print': is not a member of '_typeobject'\n",
      "  C:\\Users\\agnes\\anaconda3\\include\\cpython/object.h(193): note: see declaration of '_typeobject'\n",
      "  glove/glove_cython.c(15224): error C2039: 'tp_print': is not a member of '_typeobject'\n",
      "  C:\\Users\\agnes\\anaconda3\\include\\cpython/object.h(193): note: see declaration of '_typeobject'\n",
      "  glove/glove_cython.c(15235): error C2039: 'tp_print': is not a member of '_typeobject'\n",
      "  C:\\Users\\agnes\\anaconda3\\include\\cpython/object.h(193): note: see declaration of '_typeobject'\n",
      "  glove/glove_cython.c(15244): error C2039: 'tp_print': is not a member of '_typeobject'\n",
      "  C:\\Users\\agnes\\anaconda3\\include\\cpython/object.h(193): note: see declaration of '_typeobject'\n",
      "  glove/glove_cython.c(15587): warning C4996: '_PyUnicode_get_wstr_length': deprecated in 3.3\n",
      "  glove/glove_cython.c(15603): warning C4996: '_PyUnicode_get_wstr_length': deprecated in 3.3\n",
      "  glove/glove_cython.c(16714): warning C4996: 'PyUnicode_FromUnicode': deprecated in 3.3\n",
      "  glove/glove_cython.c(16753): error C2039: 'exc_type': is not a member of '_ts'\n",
      "  C:\\Users\\agnes\\anaconda3\\include\\cpython/pystate.h(51): note: see declaration of '_ts'\n",
      "  glove/glove_cython.c(16754): error C2039: 'exc_value': is not a member of '_ts'\n",
      "  C:\\Users\\agnes\\anaconda3\\include\\cpython/pystate.h(51): note: see declaration of '_ts'\n",
      "  glove/glove_cython.c(16755): error C2039: 'exc_traceback': is not a member of '_ts'\n",
      "  C:\\Users\\agnes\\anaconda3\\include\\cpython/pystate.h(51): note: see declaration of '_ts'\n",
      "  glove/glove_cython.c(16767): error C2039: 'exc_type': is not a member of '_ts'\n",
      "  C:\\Users\\agnes\\anaconda3\\include\\cpython/pystate.h(51): note: see declaration of '_ts'\n",
      "  glove/glove_cython.c(16768): error C2039: 'exc_value': is not a member of '_ts'\n",
      "  C:\\Users\\agnes\\anaconda3\\include\\cpython/pystate.h(51): note: see declaration of '_ts'\n",
      "  glove/glove_cython.c(16769): error C2039: 'exc_traceback': is not a member of '_ts'\n",
      "  C:\\Users\\agnes\\anaconda3\\include\\cpython/pystate.h(51): note: see declaration of '_ts'\n",
      "  glove/glove_cython.c(16770): error C2039: 'exc_type': is not a member of '_ts'\n",
      "  C:\\Users\\agnes\\anaconda3\\include\\cpython/pystate.h(51): note: see declaration of '_ts'\n",
      "  glove/glove_cython.c(16771): error C2039: 'exc_value': is not a member of '_ts'\n",
      "  C:\\Users\\agnes\\anaconda3\\include\\cpython/pystate.h(51): note: see declaration of '_ts'\n",
      "  glove/glove_cython.c(16772): error C2039: 'exc_traceback': is not a member of '_ts'\n",
      "  C:\\Users\\agnes\\anaconda3\\include\\cpython/pystate.h(51): note: see declaration of '_ts'\n",
      "  glove/glove_cython.c(16815): error C2039: 'exc_type': is not a member of '_ts'\n",
      "  C:\\Users\\agnes\\anaconda3\\include\\cpython/pystate.h(51): note: see declaration of '_ts'\n",
      "  glove/glove_cython.c(16816): error C2039: 'exc_value': is not a member of '_ts'\n",
      "  C:\\Users\\agnes\\anaconda3\\include\\cpython/pystate.h(51): note: see declaration of '_ts'\n",
      "  glove/glove_cython.c(16817): error C2039: 'exc_traceback': is not a member of '_ts'\n",
      "  C:\\Users\\agnes\\anaconda3\\include\\cpython/pystate.h(51): note: see declaration of '_ts'\n",
      "  glove/glove_cython.c(16818): error C2039: 'exc_type': is not a member of '_ts'\n",
      "  C:\\Users\\agnes\\anaconda3\\include\\cpython/pystate.h(51): note: see declaration of '_ts'\n",
      "  glove/glove_cython.c(16819): error C2039: 'exc_value': is not a member of '_ts'\n",
      "  C:\\Users\\agnes\\anaconda3\\include\\cpython/pystate.h(51): note: see declaration of '_ts'\n",
      "  glove/glove_cython.c(16820): error C2039: 'exc_traceback': is not a member of '_ts'\n",
      "  C:\\Users\\agnes\\anaconda3\\include\\cpython/pystate.h(51): note: see declaration of '_ts'\n",
      "  glove/glove_cython.c(16842): error C2039: 'exc_type': is not a member of '_ts'\n",
      "  C:\\Users\\agnes\\anaconda3\\include\\cpython/pystate.h(51): note: see declaration of '_ts'\n",
      "  glove/glove_cython.c(16843): error C2039: 'exc_value': is not a member of '_ts'\n",
      "  C:\\Users\\agnes\\anaconda3\\include\\cpython/pystate.h(51): note: see declaration of '_ts'\n",
      "  glove/glove_cython.c(16844): error C2039: 'exc_traceback': is not a member of '_ts'\n",
      "  C:\\Users\\agnes\\anaconda3\\include\\cpython/pystate.h(51): note: see declaration of '_ts'\n",
      "  glove/glove_cython.c(16845): error C2039: 'exc_type': is not a member of '_ts'\n",
      "  C:\\Users\\agnes\\anaconda3\\include\\cpython/pystate.h(51): note: see declaration of '_ts'\n",
      "  glove/glove_cython.c(16846): error C2039: 'exc_value': is not a member of '_ts'\n",
      "  C:\\Users\\agnes\\anaconda3\\include\\cpython/pystate.h(51): note: see declaration of '_ts'\n",
      "  glove/glove_cython.c(16847): error C2039: 'exc_traceback': is not a member of '_ts'\n",
      "  C:\\Users\\agnes\\anaconda3\\include\\cpython/pystate.h(51): note: see declaration of '_ts'\n",
      "  error: command 'C:\\\\Program Files (x86)\\\\Microsoft Visual Studio\\\\2019\\\\Community\\\\VC\\\\Tools\\\\MSVC\\\\14.29.30037\\\\bin\\\\HostX86\\\\x64\\\\cl.exe' failed with exit code 2\n",
      "  ERROR: Failed building wheel for glove-python\n",
      "  Running command 'C:\\Users\\agnes\\anaconda3\\python.exe' -u -c 'import io, os, sys, setuptools, tokenize; sys.argv[0] = '\"'\"'C:\\\\Users\\\\agnes\\\\AppData\\\\Local\\\\Temp\\\\pip-install-z6livfkx\\\\glove-python_0b68c72312e542008da6fd40c4837471\\\\setup.py'\"'\"'; __file__='\"'\"'C:\\\\Users\\\\agnes\\\\AppData\\\\Local\\\\Temp\\\\pip-install-z6livfkx\\\\glove-python_0b68c72312e542008da6fd40c4837471\\\\setup.py'\"'\"';f = getattr(tokenize, '\"'\"'open'\"'\"', open)(__file__) if os.path.exists(__file__) else io.StringIO('\"'\"'from setuptools import setup; setup()'\"'\"');code = f.read().replace('\"'\"'\\r\\n'\"'\"', '\"'\"'\\n'\"'\"');f.close();exec(compile(code, __file__, '\"'\"'exec'\"'\"'))' clean --all\n",
      "  C:\\Users\\agnes\\anaconda3\\lib\\site-packages\\setuptools\\dist.py:717: UserWarning: Usage of dash-separated 'description-file' will not be supported in future versions. Please use the underscore name 'description_file' instead\n",
      "    warnings.warn(\n",
      "  usage: setup.py [global_opts] cmd1 [cmd1_opts] [cmd2 [cmd2_opts] ...]\n",
      "     or: setup.py --help [cmd1 cmd2 ...]\n",
      "     or: setup.py --help-commands\n",
      "     or: setup.py cmd --help\n",
      "\n",
      "  error: option --all not recognized\n",
      "  ERROR: Failed cleaning build dir for glove-python\n",
      "WARNING: Ignoring invalid distribution -rotobuf (c:\\users\\agnes\\anaconda3\\lib\\site-packages)\n",
      "    Running command 'C:\\Users\\agnes\\anaconda3\\python.exe' -u -c 'import io, os, sys, setuptools, tokenize; sys.argv[0] = '\"'\"'C:\\\\Users\\\\agnes\\\\AppData\\\\Local\\\\Temp\\\\pip-install-z6livfkx\\\\glove-python_0b68c72312e542008da6fd40c4837471\\\\setup.py'\"'\"'; __file__='\"'\"'C:\\\\Users\\\\agnes\\\\AppData\\\\Local\\\\Temp\\\\pip-install-z6livfkx\\\\glove-python_0b68c72312e542008da6fd40c4837471\\\\setup.py'\"'\"';f = getattr(tokenize, '\"'\"'open'\"'\"', open)(__file__) if os.path.exists(__file__) else io.StringIO('\"'\"'from setuptools import setup; setup()'\"'\"');code = f.read().replace('\"'\"'\\r\\n'\"'\"', '\"'\"'\\n'\"'\"');f.close();exec(compile(code, __file__, '\"'\"'exec'\"'\"'))' install --record 'C:\\Users\\agnes\\AppData\\Local\\Temp\\pip-record-fh_2fjkm\\install-record.txt' --single-version-externally-managed --compile --install-headers 'C:\\Users\\agnes\\anaconda3\\Include\\glove-python'\n",
      "    C:\\Users\\agnes\\anaconda3\\lib\\site-packages\\setuptools\\dist.py:717: UserWarning: Usage of dash-separated 'description-file' will not be supported in future versions. Please use the underscore name 'description_file' instead\n",
      "      warnings.warn(\n",
      "    running install\n",
      "    running build\n",
      "    running build_py\n",
      "    running build_ext\n",
      "    building 'glove.glove_cython' extension\n",
      "    C:\\Program Files (x86)\\Microsoft Visual Studio\\2019\\Community\\VC\\Tools\\MSVC\\14.29.30037\\bin\\HostX86\\x64\\cl.exe /c /nologo /Ox /W3 /GL /DNDEBUG /MD -IC:\\Users\\agnes\\anaconda3\\include -IC:\\Users\\agnes\\anaconda3\\include -IC:\\Program Files (x86)\\Microsoft Visual Studio\\2019\\Community\\VC\\Tools\\MSVC\\14.29.30037\\ATLMFC\\include -IC:\\Program Files (x86)\\Microsoft Visual Studio\\2019\\Community\\VC\\Tools\\MSVC\\14.29.30037\\include -IC:\\Program Files (x86)\\Windows Kits\\NETFXSDK\\4.8\\include\\um -IC:\\Program Files (x86)\\Windows Kits\\10\\include\\10.0.19041.0\\ucrt -IC:\\Program Files (x86)\\Windows Kits\\10\\include\\10.0.19041.0\\shared -IC:\\Program Files (x86)\\Windows Kits\\10\\include\\10.0.19041.0\\um -IC:\\Program Files (x86)\\Windows Kits\\10\\include\\10.0.19041.0\\winrt -IC:\\Program Files (x86)\\Windows Kits\\10\\include\\10.0.19041.0\\cppwinrt /Tcglove/glove_cython.c /Fobuild\\temp.win-amd64-3.9\\Release\\glove/glove_cython.obj -fopenmp -ffast-math -march=native\n",
      "    cl : Command line warning D9002 : ignoring unknown option '-fopenmp'\n",
      "    cl : Command line warning D9002 : ignoring unknown option '-ffast-math'\n",
      "    cl : Command line warning D9002 : ignoring unknown option '-march=native'\n",
      "    glove_cython.c\n",
      "    glove/glove_cython.c(1692): warning C4244: '=': conversion from 'Py_ssize_t' to 'int', possible loss of data\n",
      "    glove/glove_cython.c(1701): warning C4244: '=': conversion from 'Py_ssize_t' to 'int', possible loss of data\n",
      "    glove/glove_cython.c(2348): warning C4244: '=': conversion from 'Py_ssize_t' to 'int', possible loss of data\n",
      "    glove/glove_cython.c(2357): warning C4244: '=': conversion from 'Py_ssize_t' to 'int', possible loss of data\n",
      "    glove/glove_cython.c(15114): warning C4996: 'PyEval_InitThreads': deprecated in 3.9\n",
      "    glove/glove_cython.c(15221): error C2039: 'tp_print': is not a member of '_typeobject'\n",
      "    C:\\Users\\agnes\\anaconda3\\include\\cpython/object.h(193): note: see declaration of '_typeobject'\n",
      "    glove/glove_cython.c(15224): error C2039: 'tp_print': is not a member of '_typeobject'\n",
      "    C:\\Users\\agnes\\anaconda3\\include\\cpython/object.h(193): note: see declaration of '_typeobject'\n",
      "    glove/glove_cython.c(15235): error C2039: 'tp_print': is not a member of '_typeobject'\n",
      "    C:\\Users\\agnes\\anaconda3\\include\\cpython/object.h(193): note: see declaration of '_typeobject'\n",
      "    glove/glove_cython.c(15244): error C2039: 'tp_print': is not a member of '_typeobject'\n",
      "    C:\\Users\\agnes\\anaconda3\\include\\cpython/object.h(193): note: see declaration of '_typeobject'\n",
      "    glove/glove_cython.c(15587): warning C4996: '_PyUnicode_get_wstr_length': deprecated in 3.3\n",
      "    glove/glove_cython.c(15603): warning C4996: '_PyUnicode_get_wstr_length': deprecated in 3.3\n",
      "    glove/glove_cython.c(16714): warning C4996: 'PyUnicode_FromUnicode': deprecated in 3.3\n",
      "    glove/glove_cython.c(16753): error C2039: 'exc_type': is not a member of '_ts'\n",
      "    C:\\Users\\agnes\\anaconda3\\include\\cpython/pystate.h(51): note: see declaration of '_ts'\n",
      "    glove/glove_cython.c(16754): error C2039: 'exc_value': is not a member of '_ts'\n",
      "    C:\\Users\\agnes\\anaconda3\\include\\cpython/pystate.h(51): note: see declaration of '_ts'\n",
      "    glove/glove_cython.c(16755): error C2039: 'exc_traceback': is not a member of '_ts'\n",
      "    C:\\Users\\agnes\\anaconda3\\include\\cpython/pystate.h(51): note: see declaration of '_ts'\n",
      "    glove/glove_cython.c(16767): error C2039: 'exc_type': is not a member of '_ts'\n",
      "    C:\\Users\\agnes\\anaconda3\\include\\cpython/pystate.h(51): note: see declaration of '_ts'\n",
      "    glove/glove_cython.c(16768): error C2039: 'exc_value': is not a member of '_ts'\n",
      "    C:\\Users\\agnes\\anaconda3\\include\\cpython/pystate.h(51): note: see declaration of '_ts'\n",
      "    glove/glove_cython.c(16769): error C2039: 'exc_traceback': is not a member of '_ts'\n",
      "    C:\\Users\\agnes\\anaconda3\\include\\cpython/pystate.h(51): note: see declaration of '_ts'\n",
      "    glove/glove_cython.c(16770): error C2039: 'exc_type': is not a member of '_ts'\n",
      "    C:\\Users\\agnes\\anaconda3\\include\\cpython/pystate.h(51): note: see declaration of '_ts'\n",
      "    glove/glove_cython.c(16771): error C2039: 'exc_value': is not a member of '_ts'\n",
      "    C:\\Users\\agnes\\anaconda3\\include\\cpython/pystate.h(51): note: see declaration of '_ts'\n",
      "    glove/glove_cython.c(16772): error C2039: 'exc_traceback': is not a member of '_ts'\n",
      "    C:\\Users\\agnes\\anaconda3\\include\\cpython/pystate.h(51): note: see declaration of '_ts'\n",
      "    glove/glove_cython.c(16815): error C2039: 'exc_type': is not a member of '_ts'\n",
      "    C:\\Users\\agnes\\anaconda3\\include\\cpython/pystate.h(51): note: see declaration of '_ts'\n",
      "    glove/glove_cython.c(16816): error C2039: 'exc_value': is not a member of '_ts'\n",
      "    C:\\Users\\agnes\\anaconda3\\include\\cpython/pystate.h(51): note: see declaration of '_ts'\n",
      "    glove/glove_cython.c(16817): error C2039: 'exc_traceback': is not a member of '_ts'\n",
      "    C:\\Users\\agnes\\anaconda3\\include\\cpython/pystate.h(51): note: see declaration of '_ts'\n",
      "    glove/glove_cython.c(16818): error C2039: 'exc_type': is not a member of '_ts'\n",
      "    C:\\Users\\agnes\\anaconda3\\include\\cpython/pystate.h(51): note: see declaration of '_ts'\n",
      "    glove/glove_cython.c(16819): error C2039: 'exc_value': is not a member of '_ts'\n",
      "    C:\\Users\\agnes\\anaconda3\\include\\cpython/pystate.h(51): note: see declaration of '_ts'\n",
      "    glove/glove_cython.c(16820): error C2039: 'exc_traceback': is not a member of '_ts'\n",
      "    C:\\Users\\agnes\\anaconda3\\include\\cpython/pystate.h(51): note: see declaration of '_ts'\n",
      "    glove/glove_cython.c(16842): error C2039: 'exc_type': is not a member of '_ts'\n",
      "    C:\\Users\\agnes\\anaconda3\\include\\cpython/pystate.h(51): note: see declaration of '_ts'\n",
      "    glove/glove_cython.c(16843): error C2039: 'exc_value': is not a member of '_ts'\n",
      "    C:\\Users\\agnes\\anaconda3\\include\\cpython/pystate.h(51): note: see declaration of '_ts'\n",
      "    glove/glove_cython.c(16844): error C2039: 'exc_traceback': is not a member of '_ts'\n",
      "    C:\\Users\\agnes\\anaconda3\\include\\cpython/pystate.h(51): note: see declaration of '_ts'\n",
      "    glove/glove_cython.c(16845): error C2039: 'exc_type': is not a member of '_ts'\n",
      "    C:\\Users\\agnes\\anaconda3\\include\\cpython/pystate.h(51): note: see declaration of '_ts'\n",
      "    glove/glove_cython.c(16846): error C2039: 'exc_value': is not a member of '_ts'\n",
      "    C:\\Users\\agnes\\anaconda3\\include\\cpython/pystate.h(51): note: see declaration of '_ts'\n",
      "    glove/glove_cython.c(16847): error C2039: 'exc_traceback': is not a member of '_ts'\n",
      "    C:\\Users\\agnes\\anaconda3\\include\\cpython/pystate.h(51): note: see declaration of '_ts'\n",
      "    error: command 'C:\\\\Program Files (x86)\\\\Microsoft Visual Studio\\\\2019\\\\Community\\\\VC\\\\Tools\\\\MSVC\\\\14.29.30037\\\\bin\\\\HostX86\\\\x64\\\\cl.exe' failed with exit code 2\n",
      "ERROR: Command errored out with exit status 1: 'C:\\Users\\agnes\\anaconda3\\python.exe' -u -c 'import io, os, sys, setuptools, tokenize; sys.argv[0] = '\"'\"'C:\\\\Users\\\\agnes\\\\AppData\\\\Local\\\\Temp\\\\pip-install-z6livfkx\\\\glove-python_0b68c72312e542008da6fd40c4837471\\\\setup.py'\"'\"'; __file__='\"'\"'C:\\\\Users\\\\agnes\\\\AppData\\\\Local\\\\Temp\\\\pip-install-z6livfkx\\\\glove-python_0b68c72312e542008da6fd40c4837471\\\\setup.py'\"'\"';f = getattr(tokenize, '\"'\"'open'\"'\"', open)(__file__) if os.path.exists(__file__) else io.StringIO('\"'\"'from setuptools import setup; setup()'\"'\"');code = f.read().replace('\"'\"'\\r\\n'\"'\"', '\"'\"'\\n'\"'\"');f.close();exec(compile(code, __file__, '\"'\"'exec'\"'\"'))' install --record 'C:\\Users\\agnes\\AppData\\Local\\Temp\\pip-record-fh_2fjkm\\install-record.txt' --single-version-externally-managed --compile --install-headers 'C:\\Users\\agnes\\anaconda3\\Include\\glove-python' Check the logs for full command output.\n",
      "WARNING: Ignoring invalid distribution -rotobuf (c:\\users\\agnes\\anaconda3\\lib\\site-packages)\n",
      "WARNING: Ignoring invalid distribution -rotobuf (c:\\users\\agnes\\anaconda3\\lib\\site-packages)\n",
      "WARNING: Ignoring invalid distribution -rotobuf (c:\\users\\agnes\\anaconda3\\lib\\site-packages)\n"
     ]
    }
   ],
   "source": [
    "pip -v install glove_python"
   ]
  },
  {
   "cell_type": "code",
   "execution_count": 12,
   "id": "452ab5a5",
   "metadata": {},
   "outputs": [
    {
     "name": "stdout",
     "output_type": "stream",
     "text": [
      "Collecting https://github.com/JonathanRaiman/glove/archive/master.zip\n",
      "  Downloading https://github.com/JonathanRaiman/glove/archive/master.zip\n",
      "Requirement already satisfied: cython in c:\\users\\agnes\\anaconda3\\lib\\site-packages (from glove==1.0.1) (0.29.24)\n",
      "Requirement already satisfied: numpy in c:\\users\\agnes\\anaconda3\\lib\\site-packages (from glove==1.0.1) (1.22.4)\n",
      "Building wheels for collected packages: glove\n",
      "  Building wheel for glove (setup.py): started\n",
      "  Building wheel for glove (setup.py): finished with status 'done'\n",
      "  Created wheel for glove: filename=glove-1.0.1-py3-none-any.whl size=4999 sha256=13b9edb39c1215bf0f71e2ef556cf5a3d17d12bc45e45e1002ca4dde35199771\n",
      "  Stored in directory: C:\\Users\\agnes\\AppData\\Local\\Temp\\pip-ephem-wheel-cache-1ysrpqlf\\wheels\\5b\\f6\\6b\\9c36ecbb8e6994993f357df4bee72e1d7a1d954b105a7714ab\n",
      "Note: you may need to restart the kernel to use updated packages.Successfully built glove\n",
      "\n",
      "Installing collected packages: glove"
     ]
    },
    {
     "name": "stderr",
     "output_type": "stream",
     "text": [
      "WARNING: Ignoring invalid distribution -rotobuf (c:\\users\\agnes\\anaconda3\\lib\\site-packages)\n",
      "WARNING: Ignoring invalid distribution -rotobuf (c:\\users\\agnes\\anaconda3\\lib\\site-packages)\n",
      "WARNING: Ignoring invalid distribution -rotobuf (c:\\users\\agnes\\anaconda3\\lib\\site-packages)\n",
      "WARNING: Ignoring invalid distribution -rotobuf (c:\\users\\agnes\\anaconda3\\lib\\site-packages)\n",
      "WARNING: Ignoring invalid distribution -rotobuf (c:\\users\\agnes\\anaconda3\\lib\\site-packages)\n",
      "WARNING: Ignoring invalid distribution -rotobuf (c:\\users\\agnes\\anaconda3\\lib\\site-packages)\n",
      "WARNING: Ignoring invalid distribution -rotobuf (c:\\users\\agnes\\anaconda3\\lib\\site-packages)\n"
     ]
    },
    {
     "name": "stdout",
     "output_type": "stream",
     "text": [
      "\n",
      "Successfully installed glove-1.0.1\n"
     ]
    }
   ],
   "source": [
    "pip install https://github.com/JonathanRaiman/glove/archive/master.zip"
   ]
  },
  {
   "cell_type": "code",
   "execution_count": null,
   "id": "1b2cf0d9",
   "metadata": {},
   "outputs": [],
   "source": []
  }
 ],
 "metadata": {
  "kernelspec": {
   "display_name": "Python 3 (ipykernel)",
   "language": "python",
   "name": "python3"
  },
  "language_info": {
   "codemirror_mode": {
    "name": "ipython",
    "version": 3
   },
   "file_extension": ".py",
   "mimetype": "text/x-python",
   "name": "python",
   "nbconvert_exporter": "python",
   "pygments_lexer": "ipython3",
   "version": "3.9.7"
  }
 },
 "nbformat": 4,
 "nbformat_minor": 5
}
