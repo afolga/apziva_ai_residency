{
 "cells": [
  {
   "cell_type": "code",
   "execution_count": 16,
   "id": "b8c3f752",
   "metadata": {},
   "outputs": [],
   "source": [
    "import csv\n",
    "import matplotlib.pyplot as plt\n",
    "import pandas as pd\n",
    "from sklearn.model_selection import train_test_split\n",
    "import numpy as np\n",
    "from scipy import stats\n",
    "from sklearn.feature_selection import SelectKBest\n",
    "from sklearn.feature_selection import chi2\n",
    "from sklearn.preprocessing import StandardScaler"
   ]
  },
  {
   "cell_type": "code",
   "execution_count": 2,
   "id": "dbab50cb",
   "metadata": {},
   "outputs": [
    {
     "name": "stdout",
     "output_type": "stream",
     "text": [
      "     Y  X1  X3  X5  X6\n",
      "0    0   3   3   2   4\n",
      "1    0   3   3   4   3\n",
      "2    1   5   3   3   5\n",
      "3    0   5   3   3   5\n",
      "4    0   5   3   3   5\n",
      "..  ..  ..  ..  ..  ..\n",
      "121  1   5   3   4   3\n",
      "122  1   5   3   2   5\n",
      "123  1   5   3   4   5\n",
      "124  0   4   3   4   5\n",
      "125  0   5   2   5   5\n",
      "\n",
      "[126 rows x 5 columns]\n"
     ]
    }
   ],
   "source": [
    "data=pd.read_csv('ACME-HappinessSurvey2020.csv')\n",
    "#print(data)\n",
    "data1=data.drop(columns=['X2','X4'])\n",
    "print(data1)"
   ]
  },
  {
   "cell_type": "code",
   "execution_count": 17,
   "id": "39460542",
   "metadata": {},
   "outputs": [],
   "source": [
    "\n",
    "#train = data[data.train==True]\n",
    "X = data1.drop(columns=['Y'])\n",
    "ss = StandardScaler()\n",
    "X = ss.fit_transform(X) \n",
    "Y = data1.Y"
   ]
  },
  {
   "cell_type": "code",
   "execution_count": 18,
   "id": "4bcda6bc",
   "metadata": {},
   "outputs": [],
   "source": [
    "X_train, X_test, y_train, y_test = train_test_split(X,Y,test_size=0.15, random_state=0) \n",
    "#data is small, dont waste data in testing, test size 0.15\n",
    "#random state for small data might play a role"
   ]
  },
  {
   "cell_type": "code",
   "execution_count": 19,
   "id": "1bb5d534",
   "metadata": {},
   "outputs": [
    {
     "name": "stdout",
     "output_type": "stream",
     "text": [
      "(126, 4) (126,)\n"
     ]
    }
   ],
   "source": [
    "print(X.shape, Y.shape)\n"
   ]
  },
  {
   "cell_type": "code",
   "execution_count": 20,
   "id": "e38676af",
   "metadata": {},
   "outputs": [
    {
     "name": "stdout",
     "output_type": "stream",
     "text": [
      "0      0\n",
      "1      0\n",
      "2      1\n",
      "3      0\n",
      "4      0\n",
      "      ..\n",
      "121    1\n",
      "122    1\n",
      "123    1\n",
      "124    0\n",
      "125    0\n",
      "Name: Y, Length: 126, dtype: int64\n"
     ]
    }
   ],
   "source": [
    "print(Y)"
   ]
  },
  {
   "cell_type": "code",
   "execution_count": 21,
   "id": "858785a2",
   "metadata": {},
   "outputs": [
    {
     "data": {
      "text/html": [
       "<div>\n",
       "<style scoped>\n",
       "    .dataframe tbody tr th:only-of-type {\n",
       "        vertical-align: middle;\n",
       "    }\n",
       "\n",
       "    .dataframe tbody tr th {\n",
       "        vertical-align: top;\n",
       "    }\n",
       "\n",
       "    .dataframe thead th {\n",
       "        text-align: right;\n",
       "    }\n",
       "</style>\n",
       "<table border=\"1\" class=\"dataframe\">\n",
       "  <thead>\n",
       "    <tr style=\"text-align: right;\">\n",
       "      <th></th>\n",
       "      <th>family</th>\n",
       "      <th>model</th>\n",
       "      <th>classification_rate</th>\n",
       "      <th>runtime</th>\n",
       "    </tr>\n",
       "  </thead>\n",
       "  <tbody>\n",
       "    <tr>\n",
       "      <th>0</th>\n",
       "      <td>KNN</td>\n",
       "      <td>KNN-1</td>\n",
       "      <td>0.578947</td>\n",
       "      <td>0.011867</td>\n",
       "    </tr>\n",
       "    <tr>\n",
       "      <th>1</th>\n",
       "      <td>KNN</td>\n",
       "      <td>KNN-2</td>\n",
       "      <td>0.578947</td>\n",
       "      <td>0.007063</td>\n",
       "    </tr>\n",
       "    <tr>\n",
       "      <th>2</th>\n",
       "      <td>KNN</td>\n",
       "      <td>KNN-3</td>\n",
       "      <td>0.473684</td>\n",
       "      <td>0.008069</td>\n",
       "    </tr>\n",
       "    <tr>\n",
       "      <th>3</th>\n",
       "      <td>KNN</td>\n",
       "      <td>KNN-4</td>\n",
       "      <td>0.473684</td>\n",
       "      <td>0.008021</td>\n",
       "    </tr>\n",
       "    <tr>\n",
       "      <th>4</th>\n",
       "      <td>KNN</td>\n",
       "      <td>KNN-5</td>\n",
       "      <td>0.526316</td>\n",
       "      <td>0.000000</td>\n",
       "    </tr>\n",
       "    <tr>\n",
       "      <th>5</th>\n",
       "      <td>KNN</td>\n",
       "      <td>KNN-6</td>\n",
       "      <td>0.473684</td>\n",
       "      <td>0.000000</td>\n",
       "    </tr>\n",
       "    <tr>\n",
       "      <th>6</th>\n",
       "      <td>KNN</td>\n",
       "      <td>KNN-7</td>\n",
       "      <td>0.578947</td>\n",
       "      <td>0.000000</td>\n",
       "    </tr>\n",
       "    <tr>\n",
       "      <th>7</th>\n",
       "      <td>KNN</td>\n",
       "      <td>KNN-8</td>\n",
       "      <td>0.526316</td>\n",
       "      <td>0.000000</td>\n",
       "    </tr>\n",
       "    <tr>\n",
       "      <th>8</th>\n",
       "      <td>KNN</td>\n",
       "      <td>KNN-9</td>\n",
       "      <td>0.526316</td>\n",
       "      <td>0.000000</td>\n",
       "    </tr>\n",
       "  </tbody>\n",
       "</table>\n",
       "</div>"
      ],
      "text/plain": [
       "  family  model  classification_rate   runtime\n",
       "0    KNN  KNN-1             0.578947  0.011867\n",
       "1    KNN  KNN-2             0.578947  0.007063\n",
       "2    KNN  KNN-3             0.473684  0.008069\n",
       "3    KNN  KNN-4             0.473684  0.008021\n",
       "4    KNN  KNN-5             0.526316  0.000000\n",
       "5    KNN  KNN-6             0.473684  0.000000\n",
       "6    KNN  KNN-7             0.578947  0.000000\n",
       "7    KNN  KNN-8             0.526316  0.000000\n",
       "8    KNN  KNN-9             0.526316  0.000000"
      ]
     },
     "execution_count": 21,
     "metadata": {},
     "output_type": "execute_result"
    }
   ],
   "source": [
    "from sklearn.neighbors import KNeighborsClassifier\n",
    "import time, math\n",
    "from sklearn.metrics import accuracy_score\n",
    "cols_results=['family','model','classification_rate','runtime']\n",
    "results = pd.DataFrame(columns=cols_results)\n",
    "kVals = range(1,10)\n",
    "knn_names = ['KNN-'+str(k) for k in kVals]\n",
    "for k in kVals:\n",
    "    knn = KNeighborsClassifier(n_neighbors=k)\n",
    "    knn.fit(X_train, y_train)\n",
    "    \n",
    "    time_start = time.time()\n",
    "    y_pred = knn.predict(X_test)\n",
    "    time_run = time.time()-time_start\n",
    "    \n",
    "    results = results.append(pd.DataFrame([['KNN',knn_names[k-1],accuracy_score(y_test,y_pred),time_run]],columns=cols_results),ignore_index=True)\n",
    "results[results.family=='KNN']"
   ]
  },
  {
   "cell_type": "code",
   "execution_count": 22,
   "id": "d13af442",
   "metadata": {},
   "outputs": [],
   "source": [
    "#feature engineering, check if all features are required, correlation matrix, see if any features are not correlated with target variable, then drop\n",
    "#use hyper parameter tuning, grid search cv , not manual selecting \n",
    "#suggest logistic regression decision trees , naive bayes , random forest, support vector machines (SVM) --> grid search on all these, dont default the same \n",
    "#from one of these methods you will get 73% accuracy "
   ]
  },
  {
   "cell_type": "code",
   "execution_count": 23,
   "id": "85b164aa",
   "metadata": {},
   "outputs": [
    {
     "data": {
      "text/html": [
       "<div>\n",
       "<style scoped>\n",
       "    .dataframe tbody tr th:only-of-type {\n",
       "        vertical-align: middle;\n",
       "    }\n",
       "\n",
       "    .dataframe tbody tr th {\n",
       "        vertical-align: top;\n",
       "    }\n",
       "\n",
       "    .dataframe thead th {\n",
       "        text-align: right;\n",
       "    }\n",
       "</style>\n",
       "<table border=\"1\" class=\"dataframe\">\n",
       "  <thead>\n",
       "    <tr style=\"text-align: right;\">\n",
       "      <th></th>\n",
       "      <th>Y</th>\n",
       "      <th>X1</th>\n",
       "      <th>X3</th>\n",
       "      <th>X5</th>\n",
       "      <th>X6</th>\n",
       "    </tr>\n",
       "  </thead>\n",
       "  <tbody>\n",
       "    <tr>\n",
       "      <th>Y</th>\n",
       "      <td>1.000</td>\n",
       "      <td>0.280</td>\n",
       "      <td>0.151</td>\n",
       "      <td>0.225</td>\n",
       "      <td>0.168</td>\n",
       "    </tr>\n",
       "    <tr>\n",
       "      <th>X1</th>\n",
       "      <td>0.280</td>\n",
       "      <td>1.000</td>\n",
       "      <td>0.283</td>\n",
       "      <td>0.433</td>\n",
       "      <td>0.412</td>\n",
       "    </tr>\n",
       "    <tr>\n",
       "      <th>X3</th>\n",
       "      <td>0.151</td>\n",
       "      <td>0.283</td>\n",
       "      <td>1.000</td>\n",
       "      <td>0.358</td>\n",
       "      <td>0.204</td>\n",
       "    </tr>\n",
       "    <tr>\n",
       "      <th>X5</th>\n",
       "      <td>0.225</td>\n",
       "      <td>0.433</td>\n",
       "      <td>0.358</td>\n",
       "      <td>1.000</td>\n",
       "      <td>0.320</td>\n",
       "    </tr>\n",
       "    <tr>\n",
       "      <th>X6</th>\n",
       "      <td>0.168</td>\n",
       "      <td>0.412</td>\n",
       "      <td>0.204</td>\n",
       "      <td>0.320</td>\n",
       "      <td>1.000</td>\n",
       "    </tr>\n",
       "  </tbody>\n",
       "</table>\n",
       "</div>"
      ],
      "text/plain": [
       "        Y     X1     X3     X5     X6\n",
       "Y   1.000  0.280  0.151  0.225  0.168\n",
       "X1  0.280  1.000  0.283  0.433  0.412\n",
       "X3  0.151  0.283  1.000  0.358  0.204\n",
       "X5  0.225  0.433  0.358  1.000  0.320\n",
       "X6  0.168  0.412  0.204  0.320  1.000"
      ]
     },
     "execution_count": 23,
     "metadata": {},
     "output_type": "execute_result"
    }
   ],
   "source": [
    "  data1.corr().round(3) ## look for closest to 0\n",
    "# try just dropping X2, X4\n",
    "## feature selection\n",
    "#hyper parametric tuning -- what are parameters, hyperparameters"
   ]
  },
  {
   "cell_type": "code",
   "execution_count": 24,
   "id": "42a5559b",
   "metadata": {},
   "outputs": [
    {
     "name": "stdout",
     "output_type": "stream",
     "text": [
      "accuracy: 0.6842105263157895\n",
      "f1 score: 0.6842105263157895\n"
     ]
    }
   ],
   "source": [
    "### NAIVE BAYES ###\n",
    "\n",
    "from sklearn.datasets import make_classification\n",
    "from sklearn.naive_bayes import GaussianNB\n",
    "model=GaussianNB()\n",
    "model.fit(X_train, y_train)\n",
    "predicted=model.predict(X_test)\n",
    "\n",
    "from sklearn.metrics import (\n",
    "accuracy_score,\n",
    "confusion_matrix,\n",
    "ConfusionMatrixDisplay,\n",
    "f1_score)\n",
    "\n",
    "y_pred=model.predict(X_test)\n",
    "accuracy=accuracy_score(y_pred,y_test)\n",
    "f1=f1_score(y_pred, y_test, average='weighted')\n",
    "print('accuracy:', accuracy)\n",
    "print('f1 score:', f1)"
   ]
  },
  {
   "cell_type": "code",
   "execution_count": 25,
   "id": "dc7d56bb",
   "metadata": {},
   "outputs": [
    {
     "name": "stdout",
     "output_type": "stream",
     "text": [
      "              precision    recall  f1-score   support\n",
      "\n",
      "           0       0.40      0.22      0.29         9\n",
      "           1       0.50      0.70      0.58        10\n",
      "\n",
      "    accuracy                           0.47        19\n",
      "   macro avg       0.45      0.46      0.43        19\n",
      "weighted avg       0.45      0.47      0.44        19\n",
      "\n"
     ]
    }
   ],
   "source": [
    "#### GRID SEARCH CV ###\n",
    "from sklearn.svm import SVC\n",
    "from sklearn.metrics import classification_report, confusion_matrix\n",
    "from sklearn.model_selection import GridSearchCV\n",
    "model=SVC()\n",
    "model.fit(X_train,y_train)\n",
    "predictions=model.predict(X_test)\n",
    "print(classification_report(y_test,predictions))"
   ]
  },
  {
   "cell_type": "code",
   "execution_count": 26,
   "id": "09552467",
   "metadata": {},
   "outputs": [
    {
     "name": "stdout",
     "output_type": "stream",
     "text": [
      "ACCURACY: 0.5789473684210527\n"
     ]
    }
   ],
   "source": [
    "### decision tree ####\n",
    "from sklearn.tree import DecisionTreeClassifier\n",
    "from sklearn import metrics\n",
    "clf=DecisionTreeClassifier()\n",
    "clf=clf.fit(X_train,y_train)\n",
    "y_pred=clf.predict(X_test)\n",
    "print(\"ACCURACY:\",metrics.accuracy_score(y_test,y_pred))"
   ]
  },
  {
   "cell_type": "code",
   "execution_count": 27,
   "id": "57c5d561",
   "metadata": {},
   "outputs": [
    {
     "name": "stdout",
     "output_type": "stream",
     "text": [
      "ACCURACY: 0.5789473684210527\n"
     ]
    }
   ],
   "source": [
    "## SVM ###\n",
    "svm_predict=SVC(kernel='linear')\n",
    "svm_predict.fit(X_train,y_train)\n",
    "y_pred_SVM=clf.predict(X_test)\n",
    "\n",
    "print(\"ACCURACY:\",metrics.accuracy_score(y_test,y_pred_SVM))"
   ]
  },
  {
   "cell_type": "code",
   "execution_count": 28,
   "id": "aab22d55",
   "metadata": {},
   "outputs": [],
   "source": [
    "import numpy as np\n",
    "from sklearn.ensemble import RandomForestClassifier\n",
    "from sklearn.model_selection import GridSearchCV\n",
    "rf=RandomForestClassifier()\n"
   ]
  },
  {
   "cell_type": "code",
   "execution_count": null,
   "id": "94275e43",
   "metadata": {},
   "outputs": [],
   "source": [
    "\n",
    "param_grid = { \n",
    "    'n_estimators': [25, 50, 100, 150], \n",
    "    'max_features': ['sqrt', 'log2', None], \n",
    "    'max_depth': [3, 6, 9], \n",
    "    'max_leaf_nodes': [3, 6, 9], \n",
    "} \n",
    "\n",
    "grid_search = GridSearchCV(RandomForestClassifier(), \n",
    "                           param_grid=param_grid) \n",
    "grid_search.fit(X_train, y_train) \n",
    "print(grid_search.best_estimator_) "
   ]
  },
  {
   "cell_type": "code",
   "execution_count": null,
   "id": "5474c04a",
   "metadata": {},
   "outputs": [],
   "source": [
    "\n",
    "model_grid = RandomForestClassifier(max_depth=9, \n",
    "                                    max_features=\"log2\", \n",
    "                                    max_leaf_nodes=9, \n",
    "                                    n_estimators=25) \n",
    "model_grid.fit(X_train, y_train) \n",
    "y_pred_grid = model.predict(X_test) \n",
    "print(classification_report(y_pred_grid, y_test)) "
   ]
  },
  {
   "cell_type": "code",
   "execution_count": 21,
   "id": "e155f03b",
   "metadata": {},
   "outputs": [
    {
     "name": "stdout",
     "output_type": "stream",
     "text": [
      "RandomForestClassifier(max_depth=6, max_features=None, max_leaf_nodes=9,\n",
      "                       n_estimators=25)\n",
      "              precision    recall  f1-score   support\n",
      "\n",
      "           0       0.33      0.38      0.35         8\n",
      "           1       0.50      0.45      0.48        11\n",
      "\n",
      "    accuracy                           0.42        19\n",
      "   macro avg       0.42      0.41      0.41        19\n",
      "weighted avg       0.43      0.42      0.42        19\n",
      "\n"
     ]
    }
   ],
   "source": [
    "from sklearn.model_selection import GridSearchCV, RandomizedSearchCV \n",
    "random_search = RandomizedSearchCV(RandomForestClassifier(), \n",
    "                                   param_grid) \n",
    "random_search.fit(X_train, y_train) \n",
    "print(random_search.best_estimator_)\n",
    "\n",
    "model_random = RandomForestClassifier(max_depth=3, \n",
    "                                      max_features='log2', \n",
    "                                      max_leaf_nodes=6, \n",
    "                                      n_estimators=100) \n",
    "model_random.fit(X_train, y_train) \n",
    "y_pred_rand = model.predict(X_test) \n",
    "print(classification_report(y_pred_rand, y_test)) "
   ]
  },
  {
   "cell_type": "code",
   "execution_count": null,
   "id": "bcb78f8d",
   "metadata": {},
   "outputs": [],
   "source": []
  }
 ],
 "metadata": {
  "kernelspec": {
   "display_name": "Python 3 (ipykernel)",
   "language": "python",
   "name": "python3"
  },
  "language_info": {
   "codemirror_mode": {
    "name": "ipython",
    "version": 3
   },
   "file_extension": ".py",
   "mimetype": "text/x-python",
   "name": "python",
   "nbconvert_exporter": "python",
   "pygments_lexer": "ipython3",
   "version": "3.9.7"
  }
 },
 "nbformat": 4,
 "nbformat_minor": 5
}
