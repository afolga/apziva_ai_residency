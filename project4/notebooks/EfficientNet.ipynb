{
 "cells": [
  {
   "cell_type": "code",
   "execution_count": 1,
   "id": "ba115faf",
   "metadata": {},
   "outputs": [],
   "source": [
    "import tensorflow as tf\n",
    "from tensorflow.keras import Model, Input, Sequential\n",
    "from tensorflow.keras.layers import Dense, Input, Conv2D, MaxPooling2D, Flatten\n",
    "import matplotlib.pyplot as plt\n",
    "import os\n",
    "import warnings\n",
    "warnings.filterwarnings('ignore')\n",
    "warnings.simplefilter('ignore')\n",
    "tf.compat.v1.logging.set_verbosity(tf.compat.v1.logging.ERROR)"
   ]
  },
  {
   "cell_type": "code",
   "execution_count": 2,
   "id": "d1611f2a",
   "metadata": {},
   "outputs": [],
   "source": [
    "img_height, img_width, img_channels = 180, 180, 3\n",
    "batch_size=32\n",
    "training=\"C:\\\\Users\\\\agnes\\\\Documents\\\\apziva_ai_residency\\\\project4\\\\data\\\\images\\\\training\"\n",
    "testing=\"C:\\\\Users\\\\agnes\\\\Documents\\\\apziva_ai_residency\\\\project4\\\\data\\\\images\\\\testing\"\n",
    "loading_dataste_seed = 0"
   ]
  },
  {
   "cell_type": "code",
   "execution_count": 3,
   "id": "baf58095",
   "metadata": {},
   "outputs": [
    {
     "name": "stdout",
     "output_type": "stream",
     "text": [
      "Found 2392 files belonging to 2 classes.\n",
      "Using 1914 files for training.\n"
     ]
    }
   ],
   "source": [
    "train_data = tf.keras.preprocessing.image_dataset_from_directory(\n",
    "    training,\n",
    "    validation_split=0.2,\n",
    "    subset=\"training\",\n",
    "    seed=loading_dataste_seed,\n",
    "    image_size=(img_height, img_width),\n",
    "    batch_size=batch_size\n",
    "    )"
   ]
  },
  {
   "cell_type": "code",
   "execution_count": 4,
   "id": "df56aa2b",
   "metadata": {},
   "outputs": [
    {
     "name": "stdout",
     "output_type": "stream",
     "text": [
      "Found 2392 files belonging to 2 classes.\n",
      "Using 478 files for validation.\n"
     ]
    }
   ],
   "source": [
    "val_data = tf.keras.preprocessing.image_dataset_from_directory(\n",
    "    training,\n",
    "    validation_split=0.2,\n",
    "    subset=\"validation\",\n",
    "    seed=loading_dataste_seed,\n",
    "    image_size=(img_height, img_width),\n",
    "    batch_size=batch_size\n",
    "    )"
   ]
  },
  {
   "cell_type": "code",
   "execution_count": 5,
   "id": "33e07010",
   "metadata": {},
   "outputs": [
    {
     "name": "stdout",
     "output_type": "stream",
     "text": [
      "Found 597 files belonging to 2 classes.\n"
     ]
    }
   ],
   "source": [
    "test_data = tf.keras.preprocessing.image_dataset_from_directory(\n",
    "    testing,\n",
    "    seed=loading_dataste_seed,\n",
    "    image_size=(img_height, img_width),\n",
    "    batch_size=batch_size\n",
    "    )"
   ]
  },
  {
   "cell_type": "code",
   "execution_count": 6,
   "id": "b102d6c1",
   "metadata": {},
   "outputs": [],
   "source": [
    "classes = train_data.class_names\n",
    "shape = (img_height, img_width, img_channels)\n",
    "data = (train_data, val_data, test_data)"
   ]
  },
  {
   "cell_type": "code",
   "execution_count": 7,
   "id": "e2d6e94b",
   "metadata": {},
   "outputs": [],
   "source": [
    "train_data, val_data, test_data = data"
   ]
  },
  {
   "cell_type": "code",
   "execution_count": 9,
   "id": "73d5a7e6",
   "metadata": {},
   "outputs": [],
   "source": [
    "inputs = Input(shape= shape)\n",
    "pretrained_EfficientNetV2B1_model = tf.keras.applications.EfficientNetV2B1(\n",
    "    include_top=False,\n",
    "    classes=len(classes),\n",
    "    classifier_activation='softmax',\n",
    "    include_preprocessing=True,\n",
    ")\n",
    "for layer in pretrained_EfficientNetV2B1_model.layers:\n",
    "    layer.trainable = False\n",
    "    layer1 = pretrained_EfficientNetV2B1_model(inputs)\n",
    "    layer2 = Flatten()(layer1)\n",
    "    layer3 = Dense(16, activation='relu', kernel_regularizer=tf.keras.regularizers.l2(0.01))(layer2)\n",
    "    outputs = Dense(len(classes), activation='softmax')(layer3)\n",
    "    EfficientNetV2B1_model = Model(inputs=inputs, outputs=outputs)"
   ]
  },
  {
   "cell_type": "code",
   "execution_count": 10,
   "id": "31cbf612",
   "metadata": {},
   "outputs": [
    {
     "name": "stdout",
     "output_type": "stream",
     "text": [
      "Model: \"model_667\"\n",
      "_________________________________________________________________\n",
      " Layer (type)                Output Shape              Param #   \n",
      "=================================================================\n",
      " input_3 (InputLayer)        [(None, 180, 180, 3)]     0         \n",
      "                                                                 \n",
      " efficientnetv2-b1 (Function  (None, None, None, 1280)  6931124  \n",
      " al)                                                             \n",
      "                                                                 \n",
      " flatten_667 (Flatten)       (None, 46080)             0         \n",
      "                                                                 \n",
      " dense_1334 (Dense)          (None, 16)                737296    \n",
      "                                                                 \n",
      " dense_1335 (Dense)          (None, 2)                 34        \n",
      "                                                                 \n",
      "=================================================================\n",
      "Total params: 7,668,454\n",
      "Trainable params: 737,330\n",
      "Non-trainable params: 6,931,124\n",
      "_________________________________________________________________\n"
     ]
    }
   ],
   "source": [
    "EfficientNetV2B1_model.compile(optimizer=tf.keras.optimizers.Adam(learning_rate=0.001), loss='sparse_categorical_crossentropy', metrics=['accuracy'])\n",
    "EfficientNetV2B1_model.summary()"
   ]
  },
  {
   "cell_type": "code",
   "execution_count": 11,
   "id": "8ef04f87",
   "metadata": {},
   "outputs": [
    {
     "name": "stdout",
     "output_type": "stream",
     "text": [
      "Epoch 1/5\n",
      "60/60 [==============================] - 181s 3s/step - loss: 0.7570 - accuracy: 0.8255 - val_loss: 0.3245 - val_accuracy: 0.9728\n",
      "Epoch 2/5\n",
      "60/60 [==============================] - 156s 3s/step - loss: 0.2938 - accuracy: 0.9603 - val_loss: 0.2001 - val_accuracy: 0.9812\n",
      "Epoch 3/5\n",
      "60/60 [==============================] - 157s 3s/step - loss: 0.1814 - accuracy: 0.9833 - val_loss: 0.1785 - val_accuracy: 0.9707\n",
      "Epoch 4/5\n",
      "60/60 [==============================] - 160s 3s/step - loss: 0.1318 - accuracy: 0.9885 - val_loss: 0.0965 - val_accuracy: 0.9958\n",
      "Epoch 5/5\n",
      "60/60 [==============================] - 160s 3s/step - loss: 0.0931 - accuracy: 0.9927 - val_loss: 0.1045 - val_accuracy: 0.9895\n"
     ]
    }
   ],
   "source": [
    "\n",
    "EfficientNetV2B1_model_hist = EfficientNetV2B1_model.fit(\n",
    "  train_data,\n",
    "  validation_data=val_data,\n",
    "  epochs=5\n",
    ")"
   ]
  },
  {
   "cell_type": "code",
   "execution_count": 12,
   "id": "cefad6a3",
   "metadata": {},
   "outputs": [],
   "source": [
    "from sklearn.metrics import accuracy_score\n",
    "from sklearn.metrics import f1_score\n",
    "from sklearn.metrics import confusion_matrix\n",
    "import matplotlib.pyplot as plt\n",
    "def eval_model(model, test_data):   \n",
    "    results={}\n",
    "    predicted_labels = []\n",
    "    true_labels = []\n",
    "    all_images = []\n",
    "    for images, labels in test_data:\n",
    "        true_labels.extend(labels.numpy())\n",
    "        predicted_labels.extend(tf.argmax(model.predict(images), axis=1).numpy())\n",
    "\n",
    "    # Accuracy\n",
    "    results['accuracy'] = accuracy_score(true_labels, predicted_labels)\n",
    "    \n",
    "    # F1 Score\n",
    "    results['f1_score'] = f1_score(true_labels, predicted_labels)\n",
    "        \n",
    "    cm = confusion_matrix(true_labels, predicted_labels)\n",
    "    \n",
    "    class_names = test_data.class_names\n",
    "    plt.figure(figsize=(8, 6))\n",
    "    sns.heatmap(cm, annot=True, fmt='d', cmap='Blues', xticklabels=class_names, yticklabels=class_names)\n",
    "    plt.xlabel('Predicted Labels')\n",
    "    plt.ylabel('True Labels')\n",
    "    plt.title('Confusion Matrix')\n",
    "    plt.show()\n",
    "    return results"
   ]
  },
  {
   "cell_type": "code",
   "execution_count": 15,
   "id": "e960b6ea",
   "metadata": {},
   "outputs": [
    {
     "name": "stdout",
     "output_type": "stream",
     "text": [
      "1/1 [==============================] - 7s 7s/step\n",
      "1/1 [==============================] - 2s 2s/step\n",
      "1/1 [==============================] - 2s 2s/step\n",
      "1/1 [==============================] - 2s 2s/step\n",
      "1/1 [==============================] - 2s 2s/step\n",
      "1/1 [==============================] - 2s 2s/step\n",
      "1/1 [==============================] - 2s 2s/step\n",
      "1/1 [==============================] - 2s 2s/step\n",
      "1/1 [==============================] - 2s 2s/step\n",
      "1/1 [==============================] - 2s 2s/step\n",
      "1/1 [==============================] - 2s 2s/step\n",
      "1/1 [==============================] - 2s 2s/step\n",
      "1/1 [==============================] - 2s 2s/step\n",
      "1/1 [==============================] - 2s 2s/step\n",
      "1/1 [==============================] - 2s 2s/step\n",
      "1/1 [==============================] - 2s 2s/step\n",
      "1/1 [==============================] - 2s 2s/step\n",
      "1/1 [==============================] - 2s 2s/step\n",
      "1/1 [==============================] - 7s 7s/step\n"
     ]
    },
    {
     "data": {
      "image/png": "[encoded data removed]",
      "text/plain": [
       "<Figure size 576x432 with 2 Axes>"
      ]
     },
     "metadata": {
      "needs_background": "light"
     },
     "output_type": "display_data"
    },
    {
     "data": {
      "text/plain": [
       "{'accuracy': 0.9882747068676717, 'f1_score': 0.9886914378029078}"
      ]
     },
     "execution_count": 15,
     "metadata": {},
     "output_type": "execute_result"
    }
   ],
   "source": [
    "import seaborn as sns\n",
    "eval_model(EfficientNetV2B1_model, test_data)"
   ]
  },
  {
   "cell_type": "code",
   "execution_count": 28,
   "id": "5754537c",
   "metadata": {
    "scrolled": true
   },
   "outputs": [
    {
     "name": "stdout",
     "output_type": "stream",
     "text": [
      "Model size:  35.41743469238281 MB\n"
     ]
    }
   ],
   "source": [
    "efficient_net_path = '../models/efficient_net.h5'\n",
    "EfficientNetV2B1_model.save(efficient_net_path)\n",
    "EfficientNetV2B1_model.save(efficient_net_path)\n",
    "efficient_net_size = os.path.getsize(efficient_net_path) / (1024 * 1024)\n",
    "print('Model size: ', efficient_net_size, 'MB')"
   ]
  },
  {
   "cell_type": "code",
   "execution_count": null,
   "id": "6a422608",
   "metadata": {},
   "outputs": [],
   "source": []
  },
  {
   "cell_type": "code",
   "execution_count": null,
   "id": "09dbe249",
   "metadata": {},
   "outputs": [],
   "source": []
  }
 ],
 "metadata": {
  "kernelspec": {
   "display_name": "Python 3 (ipykernel)",
   "language": "python",
   "name": "python3"
  },
  "language_info": {
   "codemirror_mode": {
    "name": "ipython",
    "version": 3
   },
   "file_extension": ".py",
   "mimetype": "text/x-python",
   "name": "python",
   "nbconvert_exporter": "python",
   "pygments_lexer": "ipython3",
   "version": "3.9.7"
  }
 },
 "nbformat": 4,
 "nbformat_minor": 5
}
