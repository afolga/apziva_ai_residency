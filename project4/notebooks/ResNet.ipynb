{
 "cells": [
  {
   "cell_type": "code",
   "execution_count": 1,
   "id": "b7a76f0c",
   "metadata": {},
   "outputs": [
    {
     "name": "stderr",
     "output_type": "stream",
     "text": [
      "C:\\Users\\agnes\\anaconda3\\lib\\site-packages\\tensorflow_addons\\utils\\tfa_eol_msg.py:23: UserWarning: \n",
      "\n",
      "TensorFlow Addons (TFA) has ended development and introduction of new features.\n",
      "TFA has entered a minimal maintenance and release mode until a planned end of life in May 2024.\n",
      "Please modify downstream libraries to take dependencies from other repositories in our TensorFlow community (e.g. Keras, Keras-CV, and Keras-NLP). \n",
      "\n",
      "For more information see: https://github.com/tensorflow/addons/issues/2807 \n",
      "\n",
      "  warnings.warn(\n",
      "C:\\Users\\agnes\\anaconda3\\lib\\site-packages\\tensorflow_addons\\utils\\ensure_tf_install.py:53: UserWarning: Tensorflow Addons supports using Python ops for all Tensorflow versions above or equal to 2.12.0 and strictly below 2.15.0 (nightly versions are not supported). \n",
      " The versions of TensorFlow you are currently using is 2.10.1 and is not supported. \n",
      "Some things might work, some things might not.\n",
      "If you were to encounter a bug, do not file an issue.\n",
      "If you want to make sure you're using a tested and supported configuration, either change the TensorFlow version or the TensorFlow Addons's version. \n",
      "You can find the compatibility matrix in TensorFlow Addon's readme:\n",
      "https://github.com/tensorflow/addons\n",
      "  warnings.warn(\n"
     ]
    }
   ],
   "source": [
    "import tensorflow as tf\n",
    "import tensorflow_addons as tfa\n",
    "import matplotlib.pyplot as plt\n",
    "import numpy as np\n",
    "%matplotlib inline\n",
    "from keras.preprocessing.image import ImageDataGenerator"
   ]
  },
  {
   "cell_type": "code",
   "execution_count": 2,
   "id": "c73a38ae",
   "metadata": {},
   "outputs": [],
   "source": [
    "### how do i even open all the images ,what do i use \n",
    "## im trying to read some papers on MobileNet, ResNet, should i look at. not implementing the algorithm, just using \n",
    "# look at tf, keras. traingenerator \n",
    "train_datagen = ImageDataGenerator(rescale = 1./255,\n",
    "                                   shear_range = 0.2,\n",
    "                                   zoom_range = 0.2,\n",
    "                                   horizontal_flip = True,\n",
    "                                   fill_mode=\"nearest\")"
   ]
  },
  {
   "cell_type": "code",
   "execution_count": 3,
   "id": "8eb85763",
   "metadata": {},
   "outputs": [
    {
     "name": "stdout",
     "output_type": "stream",
     "text": [
      "Found 2392 images belonging to 2 classes.\n",
      "Found 597 images belonging to 2 classes.\n"
     ]
    }
   ],
   "source": [
    "trainImageData = train_datagen.flow_from_directory(\"C:\\\\Users\\\\agnes\\\\Documents\\\\apziva_ai_residency\\\\project4\\\\data\\\\images\\\\training\",\n",
    "                                                     batch_size=32, #how much images to give per iteration in an epoch\n",
    "                                                     class_mode=\"binary\", #Incase of multi-class classification, \"categorical\"\n",
    "                                                     target_size=(64,64) #Ensures all images are of same size (resizing)\n",
    "                                                     ) \n",
    "testImageData = train_datagen.flow_from_directory(\"C:\\\\Users\\\\agnes\\\\Documents\\\\apziva_ai_residency\\\\project4\\\\data\\\\images\\\\testing\",\n",
    "                                                     batch_size=32, #how much images to give per iteration in an epoch\n",
    "                                                     class_mode=\"binary\", #Incase of multi-class classification, \"categorical\"\n",
    "                                                     target_size=(64,64) #Ensures all images are of same size (resizing)\n",
    "                                                     ) "
   ]
  },
  {
   "cell_type": "code",
   "execution_count": 4,
   "id": "a8bb663c",
   "metadata": {},
   "outputs": [],
   "source": [
    "## load ResNet from keras to perform transfer learning\n",
    "from tensorflow.keras.layers import Dense, GlobalAveragePooling2D, Flatten\n",
    "from tensorflow.keras.applications import ResNet152\n",
    "from tensorflow.keras.models import Sequential\n",
    "from tensorflow.keras.preprocessing.image import ImageDataGenerator"
   ]
  },
  {
   "cell_type": "code",
   "execution_count": 5,
   "id": "c5b00ebe",
   "metadata": {},
   "outputs": [
    {
     "name": "stdout",
     "output_type": "stream",
     "text": [
      "Downloading data from https://storage.googleapis.com/tensorflow/keras-applications/resnet/resnet152_weights_tf_dim_ordering_tf_kernels_notop.h5\n",
      "234698864/234698864 [==============================] - 8s 0us/step\n"
     ]
    }
   ],
   "source": [
    "# Importing the ResNet model but discarding the last 1000 neuron layer for adjustment to our dataset\n",
    "base_model = tf.keras.applications.ResNet152(weights = 'imagenet', include_top = False, input_shape=(64, 64, 3))"
   ]
  },
  {
   "cell_type": "code",
   "execution_count": 6,
   "id": "613dff2c",
   "metadata": {},
   "outputs": [],
   "source": [
    "## freeze the base_model so we keep the pre-trained structure\n",
    "base_model.trainable = False"
   ]
  },
  {
   "cell_type": "code",
   "execution_count": 7,
   "id": "12ccbb16",
   "metadata": {},
   "outputs": [],
   "source": [
    "## adjust model to our own dataset\n",
    "model = tf.keras.models.Sequential([\n",
    "    base_model,\n",
    "    Flatten(),\n",
    "    Dense(1024, activation='relu'),\n",
    "    Dense(1, activation='sigmoid')\n",
    "])"
   ]
  },
  {
   "cell_type": "code",
   "execution_count": 8,
   "id": "dac45ab1",
   "metadata": {},
   "outputs": [
    {
     "name": "stdout",
     "output_type": "stream",
     "text": [
      "Model: \"sequential\"\n",
      "_________________________________________________________________\n",
      " Layer (type)                Output Shape              Param #   \n",
      "=================================================================\n",
      " resnet152 (Functional)      (None, 2, 2, 2048)        58370944  \n",
      "                                                                 \n",
      " flatten (Flatten)           (None, 8192)              0         \n",
      "                                                                 \n",
      " dense (Dense)               (None, 1024)              8389632   \n",
      "                                                                 \n",
      " dense_1 (Dense)             (None, 1)                 1025      \n",
      "                                                                 \n",
      "=================================================================\n",
      "Total params: 66,761,601\n",
      "Trainable params: 8,390,657\n",
      "Non-trainable params: 58,370,944\n",
      "_________________________________________________________________\n"
     ]
    }
   ],
   "source": [
    "model.summary()"
   ]
  },
  {
   "cell_type": "code",
   "execution_count": 9,
   "id": "92d74a3c",
   "metadata": {},
   "outputs": [],
   "source": [
    "## compile \n",
    "model.compile(optimizer=\"adam\",\n",
    "              loss=\"binary_crossentropy\", #For multi-class classification: categorical_crossentropy | sparse_categorical_crossentropy\n",
    "              metrics=[tfa.metrics.F1Score(num_classes=1, threshold=0.5)])"
   ]
  },
  {
   "cell_type": "code",
   "execution_count": 10,
   "id": "0cd91b3b",
   "metadata": {},
   "outputs": [
    {
     "data": {
      "text/plain": [
       "74"
      ]
     },
     "execution_count": 10,
     "metadata": {},
     "output_type": "execute_result"
    }
   ],
   "source": [
    "len(trainImageData.filenames) // trainImageData.batch_size\n"
   ]
  },
  {
   "cell_type": "code",
   "execution_count": 12,
   "id": "eaaf9c4a",
   "metadata": {},
   "outputs": [
    {
     "name": "stdout",
     "output_type": "stream",
     "text": [
      "Epoch 1/10\n",
      "74/74 [==============================] - 78s 989ms/step - loss: 0.8179 - f1_score: 0.5660 - val_loss: 0.7047 - val_f1_score: 0.6570\n",
      "Epoch 2/10\n",
      "74/74 [==============================] - 70s 946ms/step - loss: 0.6998 - f1_score: 0.5705 - val_loss: 0.6964 - val_f1_score: 0.3664\n",
      "Epoch 3/10\n",
      "74/74 [==============================] - 70s 947ms/step - loss: 0.6745 - f1_score: 0.5887 - val_loss: 0.6822 - val_f1_score: 0.5520\n",
      "Epoch 4/10\n",
      "74/74 [==============================] - 70s 951ms/step - loss: 0.6711 - f1_score: 0.6210 - val_loss: 0.6583 - val_f1_score: 0.4957\n",
      "Epoch 5/10\n",
      "74/74 [==============================] - 70s 947ms/step - loss: 0.6655 - f1_score: 0.6108 - val_loss: 0.6721 - val_f1_score: 0.4802\n",
      "Epoch 6/10\n",
      "74/74 [==============================] - 73s 985ms/step - loss: 0.6605 - f1_score: 0.6275 - val_loss: 0.6554 - val_f1_score: 0.5943\n",
      "Epoch 7/10\n",
      "74/74 [==============================] - 70s 949ms/step - loss: 0.6463 - f1_score: 0.6361 - val_loss: 0.6399 - val_f1_score: 0.6897\n",
      "Epoch 8/10\n",
      "74/74 [==============================] - 71s 955ms/step - loss: 0.6545 - f1_score: 0.6367 - val_loss: 0.6411 - val_f1_score: 0.6910\n",
      "Epoch 9/10\n",
      "74/74 [==============================] - 70s 948ms/step - loss: 0.6385 - f1_score: 0.6587 - val_loss: 0.6684 - val_f1_score: 0.5597\n",
      "Epoch 10/10\n",
      "74/74 [==============================] - 71s 965ms/step - loss: 0.6476 - f1_score: 0.6460 - val_loss: 0.6497 - val_f1_score: 0.6329\n"
     ]
    },
    {
     "data": {
      "text/plain": [
       "<keras.callbacks.History at 0x1d9a28b3580>"
      ]
     },
     "execution_count": 12,
     "metadata": {},
     "output_type": "execute_result"
    }
   ],
   "source": [
    "# Fit the model\n",
    "model.fit(trainImageData,\n",
    "          validation_data=testImageData,\n",
    "          epochs=10,\n",
    "          steps_per_epoch = len(trainImageData.filenames) // trainImageData.batch_size,\n",
    "          validation_steps= len(testImageData.filenames) // testImageData.batch_size)"
   ]
  },
  {
   "cell_type": "code",
   "execution_count": 15,
   "id": "3dd0164a",
   "metadata": {},
   "outputs": [],
   "source": [
    "model.save('ResNet.keras')\n"
   ]
  },
  {
   "cell_type": "code",
   "execution_count": null,
   "id": "6c0f2fc5",
   "metadata": {},
   "outputs": [],
   "source": [
    "## Model is massive --> 327 MB, not for phone"
   ]
  }
 ],
 "metadata": {
  "kernelspec": {
   "display_name": "Python 3 (ipykernel)",
   "language": "python",
   "name": "python3"
  },
  "language_info": {
   "codemirror_mode": {
    "name": "ipython",
    "version": 3
   },
   "file_extension": ".py",
   "mimetype": "text/x-python",
   "name": "python",
   "nbconvert_exporter": "python",
   "pygments_lexer": "ipython3",
   "version": "3.9.7"
  }
 },
 "nbformat": 4,
 "nbformat_minor": 5
}
