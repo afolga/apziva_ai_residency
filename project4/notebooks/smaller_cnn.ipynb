{
 "cells": [
  {
   "cell_type": "code",
   "execution_count": 3,
   "id": "4042ea3a",
   "metadata": {},
   "outputs": [],
   "source": [
    "\n",
    "import keras\n",
    "from keras.datasets import mnist\n",
    "from keras.models import Sequential\n",
    "from keras.layers import Dense, Dropout, Flatten\n",
    "from keras.layers import Conv2D, MaxPooling2D\n",
    "import numpy as np\n",
    "%matplotlib inline\n",
    "from keras.preprocessing.image import ImageDataGenerator\n",
    "\n"
   ]
  },
  {
   "cell_type": "code",
   "execution_count": 4,
   "id": "09baadc1",
   "metadata": {},
   "outputs": [],
   "source": [
    "train_datagen = ImageDataGenerator(rescale = 1./255,\n",
    "                                   shear_range = 0.2,\n",
    "                                   zoom_range = 0.2,\n",
    "                                   horizontal_flip = True,\n",
    "                                   fill_mode=\"nearest\")"
   ]
  },
  {
   "cell_type": "code",
   "execution_count": 9,
   "id": "dd35eb21",
   "metadata": {},
   "outputs": [
    {
     "name": "stdout",
     "output_type": "stream",
     "text": [
      "Found 2392 images belonging to 2 classes.\n",
      "Found 597 images belonging to 2 classes.\n"
     ]
    }
   ],
   "source": [
    "trainImageData = train_datagen.flow_from_directory(\"C:\\\\Users\\\\agnes\\\\Documents\\\\apziva_ai_residency\\\\project4\\\\data\\\\images\\\\training\",\n",
    "                                                     batch_size=32, #how much images to give per iteration in an epoch\n",
    "                                                     class_mode=\"binary\", #Incase of multi-class classification, \"categorical\"\n",
    "                                                     target_size=(64,64) #Ensures all images are of same size (resizing)\n",
    "                                                     ) \n",
    "testImageData = train_datagen.flow_from_directory(\"C:\\\\Users\\\\agnes\\\\Documents\\\\apziva_ai_residency\\\\project4\\\\data\\\\images\\\\testing\",\n",
    "                                                     batch_size=32, #how much images to give per iteration in an epoch\n",
    "                                                     class_mode=\"binary\", #Incase of multi-class classification, \"categorical\"\n",
    "                                                     target_size=(64,64) #Ensures all images are of same size (resizing)\n",
    "                                                     ) "
   ]
  },
  {
   "cell_type": "code",
   "execution_count": 10,
   "id": "ab39fe86",
   "metadata": {},
   "outputs": [
    {
     "name": "stdout",
     "output_type": "stream",
     "text": [
      "{'flip': 0, 'notflip': 1}\n",
      "{'flip': 0, 'notflip': 1}\n"
     ]
    },
    {
     "data": {
      "text/plain": [
       "(64, 64, 3)"
      ]
     },
     "execution_count": 10,
     "metadata": {},
     "output_type": "execute_result"
    }
   ],
   "source": [
    "class_name_train = trainImageData.class_indices\n",
    "print(class_name_train)\n",
    "class_name_test = testImageData.class_indices\n",
    "print(class_name_test)\n",
    "trainImageData.image_shape\n"
   ]
  },
  {
   "cell_type": "code",
   "execution_count": 11,
   "id": "a0fbaf21",
   "metadata": {},
   "outputs": [],
   "source": [
    "## the model itself \n",
    "import tensorflow as tf\n",
    "cnn = tf.keras.models.Sequential()"
   ]
  },
  {
   "cell_type": "code",
   "execution_count": 12,
   "id": "449dc41a",
   "metadata": {},
   "outputs": [
    {
     "name": "stdout",
     "output_type": "stream",
     "text": [
      "channels_last\n"
     ]
    }
   ],
   "source": [
    "from keras import backend as K\n",
    "print(K.image_data_format())"
   ]
  },
  {
   "cell_type": "code",
   "execution_count": 13,
   "id": "e5d4b656",
   "metadata": {},
   "outputs": [],
   "source": [
    "cnn.add(tf.keras.layers.Conv2D(32 , (3,3) , input_shape= trainImageData.image_shape , activation= 'relu' , padding='same' )) #Convolve\n"
   ]
  },
  {
   "cell_type": "code",
   "execution_count": 14,
   "id": "04ee0b20",
   "metadata": {},
   "outputs": [],
   "source": [
    "cnn.add(tf.keras.layers.MaxPooling2D(pool_size=(2,2))) #Pooling\n"
   ]
  },
  {
   "cell_type": "code",
   "execution_count": 15,
   "id": "9c8761d4",
   "metadata": {},
   "outputs": [],
   "source": [
    "cnn.add(tf.keras.layers.Conv2D(16 , (3,3), activation= 'relu' , padding='same' )) #Convolve\n",
    "cnn.add(tf.keras.layers.MaxPooling2D(pool_size=(2,2))) "
   ]
  },
  {
   "cell_type": "code",
   "execution_count": 16,
   "id": "51ad29f4",
   "metadata": {},
   "outputs": [],
   "source": [
    "cnn.add(tf.keras.layers.Flatten())\n"
   ]
  },
  {
   "cell_type": "code",
   "execution_count": 18,
   "id": "9c61a24f",
   "metadata": {},
   "outputs": [],
   "source": [
    "cnn.add(tf.keras.layers.Dropout(0.2))\n",
    "#changing units to less\n",
    "cnn.add(tf.keras.layers.Dense(units= 256, activation=\"relu\"))\n",
    "cnn.add(tf.keras.layers.Dropout(0.2))\n",
    "cnn.add(tf.keras.layers.Dense(units= 128, activation=\"relu\"))\n",
    "cnn.add(tf.keras.layers.Dense(units= 1 , activation=\"sigmoid\"))\n"
   ]
  },
  {
   "cell_type": "code",
   "execution_count": 19,
   "id": "1451f5d8",
   "metadata": {},
   "outputs": [
    {
     "name": "stdout",
     "output_type": "stream",
     "text": [
      "Model: \"sequential_1\"\n",
      "_________________________________________________________________\n",
      " Layer (type)                Output Shape              Param #   \n",
      "=================================================================\n",
      " conv2d (Conv2D)             (None, 64, 64, 32)        896       \n",
      "                                                                 \n",
      " max_pooling2d (MaxPooling2D  (None, 32, 32, 32)       0         \n",
      " )                                                               \n",
      "                                                                 \n",
      " conv2d_1 (Conv2D)           (None, 32, 32, 16)        4624      \n",
      "                                                                 \n",
      " max_pooling2d_1 (MaxPooling  (None, 16, 16, 16)       0         \n",
      " 2D)                                                             \n",
      "                                                                 \n",
      " flatten (Flatten)           (None, 4096)              0         \n",
      "                                                                 \n",
      " dropout (Dropout)           (None, 4096)              0         \n",
      "                                                                 \n",
      " dense (Dense)               (None, 256)               1048832   \n",
      "                                                                 \n",
      " dropout_1 (Dropout)         (None, 256)               0         \n",
      "                                                                 \n",
      " dense_1 (Dense)             (None, 256)               65792     \n",
      "                                                                 \n",
      " dense_2 (Dense)             (None, 1)                 257       \n",
      "                                                                 \n",
      " dropout_2 (Dropout)         (None, 1)                 0         \n",
      "                                                                 \n",
      " dense_3 (Dense)             (None, 256)               512       \n",
      "                                                                 \n",
      " dropout_3 (Dropout)         (None, 256)               0         \n",
      "                                                                 \n",
      " dense_4 (Dense)             (None, 128)               32896     \n",
      "                                                                 \n",
      " dense_5 (Dense)             (None, 1)                 129       \n",
      "                                                                 \n",
      "=================================================================\n",
      "Total params: 1,153,938\n",
      "Trainable params: 1,153,938\n",
      "Non-trainable params: 0\n",
      "_________________________________________________________________\n"
     ]
    }
   ],
   "source": [
    "cnn.summary()"
   ]
  },
  {
   "cell_type": "code",
   "execution_count": 20,
   "id": "1c9c3714",
   "metadata": {},
   "outputs": [
    {
     "name": "stderr",
     "output_type": "stream",
     "text": [
      "C:\\Users\\agnes\\anaconda3\\lib\\site-packages\\tensorflow_addons\\utils\\tfa_eol_msg.py:23: UserWarning: \n",
      "\n",
      "TensorFlow Addons (TFA) has ended development and introduction of new features.\n",
      "TFA has entered a minimal maintenance and release mode until a planned end of life in May 2024.\n",
      "Please modify downstream libraries to take dependencies from other repositories in our TensorFlow community (e.g. Keras, Keras-CV, and Keras-NLP). \n",
      "\n",
      "For more information see: https://github.com/tensorflow/addons/issues/2807 \n",
      "\n",
      "  warnings.warn(\n",
      "C:\\Users\\agnes\\anaconda3\\lib\\site-packages\\tensorflow_addons\\utils\\ensure_tf_install.py:53: UserWarning: Tensorflow Addons supports using Python ops for all Tensorflow versions above or equal to 2.12.0 and strictly below 2.15.0 (nightly versions are not supported). \n",
      " The versions of TensorFlow you are currently using is 2.10.1 and is not supported. \n",
      "Some things might work, some things might not.\n",
      "If you were to encounter a bug, do not file an issue.\n",
      "If you want to make sure you're using a tested and supported configuration, either change the TensorFlow version or the TensorFlow Addons's version. \n",
      "You can find the compatibility matrix in TensorFlow Addon's readme:\n",
      "https://github.com/tensorflow/addons\n",
      "  warnings.warn(\n"
     ]
    }
   ],
   "source": [
    " import tensorflow_addons as tfa\n",
    "\n",
    "#Compile\n",
    "\n",
    "cnn.compile(optimizer=\"adam\",\n",
    "              loss=\"binary_crossentropy\", #For multi-class classification: categorical_crossentropy | sparse_categorical_crossentropy\n",
    "              metrics=[tfa.metrics.F1Score(num_classes=1, threshold=0.5)])"
   ]
  },
  {
   "cell_type": "code",
   "execution_count": 21,
   "id": "56e5699e",
   "metadata": {},
   "outputs": [
    {
     "data": {
      "text/plain": [
       "74"
      ]
     },
     "execution_count": 21,
     "metadata": {},
     "output_type": "execute_result"
    }
   ],
   "source": [
    "len(trainImageData.filenames) // trainImageData.batch_size"
   ]
  },
  {
   "cell_type": "code",
   "execution_count": 22,
   "id": "fe62e029",
   "metadata": {},
   "outputs": [
    {
     "name": "stdout",
     "output_type": "stream",
     "text": [
      "Epoch 1/10\n",
      "74/74 [==============================] - 289s 4s/step - loss: 0.6932 - f1_score: 0.6761 - val_loss: 0.6929 - val_f1_score: 0.6774\n",
      "Epoch 2/10\n",
      "74/74 [==============================] - 231s 3s/step - loss: 0.6931 - f1_score: 0.6779 - val_loss: 0.6929 - val_f1_score: 0.6789\n",
      "Epoch 3/10\n",
      "74/74 [==============================] - 231s 3s/step - loss: 0.6934 - f1_score: 0.6782 - val_loss: 0.6928 - val_f1_score: 0.6804\n",
      "Epoch 4/10\n",
      "74/74 [==============================] - 231s 3s/step - loss: 0.6931 - f1_score: 0.6794 - val_loss: 0.6927 - val_f1_score: 0.6804\n",
      "Epoch 5/10\n",
      "74/74 [==============================] - 230s 3s/step - loss: 0.6928 - f1_score: 0.6812 - val_loss: 0.6932 - val_f1_score: 0.6743\n",
      "Epoch 6/10\n",
      "74/74 [==============================] - 230s 3s/step - loss: 0.6931 - f1_score: 0.6779 - val_loss: 0.6933 - val_f1_score: 0.6713\n",
      "Epoch 7/10\n",
      "74/74 [==============================] - 231s 3s/step - loss: 0.6929 - f1_score: 0.6797 - val_loss: 0.6927 - val_f1_score: 0.6804\n",
      "Epoch 8/10\n",
      "74/74 [==============================] - 232s 3s/step - loss: 0.6930 - f1_score: 0.6775 - val_loss: 0.6928 - val_f1_score: 0.6789\n",
      "Epoch 9/10\n",
      "74/74 [==============================] - 233s 3s/step - loss: 0.6929 - f1_score: 0.6786 - val_loss: 0.6928 - val_f1_score: 0.6789\n",
      "Epoch 10/10\n",
      "74/74 [==============================] - 222s 3s/step - loss: 0.6929 - f1_score: 0.6790 - val_loss: 0.6928 - val_f1_score: 0.6789\n"
     ]
    },
    {
     "data": {
      "text/plain": [
       "<keras.callbacks.History at 0x23ba1751430>"
      ]
     },
     "execution_count": 22,
     "metadata": {},
     "output_type": "execute_result"
    }
   ],
   "source": [
    "# fit \n",
    "cnn.fit(trainImageData,\n",
    "          validation_data=testImageData,\n",
    "          epochs=10,\n",
    "          steps_per_epoch = len(trainImageData.filenames) // trainImageData.batch_size,\n",
    "          validation_steps= len(testImageData.filenames) // testImageData.batch_size)"
   ]
  },
  {
   "cell_type": "code",
   "execution_count": 23,
   "id": "9e543e30",
   "metadata": {},
   "outputs": [
    {
     "name": "stderr",
     "output_type": "stream",
     "text": [
      "WARNING:absl:Found untraced functions such as _jit_compiled_convolution_op, _jit_compiled_convolution_op while saving (showing 2 of 2). These functions will not be directly callable after loading.\n"
     ]
    },
    {
     "name": "stdout",
     "output_type": "stream",
     "text": [
      "INFO:tensorflow:Assets written to: smaller.keras_tf\\assets\n"
     ]
    },
    {
     "name": "stderr",
     "output_type": "stream",
     "text": [
      "INFO:tensorflow:Assets written to: smaller.keras_tf\\assets\n"
     ]
    }
   ],
   "source": [
    "cnn.save('smaller.keras_tf')"
   ]
  },
  {
   "cell_type": "code",
   "execution_count": 24,
   "id": "7ded36b1",
   "metadata": {},
   "outputs": [
    {
     "data": {
      "text/plain": [
       "<matplotlib.image.AxesImage at 0x23ba1d27760>"
      ]
     },
     "execution_count": 24,
     "metadata": {},
     "output_type": "execute_result"
    },
    {
     "data": {
      "image/png": "[encoded data removed]",
      "text/plain": [
       "<Figure size 432x288 with 1 Axes>"
      ]
     },
     "metadata": {
      "needs_background": "light"
     },
     "output_type": "display_data"
    }
   ],
   "source": [
    "import matplotlib.pyplot as plt\n",
    "imageToPredict = tf.keras.preprocessing.image.load_img(r'C:\\Users\\agnes\\Documents\\apziva_ai_residency\\project4\\data\\images\\testing\\flip\\0065_000000001.jpg', target_size=(64,64))\n",
    "plt.imshow(imageToPredict)"
   ]
  },
  {
   "cell_type": "code",
   "execution_count": 25,
   "id": "51ddddfb",
   "metadata": {},
   "outputs": [
    {
     "data": {
      "text/plain": [
       "(64, 64, 3)"
      ]
     },
     "execution_count": 25,
     "metadata": {},
     "output_type": "execute_result"
    }
   ],
   "source": [
    "#Step2: Convert image to np array \n",
    "myImageNPArray = tf.keras.preprocessing.image.img_to_array(imageToPredict)\n",
    "myImageNPArray.shape"
   ]
  },
  {
   "cell_type": "code",
   "execution_count": 27,
   "id": "e5ed1a62",
   "metadata": {},
   "outputs": [
    {
     "data": {
      "text/plain": [
       "(1, 64, 64, 3)"
      ]
     },
     "execution_count": 27,
     "metadata": {},
     "output_type": "execute_result"
    }
   ],
   "source": [
    "\n",
    "# Step3: Make the image compatible for the model by adding n\n",
    "myCompatibleImage = np.expand_dims(myImageNPArray, axis = 0)\n",
    "myCompatibleImage.shape"
   ]
  },
  {
   "cell_type": "code",
   "execution_count": 28,
   "id": "b372bbac",
   "metadata": {},
   "outputs": [
    {
     "name": "stdout",
     "output_type": "stream",
     "text": [
      "1/1 [==============================] - 0s 90ms/step\n"
     ]
    }
   ],
   "source": [
    "\n",
    "#Step4: Prediction\n",
    "prediction = cnn.predict(myCompatibleImage)"
   ]
  },
  {
   "cell_type": "code",
   "execution_count": 29,
   "id": "ffc5db59",
   "metadata": {},
   "outputs": [
    {
     "name": "stdout",
     "output_type": "stream",
     "text": [
      "[[0.51099616]]\n"
     ]
    }
   ],
   "source": [
    "print(prediction)"
   ]
  },
  {
   "cell_type": "code",
   "execution_count": null,
   "id": "11d179a2",
   "metadata": {},
   "outputs": [],
   "source": [
    "### model not as accurate\n",
    "## but less than 55 mb"
   ]
  }
 ],
 "metadata": {
  "kernelspec": {
   "display_name": "Python 3 (ipykernel)",
   "language": "python",
   "name": "python3"
  },
  "language_info": {
   "codemirror_mode": {
    "name": "ipython",
    "version": 3
   },
   "file_extension": ".py",
   "mimetype": "text/x-python",
   "name": "python",
   "nbconvert_exporter": "python",
   "pygments_lexer": "ipython3",
   "version": "3.9.7"
  }
 },
 "nbformat": 4,
 "nbformat_minor": 5
}
