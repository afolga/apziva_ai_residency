{
 "cells": [
  {
   "cell_type": "code",
   "execution_count": 4,
   "id": "75f88ea3",
   "metadata": {},
   "outputs": [],
   "source": [
    "import tensorflow as tf\n",
    "import tensorflow_addons as tfa\n",
    "import matplotlib.pyplot as plt\n",
    "import numpy as np\n",
    "%matplotlib inline\n",
    "from keras.preprocessing.image import ImageDataGenerator\n",
    "\n"
   ]
  },
  {
   "cell_type": "code",
   "execution_count": 5,
   "id": "425fe162",
   "metadata": {},
   "outputs": [],
   "source": [
    "train_datagen = ImageDataGenerator(rescale = 1./255,\n",
    "                                   shear_range = 0.2,\n",
    "                                   zoom_range = 0.2,\n",
    "                                   horizontal_flip = True,\n",
    "                                   fill_mode=\"nearest\")"
   ]
  },
  {
   "cell_type": "code",
   "execution_count": 6,
   "id": "02c00e26",
   "metadata": {},
   "outputs": [
    {
     "name": "stdout",
     "output_type": "stream",
     "text": [
      "Found 2392 images belonging to 2 classes.\n",
      "Found 597 images belonging to 2 classes.\n"
     ]
    }
   ],
   "source": [
    "trainImageData = train_datagen.flow_from_directory(\"C:\\\\Users\\\\agnes\\\\Documents\\\\apziva_ai_residency\\\\project4\\\\data\\\\images\\\\training\",\n",
    "                                                     batch_size=32, #how much images to give per iteration in an epoch\n",
    "                                                     class_mode=\"binary\", #Incase of multi-class classification, \"categorical\"\n",
    "                                                     target_size=(64,64) #Ensures all images are of same size (resizing)\n",
    "                                                     ) \n",
    "testImageData = train_datagen.flow_from_directory(\"C:\\\\Users\\\\agnes\\\\Documents\\\\apziva_ai_residency\\\\project4\\\\data\\\\images\\\\testing\",\n",
    "                                                     batch_size=32, #how much images to give per iteration in an epoch\n",
    "                                                     class_mode=\"binary\", #Incase of multi-class classification, \"categorical\"\n",
    "                                                     target_size=(64,64) #Ensures all images are of same size (resizing)\n",
    "                                                     ) "
   ]
  },
  {
   "cell_type": "code",
   "execution_count": 1,
   "id": "fb3907f9",
   "metadata": {},
   "outputs": [
    {
     "name": "stdout",
     "output_type": "stream",
     "text": [
      "Downloading data from https://storage.googleapis.com/tensorflow/keras-applications/mobilenet/mobilenet_1_0_224_tf.h5\n",
      "17225924/17225924 [==============================] - 1s 0us/step\n"
     ]
    }
   ],
   "source": [
    "from tensorflow.keras.preprocessing import image\n",
    "from tensorflow.keras.applications import MobileNet, imagenet_utils\n",
    "from tensorflow.keras.layers import Dense, GlobalAveragePooling2D\n",
    "from tensorflow.keras.models import Sequential\n",
    "mobile = MobileNet()"
   ]
  },
  {
   "cell_type": "code",
   "execution_count": null,
   "id": "85e733a6",
   "metadata": {},
   "outputs": [],
   "source": []
  }
 ],
 "metadata": {
  "kernelspec": {
   "display_name": "Python 3 (ipykernel)",
   "language": "python",
   "name": "python3"
  },
  "language_info": {
   "codemirror_mode": {
    "name": "ipython",
    "version": 3
   },
   "file_extension": ".py",
   "mimetype": "text/x-python",
   "name": "python",
   "nbconvert_exporter": "python",
   "pygments_lexer": "ipython3",
   "version": "3.9.7"
  }
 },
 "nbformat": 4,
 "nbformat_minor": 5
}
