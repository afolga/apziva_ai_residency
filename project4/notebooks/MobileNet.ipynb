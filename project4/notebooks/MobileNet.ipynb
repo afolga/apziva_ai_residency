{
 "cells": [
  {
   "cell_type": "code",
   "execution_count": 2,
   "id": "75f88ea3",
   "metadata": {},
   "outputs": [],
   "source": [
    "import tensorflow as tf\n",
    "from tensorflow.keras import Model, Input, Sequential\n",
    "from tensorflow.keras.layers import Dense, Input, Conv2D, MaxPooling2D, Flatten\n",
    "import matplotlib.pyplot as plt\n",
    "import os\n",
    "import warnings\n",
    "warnings.filterwarnings('ignore')\n",
    "warnings.simplefilter('ignore')\n",
    "tf.compat.v1.logging.set_verbosity(tf.compat.v1.logging.ERROR)"
   ]
  },
  {
   "cell_type": "code",
   "execution_count": 3,
   "id": "425fe162",
   "metadata": {},
   "outputs": [],
   "source": [
    "img_height, img_width, img_channels = 180, 180, 3\n",
    "batch_size=32\n",
    "training=\"C:\\\\Users\\\\agnes\\\\Documents\\\\apziva_ai_residency\\\\project4\\\\data\\\\images\\\\training\"\n",
    "testing=\"C:\\\\Users\\\\agnes\\\\Documents\\\\apziva_ai_residency\\\\project4\\\\data\\\\images\\\\testing\"\n",
    "loading_dataste_seed = 0"
   ]
  },
  {
   "cell_type": "code",
   "execution_count": 4,
   "id": "02c00e26",
   "metadata": {},
   "outputs": [
    {
     "name": "stdout",
     "output_type": "stream",
     "text": [
      "Found 2392 files belonging to 2 classes.\n",
      "Using 1914 files for training.\n"
     ]
    }
   ],
   "source": [
    "train_data = tf.keras.preprocessing.image_dataset_from_directory(\n",
    "    training,\n",
    "    validation_split=0.2,\n",
    "    subset=\"training\",\n",
    "    seed=loading_dataste_seed,\n",
    "    image_size=(img_height, img_width),\n",
    "    batch_size=batch_size\n",
    "    )"
   ]
  },
  {
   "cell_type": "code",
   "execution_count": 5,
   "id": "fb3907f9",
   "metadata": {},
   "outputs": [
    {
     "name": "stdout",
     "output_type": "stream",
     "text": [
      "Found 2392 files belonging to 2 classes.\n",
      "Using 478 files for validation.\n"
     ]
    }
   ],
   "source": [
    "val_data = tf.keras.preprocessing.image_dataset_from_directory(\n",
    "    training,\n",
    "    validation_split=0.2,\n",
    "    subset=\"validation\",\n",
    "    seed=loading_dataste_seed,\n",
    "    image_size=(img_height, img_width),\n",
    "    batch_size=batch_size\n",
    "    )"
   ]
  },
  {
   "cell_type": "code",
   "execution_count": 6,
   "id": "85e733a6",
   "metadata": {},
   "outputs": [
    {
     "name": "stdout",
     "output_type": "stream",
     "text": [
      "Found 597 files belonging to 2 classes.\n"
     ]
    }
   ],
   "source": [
    "test_data = tf.keras.preprocessing.image_dataset_from_directory(\n",
    "    testing,\n",
    "    seed=loading_dataste_seed,\n",
    "    image_size=(img_height, img_width),\n",
    "    batch_size=batch_size\n",
    "    )"
   ]
  },
  {
   "cell_type": "code",
   "execution_count": 7,
   "id": "c70bddac",
   "metadata": {},
   "outputs": [],
   "source": [
    "classes = train_data.class_names\n",
    "shape = (img_height, img_width, img_channels)\n",
    "data = (train_data, val_data, test_data)"
   ]
  },
  {
   "cell_type": "code",
   "execution_count": 8,
   "id": "58639d55",
   "metadata": {},
   "outputs": [],
   "source": [
    "train_data, val_data, test_data = data"
   ]
  },
  {
   "cell_type": "code",
   "execution_count": 9,
   "id": "083342ba",
   "metadata": {},
   "outputs": [
    {
     "name": "stdout",
     "output_type": "stream",
     "text": [
      "Downloading data from https://storage.googleapis.com/tensorflow/keras-applications/mobilenet_v3/weights_mobilenet_v3_small_224_1.0_float_no_top_v2.h5\n",
      "4334752/4334752 [==============================] - 0s 0us/step\n"
     ]
    }
   ],
   "source": [
    "inputs = Input(shape= shape)\n",
    "pretrained_mobilenet_V3_Small = tf.keras.applications.MobileNetV3Small(\n",
    "    include_top=False,\n",
    "    classes=len(classes),\n",
    "    classifier_activation=None\n",
    ")\n",
    "for layer in pretrained_mobilenet_V3_Small.layers:\n",
    "    layer.trainable = False\n",
    "    layer1 = pretrained_mobilenet_V3_Small(inputs)\n",
    "    layer2 = Flatten()(layer1)\n",
    "    layer3 = Dense(128, activation='relu', kernel_regularizer=tf.keras.regularizers.l2(0.01))(layer2)\n",
    "    outputs = Dense(len(classes), activation='softmax')(layer3)\n",
    "    mobilenet_V3_small_model = Model(inputs=inputs, outputs=outputs)"
   ]
  },
  {
   "cell_type": "code",
   "execution_count": 10,
   "id": "1bb4301f",
   "metadata": {},
   "outputs": [
    {
     "name": "stdout",
     "output_type": "stream",
     "text": [
      "Model: \"model_228\"\n",
      "_________________________________________________________________\n",
      " Layer (type)                Output Shape              Param #   \n",
      "=================================================================\n",
      " input_1 (InputLayer)        [(None, 180, 180, 3)]     0         \n",
      "                                                                 \n",
      " MobilenetV3small (Functiona  (None, None, None, 576)  939120    \n",
      " l)                                                              \n",
      "                                                                 \n",
      " flatten_228 (Flatten)       (None, 14400)             0         \n",
      "                                                                 \n",
      " dense_456 (Dense)           (None, 128)               1843328   \n",
      "                                                                 \n",
      " dense_457 (Dense)           (None, 2)                 258       \n",
      "                                                                 \n",
      "=================================================================\n",
      "Total params: 2,782,706\n",
      "Trainable params: 1,843,586\n",
      "Non-trainable params: 939,120\n",
      "_________________________________________________________________\n"
     ]
    }
   ],
   "source": [
    "mobilenet_V3_small_model.compile(optimizer=tf.keras.optimizers.Adam(learning_rate=0.001), loss='sparse_categorical_crossentropy', metrics=['accuracy'])\n",
    "mobilenet_V3_small_model.summary()"
   ]
  },
  {
   "cell_type": "code",
   "execution_count": 11,
   "id": "0872abe4",
   "metadata": {},
   "outputs": [
    {
     "name": "stdout",
     "output_type": "stream",
     "text": [
      "Epoch 1/7\n",
      "60/60 [==============================] - 48s 619ms/step - loss: 1.8825 - accuracy: 0.8918 - val_loss: 0.9446 - val_accuracy: 0.9874\n",
      "Epoch 2/7\n",
      "60/60 [==============================] - 37s 582ms/step - loss: 0.7080 - accuracy: 0.9916 - val_loss: 0.5225 - val_accuracy: 0.9937\n",
      "Epoch 3/7\n",
      "60/60 [==============================] - 37s 583ms/step - loss: 0.4352 - accuracy: 0.9906 - val_loss: 0.3643 - val_accuracy: 0.9854\n",
      "Epoch 4/7\n",
      "60/60 [==============================] - 37s 590ms/step - loss: 0.3571 - accuracy: 0.9801 - val_loss: 0.3291 - val_accuracy: 0.9916\n",
      "Epoch 5/7\n",
      "60/60 [==============================] - 34s 541ms/step - loss: 0.2789 - accuracy: 0.9875 - val_loss: 0.2657 - val_accuracy: 0.9833\n",
      "Epoch 6/7\n",
      "60/60 [==============================] - 34s 543ms/step - loss: 0.2231 - accuracy: 0.9890 - val_loss: 0.2051 - val_accuracy: 0.9854\n",
      "Epoch 7/7\n",
      "60/60 [==============================] - 36s 577ms/step - loss: 0.1753 - accuracy: 0.9932 - val_loss: 0.1790 - val_accuracy: 0.9833\n"
     ]
    }
   ],
   "source": [
    "\n",
    "mobilenet_V3_small_model_hist = mobilenet_V3_small_model.fit(\n",
    "  train_data,\n",
    "  validation_data=val_data,\n",
    "  epochs=7\n",
    ")"
   ]
  },
  {
   "cell_type": "code",
   "execution_count": 12,
   "id": "bae81eab",
   "metadata": {},
   "outputs": [
    {
     "data": {
      "image/png": "[encoded data removed]",
      "text/plain": [
       "<Figure size 432x288 with 1 Axes>"
      ]
     },
     "metadata": {
      "needs_background": "light"
     },
     "output_type": "display_data"
    }
   ],
   "source": [
    "plt.plot(mobilenet_V3_small_model_hist.history['accuracy'])\n",
    "plt.plot(mobilenet_V3_small_model_hist.history['val_accuracy'])\n",
    "plt.axis(ymin=0.4,ymax=1)\n",
    "plt.grid()\n",
    "plt.title('Mobilenet V3 Small Model Accuracy')\n",
    "plt.ylabel('Accuracy')\n",
    "plt.xlabel('Epochs')\n",
    "plt.legend(['train', 'validation'])\n",
    "plt.show()"
   ]
  },
  {
   "cell_type": "code",
   "execution_count": 14,
   "id": "f4e14d28",
   "metadata": {},
   "outputs": [],
   "source": [
    "from sklearn.metrics import accuracy_score\n",
    "from sklearn.metrics import f1_score\n",
    "from sklearn.metrics import confusion_matrix\n",
    "import matplotlib.pyplot as plt\n",
    "def eval_model(model, test_data):   \n",
    "    results={}\n",
    "    predicted_labels = []\n",
    "    true_labels = []\n",
    "    all_images = []\n",
    "    for images, labels in test_data:\n",
    "        true_labels.extend(labels.numpy())\n",
    "        predicted_labels.extend(tf.argmax(model.predict(images), axis=1).numpy())\n",
    "\n",
    "    # Accuracy\n",
    "    results['accuracy'] = accuracy_score(true_labels, predicted_labels)\n",
    "    \n",
    "    # F1 Score\n",
    "    results['f1_score'] = f1_score(true_labels, predicted_labels)\n",
    "        \n",
    "    cm = confusion_matrix(true_labels, predicted_labels)\n",
    "    \n",
    "    class_names = test_data.class_names\n",
    "    plt.figure(figsize=(8, 6))\n",
    "    sns.heatmap(cm, annot=True, fmt='d', cmap='Blues', xticklabels=class_names, yticklabels=class_names)\n",
    "    plt.xlabel('Predicted Labels')\n",
    "    plt.ylabel('True Labels')\n",
    "    plt.title('Confusion Matrix')\n",
    "    plt.show()\n",
    "    return results"
   ]
  },
  {
   "cell_type": "code",
   "execution_count": 16,
   "id": "e0ba6b78",
   "metadata": {},
   "outputs": [
    {
     "name": "stdout",
     "output_type": "stream",
     "text": [
      "1/1 [==============================] - 3s 3s/step\n",
      "1/1 [==============================] - 0s 348ms/step\n",
      "1/1 [==============================] - 0s 427ms/step\n",
      "1/1 [==============================] - 0s 375ms/step\n",
      "1/1 [==============================] - 0s 374ms/step\n",
      "1/1 [==============================] - 0s 392ms/step\n",
      "1/1 [==============================] - 0s 430ms/step\n",
      "1/1 [==============================] - 0s 383ms/step\n",
      "1/1 [==============================] - 0s 400ms/step\n",
      "1/1 [==============================] - 0s 343ms/step\n",
      "1/1 [==============================] - 0s 331ms/step\n",
      "1/1 [==============================] - 0s 344ms/step\n",
      "1/1 [==============================] - 0s 338ms/step\n",
      "1/1 [==============================] - 0s 346ms/step\n",
      "1/1 [==============================] - 0s 344ms/step\n",
      "1/1 [==============================] - 0s 349ms/step\n",
      "1/1 [==============================] - 0s 351ms/step\n",
      "1/1 [==============================] - 0s 348ms/step\n",
      "1/1 [==============================] - 2s 2s/step\n"
     ]
    },
    {
     "data": {
      "image/png": "[encoded data removed]",
      "text/plain": [
       "<Figure size 576x432 with 2 Axes>"
      ]
     },
     "metadata": {
      "needs_background": "light"
     },
     "output_type": "display_data"
    },
    {
     "data": {
      "text/plain": [
       "{'accuracy': 0.9849246231155779, 'f1_score': 0.985553772070626}"
      ]
     },
     "execution_count": 16,
     "metadata": {},
     "output_type": "execute_result"
    }
   ],
   "source": [
    "import seaborn as sns\n",
    "eval_model(mobilenet_V3_small_model, test_data)"
   ]
  },
  {
   "cell_type": "code",
   "execution_count": 17,
   "id": "f5b1029a",
   "metadata": {},
   "outputs": [
    {
     "name": "stdout",
     "output_type": "stream",
     "text": [
      "Model size:  24.97901153564453 MB\n"
     ]
    }
   ],
   "source": [
    "mobilenet_V3_small_model_path = '../models/mobilenet_V3_small_model.h5'\n",
    "mobilenet_V3_small_model.save(mobilenet_V3_small_model_path)\n",
    "mobilenet_V3_small_model_size = os.path.getsize(mobilenet_V3_small_model_path) / (1024 * 1024)\n",
    "print('Model size: ', mobilenet_V3_small_model_size, 'MB')"
   ]
  },
  {
   "cell_type": "code",
   "execution_count": null,
   "id": "692fa1ee",
   "metadata": {},
   "outputs": [],
   "source": []
  }
 ],
 "metadata": {
  "kernelspec": {
   "display_name": "Python 3 (ipykernel)",
   "language": "python",
   "name": "python3"
  },
  "language_info": {
   "codemirror_mode": {
    "name": "ipython",
    "version": 3
   },
   "file_extension": ".py",
   "mimetype": "text/x-python",
   "name": "python",
   "nbconvert_exporter": "python",
   "pygments_lexer": "ipython3",
   "version": "3.9.7"
  }
 },
 "nbformat": 4,
 "nbformat_minor": 5
}
