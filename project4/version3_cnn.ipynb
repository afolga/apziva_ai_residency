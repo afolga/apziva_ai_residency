{
 "cells": [
  {
   "cell_type": "code",
   "execution_count": 1,
   "id": "cdd59873",
   "metadata": {},
   "outputs": [],
   "source": [
    "import tensorflow as tf\n",
    "from tensorflow.keras import Model, Input, Sequential\n",
    "from tensorflow.keras.layers import Dense, Input, Conv2D, MaxPooling2D, Flatten\n",
    "import matplotlib.pyplot as plt\n",
    "import os\n",
    "import warnings\n",
    "warnings.filterwarnings('ignore')\n",
    "warnings.simplefilter('ignore')\n",
    "tf.compat.v1.logging.set_verbosity(tf.compat.v1.logging.ERROR)"
   ]
  },
  {
   "cell_type": "code",
   "execution_count": 2,
   "id": "a502cd1d",
   "metadata": {},
   "outputs": [],
   "source": [
    "img_height, img_width, img_channels = 180, 180, 3\n",
    "batch_size=32\n",
    "training=\"C:\\\\Users\\\\agnes\\\\Documents\\\\apziva_ai_residency\\\\project4\\\\data\\\\images\\\\training\"\n",
    "testing=\"C:\\\\Users\\\\agnes\\\\Documents\\\\apziva_ai_residency\\\\project4\\\\data\\\\images\\\\testing\"\n",
    "loading_dataste_seed = 0"
   ]
  },
  {
   "cell_type": "code",
   "execution_count": 3,
   "id": "a95d19ed",
   "metadata": {},
   "outputs": [
    {
     "name": "stdout",
     "output_type": "stream",
     "text": [
      "Found 2392 files belonging to 2 classes.\n",
      "Using 1914 files for training.\n"
     ]
    }
   ],
   "source": [
    "train_data = tf.keras.preprocessing.image_dataset_from_directory(\n",
    "    training,\n",
    "    validation_split=0.2,\n",
    "    subset=\"training\",\n",
    "    seed=loading_dataste_seed,\n",
    "    image_size=(img_height, img_width),\n",
    "    batch_size=batch_size\n",
    "    )"
   ]
  },
  {
   "cell_type": "code",
   "execution_count": 4,
   "id": "f100fec2",
   "metadata": {},
   "outputs": [
    {
     "name": "stdout",
     "output_type": "stream",
     "text": [
      "Found 2392 files belonging to 2 classes.\n",
      "Using 478 files for validation.\n"
     ]
    }
   ],
   "source": [
    "val_data = tf.keras.preprocessing.image_dataset_from_directory(\n",
    "    training,\n",
    "    validation_split=0.2,\n",
    "    subset=\"validation\",\n",
    "    seed=loading_dataste_seed,\n",
    "    image_size=(img_height, img_width),\n",
    "    batch_size=batch_size\n",
    "    )"
   ]
  },
  {
   "cell_type": "code",
   "execution_count": 5,
   "id": "97bb3614",
   "metadata": {},
   "outputs": [
    {
     "name": "stdout",
     "output_type": "stream",
     "text": [
      "Found 597 files belonging to 2 classes.\n"
     ]
    }
   ],
   "source": [
    "test_data = tf.keras.preprocessing.image_dataset_from_directory(\n",
    "    testing,\n",
    "    seed=loading_dataste_seed,\n",
    "    image_size=(img_height, img_width),\n",
    "    batch_size=batch_size\n",
    "    )"
   ]
  },
  {
   "cell_type": "code",
   "execution_count": 6,
   "id": "95aea014",
   "metadata": {},
   "outputs": [],
   "source": [
    "classes = train_data.class_names\n",
    "shape = (img_height, img_width, img_channels)\n",
    "data = (train_data, val_data, test_data)\n",
    "train_data, val_data, test_data = data"
   ]
  },
  {
   "cell_type": "code",
   "execution_count": 7,
   "id": "1295748b",
   "metadata": {
    "scrolled": true
   },
   "outputs": [],
   "source": [
    "inputs = Input(shape= shape)\n",
    "layer1 = Conv2D(filters=64, kernel_size=(3, 3), activation='relu')(inputs)\n",
    "layer2 = MaxPooling2D((2,2))(layer1)\n",
    "layer3 = Conv2D(filters=32, kernel_size=(3, 3), activation='relu')(layer2)\n",
    "layer4 = MaxPooling2D((2,2))(layer3)\n",
    "layer5 = Conv2D(filters=32, kernel_size=(3, 3), activation='relu')(layer4)\n",
    "layer6 = MaxPooling2D((2,2))(layer5)\n",
    "layer7 = Conv2D(filters=16, kernel_size=(3, 3), activation='relu')(layer6)\n",
    "layer8 = Flatten()(layer7)\n",
    "layer9 = Dense(32, activation='relu')(layer8)\n",
    "outputs = Dense(len(classes), activation='softmax')(layer9)\n",
    "fd_model = Model(inputs=inputs, outputs=outputs)"
   ]
  },
  {
   "cell_type": "code",
   "execution_count": 8,
   "id": "4115dc0e",
   "metadata": {},
   "outputs": [
    {
     "name": "stdout",
     "output_type": "stream",
     "text": [
      "Model: \"model\"\n",
      "_________________________________________________________________\n",
      " Layer (type)                Output Shape              Param #   \n",
      "=================================================================\n",
      " input_1 (InputLayer)        [(None, 180, 180, 3)]     0         \n",
      "                                                                 \n",
      " conv2d (Conv2D)             (None, 178, 178, 64)      1792      \n",
      "                                                                 \n",
      " max_pooling2d (MaxPooling2D  (None, 89, 89, 64)       0         \n",
      " )                                                               \n",
      "                                                                 \n",
      " conv2d_1 (Conv2D)           (None, 87, 87, 32)        18464     \n",
      "                                                                 \n",
      " max_pooling2d_1 (MaxPooling  (None, 43, 43, 32)       0         \n",
      " 2D)                                                             \n",
      "                                                                 \n",
      " conv2d_2 (Conv2D)           (None, 41, 41, 32)        9248      \n",
      "                                                                 \n",
      " max_pooling2d_2 (MaxPooling  (None, 20, 20, 32)       0         \n",
      " 2D)                                                             \n",
      "                                                                 \n",
      " conv2d_3 (Conv2D)           (None, 18, 18, 16)        4624      \n",
      "                                                                 \n",
      " flatten (Flatten)           (None, 5184)              0         \n",
      "                                                                 \n",
      " dense (Dense)               (None, 32)                165920    \n",
      "                                                                 \n",
      " dense_1 (Dense)             (None, 2)                 66        \n",
      "                                                                 \n",
      "=================================================================\n",
      "Total params: 200,114\n",
      "Trainable params: 200,114\n",
      "Non-trainable params: 0\n",
      "_________________________________________________________________\n"
     ]
    }
   ],
   "source": [
    "fd_model.compile(\n",
    "    optimizer='adam',\n",
    "    loss='sparse_categorical_crossentropy',\n",
    "    metrics=['accuracy']\n",
    ")\n",
    "fd_model.summary()"
   ]
  },
  {
   "cell_type": "code",
   "execution_count": 9,
   "id": "b7a19ecb",
   "metadata": {},
   "outputs": [
    {
     "name": "stdout",
     "output_type": "stream",
     "text": [
      "Epoch 1/20\n",
      "60/60 [==============================] - 105s 2s/step - loss: 3.1439 - accuracy: 0.5585 - val_loss: 0.6832 - val_accuracy: 0.5523\n",
      "Epoch 2/20\n",
      "60/60 [==============================] - 104s 2s/step - loss: 0.6259 - accuracy: 0.6259 - val_loss: 0.5977 - val_accuracy: 0.6402\n",
      "Epoch 3/20\n",
      "60/60 [==============================] - 104s 2s/step - loss: 0.4618 - accuracy: 0.7795 - val_loss: 0.3610 - val_accuracy: 0.8285\n",
      "Epoch 4/20\n",
      "60/60 [==============================] - 103s 2s/step - loss: 0.2962 - accuracy: 0.8830 - val_loss: 0.4621 - val_accuracy: 0.7720\n",
      "Epoch 5/20\n",
      "60/60 [==============================] - 104s 2s/step - loss: 0.2356 - accuracy: 0.8955 - val_loss: 0.3524 - val_accuracy: 0.8494\n",
      "Epoch 6/20\n",
      "60/60 [==============================] - 104s 2s/step - loss: 0.2476 - accuracy: 0.9023 - val_loss: 0.1663 - val_accuracy: 0.9205\n",
      "Epoch 7/20\n",
      "60/60 [==============================] - 104s 2s/step - loss: 0.1094 - accuracy: 0.9572 - val_loss: 0.1528 - val_accuracy: 0.9435\n",
      "Epoch 8/20\n",
      "60/60 [==============================] - 104s 2s/step - loss: 0.0721 - accuracy: 0.9718 - val_loss: 0.1572 - val_accuracy: 0.9456\n",
      "Epoch 9/20\n",
      "60/60 [==============================] - 104s 2s/step - loss: 0.0565 - accuracy: 0.9828 - val_loss: 0.0637 - val_accuracy: 0.9707\n",
      "Epoch 10/20\n",
      "60/60 [==============================] - 104s 2s/step - loss: 0.0272 - accuracy: 0.9896 - val_loss: 0.1033 - val_accuracy: 0.9665\n",
      "Epoch 11/20\n",
      "60/60 [==============================] - 104s 2s/step - loss: 0.0200 - accuracy: 0.9948 - val_loss: 0.0436 - val_accuracy: 0.9874\n",
      "Epoch 12/20\n",
      "60/60 [==============================] - 105s 2s/step - loss: 0.0186 - accuracy: 0.9927 - val_loss: 0.0311 - val_accuracy: 0.9895\n",
      "Epoch 13/20\n",
      "60/60 [==============================] - 103s 2s/step - loss: 0.0403 - accuracy: 0.9864 - val_loss: 0.0817 - val_accuracy: 0.9665\n",
      "Epoch 14/20\n",
      "60/60 [==============================] - 98s 2s/step - loss: 0.0817 - accuracy: 0.9666 - val_loss: 0.1827 - val_accuracy: 0.9456\n",
      "Epoch 15/20\n",
      "60/60 [==============================] - 73s 1s/step - loss: 0.0795 - accuracy: 0.9718 - val_loss: 0.0765 - val_accuracy: 0.9644\n",
      "Epoch 16/20\n",
      "60/60 [==============================] - 73s 1s/step - loss: 0.0318 - accuracy: 0.9880 - val_loss: 0.0596 - val_accuracy: 0.9770\n",
      "Epoch 17/20\n",
      "60/60 [==============================] - 73s 1s/step - loss: 0.0322 - accuracy: 0.9901 - val_loss: 0.0469 - val_accuracy: 0.9916\n",
      "Epoch 18/20\n",
      "60/60 [==============================] - 74s 1s/step - loss: 0.0081 - accuracy: 0.9969 - val_loss: 0.0234 - val_accuracy: 0.9916\n",
      "Epoch 19/20\n",
      "60/60 [==============================] - 74s 1s/step - loss: 0.0032 - accuracy: 0.9995 - val_loss: 0.0360 - val_accuracy: 0.9916\n",
      "Epoch 20/20\n",
      "60/60 [==============================] - 74s 1s/step - loss: 0.0020 - accuracy: 0.9995 - val_loss: 0.0433 - val_accuracy: 0.9874\n"
     ]
    }
   ],
   "source": [
    "fd_model_hist = fd_model.fit(\n",
    "  train_data,\n",
    "  validation_data=val_data,\n",
    "  epochs=20\n",
    ")"
   ]
  },
  {
   "cell_type": "code",
   "execution_count": 10,
   "id": "4539bfb0",
   "metadata": {},
   "outputs": [],
   "source": [
    "from sklearn.metrics import accuracy_score\n",
    "from sklearn.metrics import f1_score\n",
    "from sklearn.metrics import confusion_matrix\n",
    "import matplotlib.pyplot as plt\n",
    "def eval_model(model, test_data):   \n",
    "    results={}\n",
    "    predicted_labels = []\n",
    "    true_labels = []\n",
    "    all_images = []\n",
    "    for images, labels in test_data:\n",
    "        true_labels.extend(labels.numpy())\n",
    "        predicted_labels.extend(tf.argmax(model.predict(images), axis=1).numpy())\n",
    "\n",
    "    # Accuracy\n",
    "    results['accuracy'] = accuracy_score(true_labels, predicted_labels)\n",
    "    \n",
    "    # F1 Score\n",
    "    results['f1_score'] = f1_score(true_labels, predicted_labels)\n",
    "        \n",
    "    cm = confusion_matrix(true_labels, predicted_labels)\n",
    "    \n",
    "    class_names = test_data.class_names\n",
    "    plt.figure(figsize=(8, 6))\n",
    "    sns.heatmap(cm, annot=True, fmt='d', cmap='Blues', xticklabels=class_names, yticklabels=class_names)\n",
    "    plt.xlabel('Predicted Labels')\n",
    "    plt.ylabel('True Labels')\n",
    "    plt.title('Confusion Matrix')\n",
    "    plt.show()\n",
    "    return results"
   ]
  },
  {
   "cell_type": "code",
   "execution_count": 11,
   "id": "bbbcd418",
   "metadata": {},
   "outputs": [
    {
     "name": "stdout",
     "output_type": "stream",
     "text": [
      "1/1 [==============================] - 0s 438ms/step\n",
      "1/1 [==============================] - 0s 271ms/step\n",
      "1/1 [==============================] - 0s 281ms/step\n",
      "1/1 [==============================] - 0s 287ms/step\n",
      "1/1 [==============================] - 0s 277ms/step\n",
      "1/1 [==============================] - 0s 292ms/step\n",
      "1/1 [==============================] - 0s 268ms/step\n",
      "1/1 [==============================] - 0s 294ms/step\n",
      "1/1 [==============================] - 0s 314ms/step\n",
      "1/1 [==============================] - 0s 263ms/step\n",
      "1/1 [==============================] - 0s 255ms/step\n",
      "1/1 [==============================] - 0s 278ms/step\n",
      "1/1 [==============================] - 0s 256ms/step\n",
      "1/1 [==============================] - 0s 267ms/step\n",
      "1/1 [==============================] - 0s 257ms/step\n",
      "1/1 [==============================] - 0s 256ms/step\n",
      "1/1 [==============================] - 0s 258ms/step\n",
      "1/1 [==============================] - 0s 269ms/step\n",
      "1/1 [==============================] - 0s 308ms/step\n"
     ]
    },
    {
     "data": {
      "image/png": "[encoded data removed]",
      "text/plain": [
       "<Figure size 576x432 with 2 Axes>"
      ]
     },
     "metadata": {
      "needs_background": "light"
     },
     "output_type": "display_data"
    },
    {
     "data": {
      "text/plain": [
       "{'accuracy': 0.9798994974874372, 'f1_score': 0.9806451612903225}"
      ]
     },
     "execution_count": 11,
     "metadata": {},
     "output_type": "execute_result"
    }
   ],
   "source": [
    "import seaborn as sns\n",
    "eval_model(fd_model, test_data)"
   ]
  },
  {
   "cell_type": "code",
   "execution_count": 13,
   "id": "2d2a0a51",
   "metadata": {},
   "outputs": [
    {
     "name": "stdout",
     "output_type": "stream",
     "text": [
      "Model size:  2.349884033203125 MB\n"
     ]
    }
   ],
   "source": [
    "fd_model_path = '../models/fd_model_v5.h5'\n",
    "fd_model.save(fd_model_path)\n",
    "fd_model_size = os.path.getsize(fd_model_path) / (1024 * 1024)\n",
    "print('Model size: ', fd_model_size, 'MB')"
   ]
  },
  {
   "cell_type": "code",
   "execution_count": null,
   "id": "6bff4bba",
   "metadata": {},
   "outputs": [],
   "source": [
    "## custom cnn is best "
   ]
  }
 ],
 "metadata": {
  "kernelspec": {
   "display_name": "Python 3 (ipykernel)",
   "language": "python",
   "name": "python3"
  },
  "language_info": {
   "codemirror_mode": {
    "name": "ipython",
    "version": 3
   },
   "file_extension": ".py",
   "mimetype": "text/x-python",
   "name": "python",
   "nbconvert_exporter": "python",
   "pygments_lexer": "ipython3",
   "version": "3.9.7"
  }
 },
 "nbformat": 4,
 "nbformat_minor": 5
}
