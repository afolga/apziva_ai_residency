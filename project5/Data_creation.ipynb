{
 "cells": [
  {
   "cell_type": "code",
   "execution_count": 11,
   "id": "324d1316",
   "metadata": {},
   "outputs": [],
   "source": [
    "import yfinance as yf\n",
    "import pandas as pd\n",
    "from yahoofinancials import YahooFinancials\n"
   ]
  },
  {
   "cell_type": "code",
   "execution_count": 3,
   "id": "665b7382",
   "metadata": {},
   "outputs": [
    {
     "name": "stderr",
     "output_type": "stream",
     "text": [
      "[*********************100%%**********************]  2 of 2 completed\n"
     ]
    }
   ],
   "source": [
    "train_data = yf.download(\"SPY AAPL\", start=\"2020-01-01\", end=\"2023-12-31\",\n",
    "                   group_by=\"ticker\")"
   ]
  },
  {
   "cell_type": "code",
   "execution_count": 4,
   "id": "85b09922",
   "metadata": {},
   "outputs": [
    {
     "name": "stderr",
     "output_type": "stream",
     "text": [
      "[*********************100%%**********************]  2 of 2 completed\n"
     ]
    }
   ],
   "source": [
    "test_data=yf.download(\"SPY AAPL\", start=\"2024-01-01\", end=\"2024-4-15\",\n",
    "                   group_by=\"ticker\")"
   ]
  },
  {
   "cell_type": "code",
   "execution_count": 8,
   "id": "fb3c6ca9",
   "metadata": {},
   "outputs": [],
   "source": [
    "train_data.to_csv('train_data.csv', index=False) \n",
    "test_data.to_csv('test_data.csv')"
   ]
  },
  {
   "cell_type": "code",
   "execution_count": 6,
   "id": "dcadcd68",
   "metadata": {},
   "outputs": [
    {
     "name": "stdout",
     "output_type": "stream",
     "text": [
      "<class 'pandas.core.frame.DataFrame'>\n"
     ]
    }
   ],
   "source": [
    "print(type(train_data))"
   ]
  },
  {
   "cell_type": "code",
   "execution_count": 15,
   "id": "4dc28acb",
   "metadata": {},
   "outputs": [],
   "source": [
    "\n",
    "aapl_df = yf.download('AAPL', \n",
    "                      start='2020-01-01', \n",
    "                      end='2023-12-31', \n",
    "                      progress=False,\n",
    ")\n",
    "aapl_df.to_csv('apple_train_data.csv')"
   ]
  },
  {
   "cell_type": "code",
   "execution_count": 16,
   "id": "64a57d59",
   "metadata": {},
   "outputs": [],
   "source": [
    " aapl_test = yf.download('AAPL', \n",
    "                      start='2024-01-01', \n",
    "                      end='2024-4-21', \n",
    "                      progress=False,\n",
    ")\n",
    "aapl_test.to_csv('apple_test_data.csv')"
   ]
  },
  {
   "cell_type": "code",
   "execution_count": 17,
   "id": "f7b6d112",
   "metadata": {},
   "outputs": [],
   "source": [
    "aapl=yf.download('AAPL', \n",
    "                      start='2020-01-01', \n",
    "                      end='2024-4-21', \n",
    "                      progress=False,\n",
    ")\n",
    "aapl.to_csv('appl_data.csv')"
   ]
  },
  {
   "cell_type": "code",
   "execution_count": null,
   "id": "651d441f",
   "metadata": {},
   "outputs": [],
   "source": []
  }
 ],
 "metadata": {
  "kernelspec": {
   "display_name": "Python 3 (ipykernel)",
   "language": "python",
   "name": "python3"
  },
  "language_info": {
   "codemirror_mode": {
    "name": "ipython",
    "version": 3
   },
   "file_extension": ".py",
   "mimetype": "text/x-python",
   "name": "python",
   "nbconvert_exporter": "python",
   "pygments_lexer": "ipython3",
   "version": "3.9.7"
  }
 },
 "nbformat": 4,
 "nbformat_minor": 5
}
