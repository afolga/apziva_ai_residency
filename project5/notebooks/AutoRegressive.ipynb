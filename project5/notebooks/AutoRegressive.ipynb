{
 "cells": [
  {
   "cell_type": "code",
   "execution_count": 11,
   "id": "3bc22587",
   "metadata": {},
   "outputs": [
    {
     "data": {
      "text/html": [
       "<div>\n",
       "<style scoped>\n",
       "    .dataframe tbody tr th:only-of-type {\n",
       "        vertical-align: middle;\n",
       "    }\n",
       "\n",
       "    .dataframe tbody tr th {\n",
       "        vertical-align: top;\n",
       "    }\n",
       "\n",
       "    .dataframe thead th {\n",
       "        text-align: right;\n",
       "    }\n",
       "</style>\n",
       "<table border=\"1\" class=\"dataframe\">\n",
       "  <thead>\n",
       "    <tr style=\"text-align: right;\">\n",
       "      <th></th>\n",
       "      <th>Date</th>\n",
       "      <th>Open</th>\n",
       "      <th>High</th>\n",
       "      <th>Low</th>\n",
       "      <th>Close</th>\n",
       "      <th>Adj Close</th>\n",
       "      <th>Volume</th>\n",
       "    </tr>\n",
       "  </thead>\n",
       "  <tbody>\n",
       "    <tr>\n",
       "      <th>0</th>\n",
       "      <td>2020-01-02</td>\n",
       "      <td>74.059998</td>\n",
       "      <td>75.150002</td>\n",
       "      <td>73.797501</td>\n",
       "      <td>75.087502</td>\n",
       "      <td>73.059410</td>\n",
       "      <td>135480400</td>\n",
       "    </tr>\n",
       "    <tr>\n",
       "      <th>1</th>\n",
       "      <td>2020-01-03</td>\n",
       "      <td>74.287498</td>\n",
       "      <td>75.144997</td>\n",
       "      <td>74.125000</td>\n",
       "      <td>74.357498</td>\n",
       "      <td>72.349129</td>\n",
       "      <td>146322800</td>\n",
       "    </tr>\n",
       "    <tr>\n",
       "      <th>2</th>\n",
       "      <td>2020-01-06</td>\n",
       "      <td>73.447502</td>\n",
       "      <td>74.989998</td>\n",
       "      <td>73.187500</td>\n",
       "      <td>74.949997</td>\n",
       "      <td>72.925629</td>\n",
       "      <td>118387200</td>\n",
       "    </tr>\n",
       "    <tr>\n",
       "      <th>3</th>\n",
       "      <td>2020-01-07</td>\n",
       "      <td>74.959999</td>\n",
       "      <td>75.224998</td>\n",
       "      <td>74.370003</td>\n",
       "      <td>74.597504</td>\n",
       "      <td>72.582664</td>\n",
       "      <td>108872000</td>\n",
       "    </tr>\n",
       "    <tr>\n",
       "      <th>4</th>\n",
       "      <td>2020-01-08</td>\n",
       "      <td>74.290001</td>\n",
       "      <td>76.110001</td>\n",
       "      <td>74.290001</td>\n",
       "      <td>75.797501</td>\n",
       "      <td>73.750252</td>\n",
       "      <td>132079200</td>\n",
       "    </tr>\n",
       "  </tbody>\n",
       "</table>\n",
       "</div>"
      ],
      "text/plain": [
       "         Date       Open       High        Low      Close  Adj Close  \\\n",
       "0  2020-01-02  74.059998  75.150002  73.797501  75.087502  73.059410   \n",
       "1  2020-01-03  74.287498  75.144997  74.125000  74.357498  72.349129   \n",
       "2  2020-01-06  73.447502  74.989998  73.187500  74.949997  72.925629   \n",
       "3  2020-01-07  74.959999  75.224998  74.370003  74.597504  72.582664   \n",
       "4  2020-01-08  74.290001  76.110001  74.290001  75.797501  73.750252   \n",
       "\n",
       "      Volume  \n",
       "0  135480400  \n",
       "1  146322800  \n",
       "2  118387200  \n",
       "3  108872000  \n",
       "4  132079200  "
      ]
     },
     "execution_count": 11,
     "metadata": {},
     "output_type": "execute_result"
    }
   ],
   "source": [
    "import pandas as pd\n",
    "train_data=pd.read_csv(r\"C:\\Users\\agnes\\Documents\\apziva_ai_residency\\project5\\data\\apple_train_data.csv\")\n",
    "test_data=pd.read_csv(r\"C:\\Users\\agnes\\Documents\\apziva_ai_residency\\project5\\data\\apple_test_data.csv\")\n",
    "train_data.head()"
   ]
  },
  {
   "cell_type": "code",
   "execution_count": 12,
   "id": "0988fa65",
   "metadata": {},
   "outputs": [
    {
     "data": {
      "text/plain": [
       "Text(0.5, 1.0, 'PACF')"
      ]
     },
     "execution_count": 12,
     "metadata": {},
     "output_type": "execute_result"
    },
    {
     "data": {
      "image/png": "[encoded data removed]",
      "text/plain": [
       "<Figure size 432x288 with 1 Axes>"
      ]
     },
     "metadata": {
      "needs_background": "light"
     },
     "output_type": "display_data"
    }
   ],
   "source": [
    "from statsmodels.tsa.stattools import acf, pacf\n",
    "plt.bar(x=np.arange(0,31), height=pacf(train_data.Close))\n",
    "plt.title(\"PACF\")"
   ]
  },
  {
   "cell_type": "code",
   "execution_count": 13,
   "id": "a8581ee7",
   "metadata": {},
   "outputs": [
    {
     "data": {
      "text/plain": [
       "Text(0.5, 1.0, 'ACF')"
      ]
     },
     "execution_count": 13,
     "metadata": {},
     "output_type": "execute_result"
    },
    {
     "data": {
      "image/png": "[encoded data removed]",
      "text/plain": [
       "<Figure size 432x288 with 1 Axes>"
      ]
     },
     "metadata": {
      "needs_background": "light"
     },
     "output_type": "display_data"
    }
   ],
   "source": [
    "plt.bar(x=np.arange(0,31), height=acf(train_data.Close))\n",
    "plt.title(\"ACF\")"
   ]
  },
  {
   "cell_type": "code",
   "execution_count": 16,
   "id": "fec13ef1",
   "metadata": {},
   "outputs": [],
   "source": [
    "appl_train = train_data.Close.diff().fillna(0)\n",
    "appl_test = test_data.Close.diff().fillna(0)\n",
    "# Create lag\n",
    "apple_train_lag = appl_train.shift(1).fillna(0)\n",
    "apple_test_lag = appl_test.shift(1).fillna(0)"
   ]
  },
  {
   "cell_type": "code",
   "execution_count": 17,
   "id": "d44be3af",
   "metadata": {},
   "outputs": [],
   "source": [
    "train_regression=pd.DataFrame(appl_train)\n",
    "test_regression=pd.DataFrame(appl_test)\n",
    "train_regression[\"Lag 1\"]=apple_train_lag\n",
    "test_regression[\"Lag 1\"]=apple_test_lag"
   ]
  },
  {
   "cell_type": "code",
   "execution_count": 23,
   "id": "0cedda57",
   "metadata": {},
   "outputs": [
    {
     "data": {
      "text/html": [
       "<table class=\"simpletable\">\n",
       "<caption>OLS Regression Results</caption>\n",
       "<tr>\n",
       "  <th>Dep. Variable:</th>          <td>Close</td>      <th>  R-squared:         </th> <td>   0.002</td>\n",
       "</tr>\n",
       "<tr>\n",
       "  <th>Model:</th>                   <td>OLS</td>       <th>  Adj. R-squared:    </th> <td>  -0.089</td>\n",
       "</tr>\n",
       "<tr>\n",
       "  <th>Method:</th>             <td>Least Squares</td>  <th>  F-statistic:       </th> <td> 0.01739</td>\n",
       "</tr>\n",
       "<tr>\n",
       "  <th>Date:</th>             <td>Sun, 21 Apr 2024</td> <th>  Prob (F-statistic):</th>  <td> 0.897</td> \n",
       "</tr>\n",
       "<tr>\n",
       "  <th>Time:</th>                 <td>19:20:37</td>     <th>  Log-Likelihood:    </th> <td> -22.515</td>\n",
       "</tr>\n",
       "<tr>\n",
       "  <th>No. Observations:</th>      <td>    13</td>      <th>  AIC:               </th> <td>   49.03</td>\n",
       "</tr>\n",
       "<tr>\n",
       "  <th>Df Residuals:</th>          <td>    11</td>      <th>  BIC:               </th> <td>   50.16</td>\n",
       "</tr>\n",
       "<tr>\n",
       "  <th>Df Model:</th>              <td>     1</td>      <th>                     </th>     <td> </td>   \n",
       "</tr>\n",
       "<tr>\n",
       "  <th>Covariance Type:</th>      <td>nonrobust</td>    <th>                     </th>     <td> </td>   \n",
       "</tr>\n",
       "</table>\n",
       "<table class=\"simpletable\">\n",
       "<tr>\n",
       "    <td></td>       <th>coef</th>     <th>std err</th>      <th>t</th>      <th>P>|t|</th>  <th>[0.025</th>    <th>0.975]</th>  \n",
       "</tr>\n",
       "<tr>\n",
       "  <th>const</th> <td>   -0.0559</td> <td>    0.415</td> <td>   -0.135</td> <td> 0.895</td> <td>   -0.969</td> <td>    0.857</td>\n",
       "</tr>\n",
       "<tr>\n",
       "  <th>Lag 1</th> <td>   -0.0362</td> <td>    0.274</td> <td>   -0.132</td> <td> 0.897</td> <td>   -0.640</td> <td>    0.568</td>\n",
       "</tr>\n",
       "</table>\n",
       "<table class=\"simpletable\">\n",
       "<tr>\n",
       "  <th>Omnibus:</th>       <td> 3.961</td> <th>  Durbin-Watson:     </th> <td>   1.581</td>\n",
       "</tr>\n",
       "<tr>\n",
       "  <th>Prob(Omnibus):</th> <td> 0.138</td> <th>  Jarque-Bera (JB):  </th> <td>   1.646</td>\n",
       "</tr>\n",
       "<tr>\n",
       "  <th>Skew:</th>          <td> 0.833</td> <th>  Prob(JB):          </th> <td>   0.439</td>\n",
       "</tr>\n",
       "<tr>\n",
       "  <th>Kurtosis:</th>      <td> 3.517</td> <th>  Cond. No.          </th> <td>    1.53</td>\n",
       "</tr>\n",
       "</table><br/><br/>Notes:<br/>[1] Standard Errors assume that the covariance matrix of the errors is correctly specified."
      ],
      "text/latex": [
       "\\begin{center}\n",
       "\\begin{tabular}{lclc}\n",
       "\\toprule\n",
       "\\textbf{Dep. Variable:}    &      Close       & \\textbf{  R-squared:         } &     0.002   \\\\\n",
       "\\textbf{Model:}            &       OLS        & \\textbf{  Adj. R-squared:    } &    -0.089   \\\\\n",
       "\\textbf{Method:}           &  Least Squares   & \\textbf{  F-statistic:       } &   0.01739   \\\\\n",
       "\\textbf{Date:}             & Sun, 21 Apr 2024 & \\textbf{  Prob (F-statistic):} &    0.897    \\\\\n",
       "\\textbf{Time:}             &     19:20:37     & \\textbf{  Log-Likelihood:    } &   -22.515   \\\\\n",
       "\\textbf{No. Observations:} &          13      & \\textbf{  AIC:               } &     49.03   \\\\\n",
       "\\textbf{Df Residuals:}     &          11      & \\textbf{  BIC:               } &     50.16   \\\\\n",
       "\\textbf{Df Model:}         &           1      & \\textbf{                     } &             \\\\\n",
       "\\textbf{Covariance Type:}  &    nonrobust     & \\textbf{                     } &             \\\\\n",
       "\\bottomrule\n",
       "\\end{tabular}\n",
       "\\begin{tabular}{lcccccc}\n",
       "               & \\textbf{coef} & \\textbf{std err} & \\textbf{t} & \\textbf{P$> |$t$|$} & \\textbf{[0.025} & \\textbf{0.975]}  \\\\\n",
       "\\midrule\n",
       "\\textbf{const} &      -0.0559  &        0.415     &    -0.135  &         0.895        &       -0.969    &        0.857     \\\\\n",
       "\\textbf{Lag 1} &      -0.0362  &        0.274     &    -0.132  &         0.897        &       -0.640    &        0.568     \\\\\n",
       "\\bottomrule\n",
       "\\end{tabular}\n",
       "\\begin{tabular}{lclc}\n",
       "\\textbf{Omnibus:}       &  3.961 & \\textbf{  Durbin-Watson:     } &    1.581  \\\\\n",
       "\\textbf{Prob(Omnibus):} &  0.138 & \\textbf{  Jarque-Bera (JB):  } &    1.646  \\\\\n",
       "\\textbf{Skew:}          &  0.833 & \\textbf{  Prob(JB):          } &    0.439  \\\\\n",
       "\\textbf{Kurtosis:}      &  3.517 & \\textbf{  Cond. No.          } &     1.53  \\\\\n",
       "\\bottomrule\n",
       "\\end{tabular}\n",
       "%\\caption{OLS Regression Results}\n",
       "\\end{center}\n",
       "\n",
       "Notes: \\newline\n",
       " [1] Standard Errors assume that the covariance matrix of the errors is correctly specified."
      ],
      "text/plain": [
       "<class 'statsmodels.iolib.summary.Summary'>\n",
       "\"\"\"\n",
       "                            OLS Regression Results                            \n",
       "==============================================================================\n",
       "Dep. Variable:                  Close   R-squared:                       0.002\n",
       "Model:                            OLS   Adj. R-squared:                 -0.089\n",
       "Method:                 Least Squares   F-statistic:                   0.01739\n",
       "Date:                Sun, 21 Apr 2024   Prob (F-statistic):              0.897\n",
       "Time:                        19:20:37   Log-Likelihood:                -22.515\n",
       "No. Observations:                  13   AIC:                             49.03\n",
       "Df Residuals:                      11   BIC:                             50.16\n",
       "Df Model:                           1                                         \n",
       "Covariance Type:            nonrobust                                         \n",
       "==============================================================================\n",
       "                 coef    std err          t      P>|t|      [0.025      0.975]\n",
       "------------------------------------------------------------------------------\n",
       "const         -0.0559      0.415     -0.135      0.895      -0.969       0.857\n",
       "Lag 1         -0.0362      0.274     -0.132      0.897      -0.640       0.568\n",
       "==============================================================================\n",
       "Omnibus:                        3.961   Durbin-Watson:                   1.581\n",
       "Prob(Omnibus):                  0.138   Jarque-Bera (JB):                1.646\n",
       "Skew:                           0.833   Prob(JB):                        0.439\n",
       "Kurtosis:                       3.517   Cond. No.                         1.53\n",
       "==============================================================================\n",
       "\n",
       "Notes:\n",
       "[1] Standard Errors assume that the covariance matrix of the errors is correctly specified.\n",
       "\"\"\""
      ]
     },
     "execution_count": 23,
     "metadata": {},
     "output_type": "execute_result"
    }
   ],
   "source": [
    "import statsmodels.api as sm\n",
    "y = train_regression[\"Close\"].iloc[-13:]\n",
    "x = train_regression[\"Lag 1\"].iloc[-13:]\n",
    "x = sm.add_constant(x)\n",
    "model = sm.OLS(y,x)\n",
    "results = model.fit()\n",
    "results.summary()\n"
   ]
  },
  {
   "cell_type": "code",
   "execution_count": 24,
   "id": "6439c2b1",
   "metadata": {},
   "outputs": [
    {
     "name": "stdout",
     "output_type": "stream",
     "text": [
      "Collecting src\n",
      "  Using cached src-0.0.7.zip (6.3 kB)\n",
      "  Preparing metadata (setup.py): started\n",
      "  Preparing metadata (setup.py): finished with status 'done'\n",
      "Building wheels for collected packages: src\n",
      "  Building wheel for src (setup.py): started\n",
      "  Building wheel for src (setup.py): finished with status 'error'\n",
      "  Running setup.py clean for src\n",
      "Failed to build src\n",
      "Note: you may need to restart the kernel to use updated packages.\n"
     ]
    },
    {
     "name": "stderr",
     "output_type": "stream",
     "text": [
      "WARNING: Ignoring invalid distribution -rotobuf (c:\\users\\agnes\\anaconda3\\lib\\site-packages)\n",
      "  error: subprocess-exited-with-error\n",
      "  \n",
      "  python setup.py bdist_wheel did not run successfully.\n",
      "  exit code: 1\n",
      "  \n",
      "  [43 lines of output]\n",
      "  running bdist_wheel\n",
      "  running build\n",
      "  running build_py\n",
      "  creating build\n",
      "  creating build\\lib\n",
      "  creating build\\lib\\src\n",
      "  copying src\\__init__.py -> build\\lib\\src\n",
      "  running egg_info\n",
      "  writing src.egg-info\\PKG-INFO\n",
      "  writing dependency_links to src.egg-info\\dependency_links.txt\n",
      "  writing entry points to src.egg-info\\entry_points.txt\n",
      "  writing requirements to src.egg-info\\requires.txt\n",
      "  writing top-level names to src.egg-info\\top_level.txt\n",
      "  reading manifest file 'src.egg-info\\SOURCES.txt'\n",
      "  reading manifest template 'MANIFEST.in'\n",
      "  adding license file 'LICENSE.rst'\n",
      "  writing manifest file 'src.egg-info\\SOURCES.txt'\n",
      "  Traceback (most recent call last):\n",
      "    File \"<string>\", line 2, in <module>\n",
      "    File \"<pip-setuptools-caller>\", line 34, in <module>\n",
      "    File \"C:\\Users\\agnes\\AppData\\Local\\Temp\\pip-install-yaktn94j\\src_6ec5263431494246bf77a946ed1974a4\\setup.py\", line 70, in <module>\n",
      "      setup(\n",
      "    File \"C:\\Users\\agnes\\anaconda3\\lib\\site-packages\\setuptools\\__init__.py\", line 153, in setup\n",
      "      return distutils.core.setup(**attrs)\n",
      "    File \"C:\\Users\\agnes\\anaconda3\\lib\\distutils\\core.py\", line 148, in setup\n",
      "      dist.run_commands()\n",
      "    File \"C:\\Users\\agnes\\anaconda3\\lib\\distutils\\dist.py\", line 966, in run_commands\n",
      "      self.run_command(cmd)\n",
      "    File \"C:\\Users\\agnes\\anaconda3\\lib\\distutils\\dist.py\", line 985, in run_command\n",
      "      cmd_obj.run()\n",
      "    File \"C:\\Users\\agnes\\anaconda3\\lib\\site-packages\\wheel\\bdist_wheel.py\", line 301, in run\n",
      "      install = self.reinitialize_command('install',\n",
      "    File \"C:\\Users\\agnes\\anaconda3\\lib\\site-packages\\setuptools\\__init__.py\", line 208, in reinitialize_command\n",
      "      cmd = _Command.reinitialize_command(self, command, reinit_subcommands)\n",
      "    File \"C:\\Users\\agnes\\anaconda3\\lib\\distutils\\cmd.py\", line 305, in reinitialize_command\n",
      "      return self.distribution.reinitialize_command(command,\n",
      "    File \"C:\\Users\\agnes\\anaconda3\\lib\\distutils\\dist.py\", line 950, in reinitialize_command\n",
      "      for sub in command.get_sub_commands():\n",
      "    File \"C:\\Users\\agnes\\anaconda3\\lib\\distutils\\cmd.py\", line 324, in get_sub_commands\n",
      "      if method is None or method(self):\n",
      "    File \"C:\\Users\\agnes\\anaconda3\\lib\\distutils\\command\\install.py\", line 632, in has_lib\n",
      "      return (self.distribution.has_pure_modules() or\n",
      "  AttributeError: 'NoneType' object has no attribute 'has_pure_modules'\n",
      "  [end of output]\n",
      "  \n",
      "  note: This error originates from a subprocess, and is likely not a problem with pip.\n",
      "  ERROR: Failed building wheel for src\n",
      "ERROR: Could not build wheels for src, which is required to install pyproject.toml-based projects\n"
     ]
    }
   ],
   "source": [
    "pip install src"
   ]
  },
  {
   "cell_type": "code",
   "execution_count": null,
   "id": "70d25d6b",
   "metadata": {},
   "outputs": [],
   "source": []
  }
 ],
 "metadata": {
  "kernelspec": {
   "display_name": "Python 3 (ipykernel)",
   "language": "python",
   "name": "python3"
  },
  "language_info": {
   "codemirror_mode": {
    "name": "ipython",
    "version": 3
   },
   "file_extension": ".py",
   "mimetype": "text/x-python",
   "name": "python",
   "nbconvert_exporter": "python",
   "pygments_lexer": "ipython3",
   "version": "3.9.7"
  }
 },
 "nbformat": 4,
 "nbformat_minor": 5
}
