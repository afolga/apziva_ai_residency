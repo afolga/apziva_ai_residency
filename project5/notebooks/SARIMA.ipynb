{
 "cells": [
  {
   "cell_type": "code",
   "execution_count": 12,
   "id": "b3c88f1e",
   "metadata": {},
   "outputs": [],
   "source": [
    "from statsmodels.tsa.api import SARIMAX\n",
    "from pmdarima import auto_arima\n",
    "import pandas as pd\n",
    "import numpy as np\n",
    "import matplotlib.pyplot as plt\n",
    "apple_data=pd.read_csv(r\"C:\\Users\\agnes\\Documents\\apziva_ai_residency\\project5\\data\\appl_data.csv\")\n"
   ]
  },
  {
   "cell_type": "code",
   "execution_count": 23,
   "id": "3cd70d5a",
   "metadata": {},
   "outputs": [
    {
     "name": "stdout",
     "output_type": "stream",
     "text": [
      "                                     SARIMAX Results                                      \n",
      "==========================================================================================\n",
      "Dep. Variable:                              Close   No. Observations:                 1082\n",
      "Model:             SARIMAX(1, 1, 1)x(1, 1, 1, 12)   Log Likelihood               -2580.029\n",
      "Date:                            Mon, 06 May 2024   AIC                           5170.057\n",
      "Time:                                    20:15:11   BIC                           5194.930\n",
      "Sample:                                         0   HQIC                          5179.480\n",
      "                                           - 1082                                         \n",
      "Covariance Type:                              opg                                         \n",
      "==============================================================================\n",
      "                 coef    std err          z      P>|z|      [0.025      0.975]\n",
      "------------------------------------------------------------------------------\n",
      "ar.L1          0.5595      0.472      1.186      0.235      -0.365       1.484\n",
      "ma.L1         -0.5906      0.461     -1.280      0.201      -1.495       0.314\n",
      "ar.S.L12      -0.0221      0.030     -0.742      0.458      -0.081       0.036\n",
      "ma.S.L12      -0.9995      0.560     -1.786      0.074      -2.096       0.097\n",
      "sigma2         6.9484      3.853      1.803      0.071      -0.604      14.501\n",
      "===================================================================================\n",
      "Ljung-Box (L1) (Q):                   0.00   Jarque-Bera (JB):               101.98\n",
      "Prob(Q):                              0.98   Prob(JB):                         0.00\n",
      "Heteroskedasticity (H):               0.84   Skew:                            -0.05\n",
      "Prob(H) (two-sided):                  0.10   Kurtosis:                         4.51\n",
      "===================================================================================\n",
      "\n",
      "Warnings:\n",
      "[1] Covariance matrix calculated using the outer product of gradients (complex-step).\n"
     ]
    }
   ],
   "source": [
    "\n",
    "# Define SARIMA parameters\n",
    "p, d, q = 1, 1, 1\n",
    "P, D, Q, s = 1, 1, 1, 12  # Assuming monthly seasonality\n",
    "sarimax_model = SARIMAX(apple_data['Close'], order=(p, d, q), seasonal_order=(P, D, Q, s))\n",
    "sarimax_model_fit = sarimax_model.fit()\n",
    "print(sarimax_model_fit.summary())"
   ]
  },
  {
   "cell_type": "code",
   "execution_count": 25,
   "id": "685fe079",
   "metadata": {},
   "outputs": [
    {
     "name": "stdout",
     "output_type": "stream",
     "text": [
      "970\n",
      "1078\n",
      "109\n"
     ]
    },
    {
     "data": {
      "text/plain": [
       "973    5.219274\n",
       "974    5.233459\n",
       "975    5.236495\n",
       "976    5.245497\n",
       "977    5.245391\n",
       "Name: Close, dtype: float64"
      ]
     },
     "execution_count": 25,
     "metadata": {},
     "output_type": "execute_result"
    }
   ],
   "source": [
    "df_close = apple_data['Close']\n",
    "df_log = np.log(df_close)\n",
    "train_data, test_data = df_log[3:int(len(df_log)*0.9)], df_log[int(len(df_log)*0.9):]\n",
    "start_index = len(train_data)\n",
    "print(start_index)\n",
    "end_index = len(train_data)+len(test_data)-1\n",
    "print(end_index)\n",
    "forecast = sarimax_model_fit.predict(start = start_index, end = end_index)\n",
    "forecast.index = df_log.index[start_index : end_index+1]\n",
    "print(len(forecast))\n",
    "test_data.head()"
   ]
  },
  {
   "cell_type": "code",
   "execution_count": 26,
   "id": "b8541786",
   "metadata": {},
   "outputs": [
    {
     "data": {
      "text/plain": [
       "970    182.164285\n",
       "971    182.696084\n",
       "972    182.060874\n",
       "973    186.842183\n",
       "974    184.664411\n",
       "Name: predicted_mean, dtype: float64"
      ]
     },
     "execution_count": 26,
     "metadata": {},
     "output_type": "execute_result"
    }
   ],
   "source": [
    "forecast.head()"
   ]
  },
  {
   "cell_type": "code",
   "execution_count": 27,
   "id": "efe44293",
   "metadata": {},
   "outputs": [
    {
     "data": {
      "image/png": "[encoded data removed]",
      "text/plain": [
       "<Figure size 1080x720 with 1 Axes>"
      ]
     },
     "metadata": {
      "needs_background": "light"
     },
     "output_type": "display_data"
    }
   ],
   "source": [
    "plt.figure(figsize=(15,10))\n",
    "test_data.plot()\n",
    "forecast.plot()\n",
    "plt.xlabel('Date')\n",
    "plt.ylabel('price')\n",
    "plt.title('SARIMAX predictions')\n",
    "plt.legend()\n",
    "plt.show()"
   ]
  },
  {
   "cell_type": "code",
   "execution_count": null,
   "id": "54dd8886",
   "metadata": {},
   "outputs": [],
   "source": []
  }
 ],
 "metadata": {
  "kernelspec": {
   "display_name": "Python 3 (ipykernel)",
   "language": "python",
   "name": "python3"
  },
  "language_info": {
   "codemirror_mode": {
    "name": "ipython",
    "version": 3
   },
   "file_extension": ".py",
   "mimetype": "text/x-python",
   "name": "python",
   "nbconvert_exporter": "python",
   "pygments_lexer": "ipython3",
   "version": "3.9.7"
  }
 },
 "nbformat": 4,
 "nbformat_minor": 5
}
