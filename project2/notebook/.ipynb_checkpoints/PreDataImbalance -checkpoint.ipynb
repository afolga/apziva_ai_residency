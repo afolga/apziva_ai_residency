{
 "cells": [
  {
   "cell_type": "code",
   "execution_count": 1,
   "id": "fd7be7f9",
   "metadata": {},
   "outputs": [],
   "source": [
    "import pandas as pd\n",
    "import numpy as np"
   ]
  },
  {
   "cell_type": "code",
   "execution_count": 6,
   "id": "b38c0538",
   "metadata": {},
   "outputs": [
    {
     "name": "stdout",
     "output_type": "stream",
     "text": [
      "       age           job   marital  education default  balance housing loan  \\\n",
      "0       58    management   married   tertiary      no     2143     yes   no   \n",
      "1       44    technician    single  secondary      no       29     yes   no   \n",
      "2       33  entrepreneur   married  secondary      no        2     yes  yes   \n",
      "3       47   blue-collar   married    unknown      no     1506     yes   no   \n",
      "4       33       unknown    single    unknown      no        1      no   no   \n",
      "...    ...           ...       ...        ...     ...      ...     ...  ...   \n",
      "39995   53    technician   married   tertiary      no      395      no   no   \n",
      "39996   30    management    single   tertiary      no     3340      no   no   \n",
      "39997   54         admin  divorced  secondary      no      200      no   no   \n",
      "39998   34    management   married   tertiary      no     1047      no   no   \n",
      "39999   38    technician   married  secondary      no     1442     yes   no   \n",
      "\n",
      "        contact  day month  duration  campaign    y  \n",
      "0       unknown    5   may       261         1   no  \n",
      "1       unknown    5   may       151         1   no  \n",
      "2       unknown    5   may        76         1   no  \n",
      "3       unknown    5   may        92         1   no  \n",
      "4       unknown    5   may       198         1   no  \n",
      "...         ...  ...   ...       ...       ...  ...  \n",
      "39995  cellular    3   jun       107         1   no  \n",
      "39996  cellular    3   jun       238         3  yes  \n",
      "39997  cellular    3   jun       170         1  yes  \n",
      "39998  cellular    3   jun       342         1   no  \n",
      "39999  cellular    3   jun       113         1   no  \n",
      "\n",
      "[40000 rows x 14 columns]\n"
     ]
    }
   ],
   "source": [
    "data=pd.read_csv(\"C:\\\\Users\\\\agnes\\\\Documents\\\\apziva_ai_residency\\\\project2\\\\data\\\\term-deposit-marketing-2020.csv\")\n",
    "print(data)"
   ]
  },
  {
   "cell_type": "code",
   "execution_count": 7,
   "id": "d66c3593",
   "metadata": {},
   "outputs": [
    {
     "name": "stdout",
     "output_type": "stream",
     "text": [
      "class 0: (0, 14)\n",
      "class 1: (0, 14)\n"
     ]
    }
   ],
   "source": [
    "# data imbalance - check for imbalance in final target attribute (y)\n",
    "\n",
    "class_count_0, class_count_1 = data['y'].value_counts()\n",
    "\n",
    "# Separate class\n",
    "class_0 = data[data['y'] == 'no']\n",
    "class_1 = data[data['y'] == 'yes']# print the shape of the class\n",
    "print('class 0:', class_0.shape)\n",
    "print('class 1:', class_1.shape)"
   ]
  },
  {
   "cell_type": "code",
   "execution_count": null,
   "id": "89cdedd6",
   "metadata": {},
   "outputs": [],
   "source": [
    "# random forest --> check information gain \n",
    "# before logistic and random forest -> check correlation matrix and see what y is highly correlated"
   ]
  }
 ],
 "metadata": {
  "kernelspec": {
   "display_name": "Python 3 (ipykernel)",
   "language": "python",
   "name": "python3"
  },
  "language_info": {
   "codemirror_mode": {
    "name": "ipython",
    "version": 3
   },
   "file_extension": ".py",
   "mimetype": "text/x-python",
   "name": "python",
   "nbconvert_exporter": "python",
   "pygments_lexer": "ipython3",
   "version": "3.9.7"
  }
 },
 "nbformat": 4,
 "nbformat_minor": 5
}
